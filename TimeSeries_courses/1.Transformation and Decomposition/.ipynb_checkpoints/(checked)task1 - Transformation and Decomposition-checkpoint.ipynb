{
 "cells": [
  {
   "cell_type": "markdown",
   "id": "f489b1b5",
   "metadata": {},
   "source": [
    "# Transformation and Decomposition. Taks1\n",
    "\n",
    "    author: Oleg Naidovich"
   ]
  },
  {
   "cell_type": "code",
   "execution_count": null,
   "id": "eb83fff4",
   "metadata": {
    "ExecuteTime": {
     "end_time": "2022-06-28T12:22:16.848957Z",
     "start_time": "2022-06-28T12:22:14.699076Z"
    }
   },
   "outputs": [],
   "source": [
    "from tsdata.raw import available_data, load_data\n",
    "\n",
    "import pandas as pd\n",
    "import numpy as np\n",
    "\n",
    "import seaborn as sns\n",
    "import matplotlib.pyplot as plt\n",
    "import plotly.express as px\n",
    "plt.rcParams[\"figure.figsize\"] = (18, 8)\n",
    "pd.set_option('display.max_columns', 500)\n",
    "\n",
    "from statsmodels.tsa.seasonal import seasonal_decompose\n",
    "from statsmodels.graphics.tsaplots import plot_acf, plot_pacf\n",
    "from statsmodels.tsa.stattools import adfuller, kpss, acf, pacf\n",
    "from statsmodels.distributions.empirical_distribution import ECDF\n",
    "import scipy.stats as st\n",
    "\n",
    "from sklearn.metrics import mean_absolute_error\n",
    "\n",
    "import warnings\n",
    "warnings.filterwarnings('ignore')"
   ]
  },
  {
   "cell_type": "code",
   "execution_count": null,
   "id": "aeba0c1c",
   "metadata": {
    "ExecuteTime": {
     "end_time": "2022-06-28T12:22:16.895079Z",
     "start_time": "2022-06-28T12:22:16.851763Z"
    }
   },
   "outputs": [],
   "source": [
    "def plot_series(data, legend='', title=''):\n",
    "    plt.figure(figsize=(20, 5))\n",
    "    plt.plot(data, '-d', color='navy', markersize=3)\n",
    "    plt.legend([legend], loc='upper right')\n",
    "    plt.grid(linestyle=':', color='k')\n",
    "    plt.title(title)\n",
    "\n",
    "\n",
    "def plot_decomposition(decomposition):\n",
    "    plt.subplots(3, 1, figsize=(20, 21))\n",
    "\n",
    "    plt.subplot(3, 1, 1)\n",
    "    plt.plot(decomposition.trend, color='navy', markersize=3, label='trend')\n",
    "    plt.legend(loc='upper right')\n",
    "    plt.grid(linestyle=':', color='k')\n",
    "    plt.title(\"Trend\")\n",
    "\n",
    "\n",
    "    plt.subplot(3, 1, 2)\n",
    "    plt.plot(decomposition.seasonal, \n",
    "             '-gd', markersize=3, label='seasonal')\n",
    "    plt.plot([decomposition.seasonal.index[0], decomposition.seasonal.index[-1]], \n",
    "             decomposition.seasonal.mean()*np.array([1, 1]), '--k', \n",
    "             label=f\"mean = {decomposition.seasonal.mean():.3g}\")\n",
    "    plt.legend(loc='upper right')\n",
    "    plt.grid(linestyle=':', color='k')\n",
    "    plt.title(f\"Seasonal : range={(decomposition.seasonal.max() - decomposition.seasonal.min()):.3g}\")\n",
    "\n",
    "\n",
    "    plt.subplot(3, 1, 3)\n",
    "    plt.plot(decomposition.resid, '-o', color='maroon', markersize=3,  label='residuals')\n",
    "    plt.plot([decomposition.resid.index[0], decomposition.resid.index[-1]], \n",
    "             decomposition.resid.mean()*np.array([1, 1]), '--k', \n",
    "             label=f\"mean = {decomposition.resid.mean():.3g}\")\n",
    "    plt.legend(loc='upper right')\n",
    "    plt.grid(linestyle=':', color='k')\n",
    "    plt.title(\"Residuals\")\n",
    "\n",
    "    plt.show()\n",
    "    \n",
    "\n",
    "def plot_ACF(data, decomposition, lags=50):\n",
    "#     if lags == None:\n",
    "#         lags = len(data) - 1\n",
    "\n",
    "    fig, axes = plt.subplots(4, 1, figsize=(15, 4*6))\n",
    "    \n",
    "!    plot_acf(data, ax=axes[0], \n",
    "             lags=lags, \n",
    "             vlines_kwargs={'color' : 'b'},\n",
    "             markerfacecolor='b', markeredgecolor='b', \n",
    "             title='Autocorrelation of target');\n",
    "\n",
    "    trend = decomposition.trend\n",
    "    plot_acf(trend.dropna(), \n",
    "             lags=lags, \n",
    "             vlines_kwargs={'color' : 'navy'}, \n",
    "             markerfacecolor='navy', markeredgecolor='navy', \n",
    "             title='Autocorrelation of trend');\n",
    "\n",
    "    seasonal = decomposition.seasonal\n",
    "    plot_acf(seasonal, \n",
    "             lags=lags, \n",
    "             vlines_kwargs={'color' : 'g'}, \n",
    "             markerfacecolor='g', markeredgecolor='g', \n",
    "             title='Autocorrelation of seasonal');\n",
    "\n",
    "    resid = decomposition.resid\n",
    "    plot_acf(resid.dropna(), \n",
    "             lags=lags,   \n",
    "             vlines_kwargs={'color' : 'maroon'}, \n",
    "             markerfacecolor='maroon', markeredgecolor='maroon', \n",
    "             title='Autocorrelation of residuals');\n",
    "\n",
    "\n",
    "    plt.show()\n",
    "    \n",
    "    \n",
    "def plot_PACF(data, decomposition, lags=36):\n",
    "    plot_pacf(data, \n",
    "             lags=lags, \n",
    "             vlines_kwargs={'color' : 'b'},\n",
    "             markerfacecolor='b', markeredgecolor='b', \n",
    "             title='Partial autocorrelation of target');\n",
    "\n",
    "    trend = decomposition.trend\n",
    "    plot_pacf(trend.dropna(), \n",
    "             lags=lags, \n",
    "             vlines_kwargs={'color' : 'navy'}, \n",
    "             markerfacecolor='navy', markeredgecolor='navy', \n",
    "             title='Partial autocorrelation of trend');\n",
    "\n",
    "    seasonal = decomposition.seasonal\n",
    "    try:\n",
    "        plot_pacf(seasonal, \n",
    "                 lags=lags, \n",
    "                 vlines_kwargs={'color' : 'g'}, \n",
    "                 markerfacecolor='g', markeredgecolor='g', \n",
    "                 title='Partial autocorrelation of seasonal')\n",
    "    except Exception as exc:\n",
    "        print(exc)\n",
    "        \n",
    "\n",
    "    resid = decomposition.resid\n",
    "    try:\n",
    "        plot_pacf(resid.dropna(), \n",
    "                 lags=lags,   \n",
    "                 vlines_kwargs={'color' : 'maroon'}, \n",
    "                 markerfacecolor='maroon', markeredgecolor='maroon', \n",
    "                 title='Partial autocorrelation of residuals')\n",
    "    except Exception as exc:\n",
    "        print(exc)\n",
    "\n",
    "    plt.show()\n",
    "    \n",
    "def resid_analytics(resid):\n",
    "    resid = resid.dropna()\n",
    "    color = 'maroon'\n",
    "\n",
    "    plt.subplots(1, 2, figsize=(24, 8))\n",
    "\n",
    "    plt.subplot(1, 2, 1)\n",
    "    plt.plot(resid, '-', color=color)\n",
    "    plt.grid(linestyle=':', color='k')\n",
    "    plt.title(\"Residuals\")\n",
    "\n",
    "    x_fit = np.linspace(resid.min(), resid.max(), 201)\n",
    "    loc_laplace, scale_laplace = st.laplace.fit(resid.dropna())\n",
    "    loc_norm, scale_norm = st.norm.fit(resid.dropna())\n",
    "    # print(f\"Fitting of residuals by Laplace distribution: fitted mean = {loc:.3f}, fitted std = {scale:.3f}\")\n",
    "    y_fit_laplace = st.laplace.pdf(x_fit, loc_laplace, scale_laplace)\n",
    "    y_fit_norm = st.norm.pdf(x_fit, loc_norm, scale_norm)\n",
    "\n",
    "    plt.subplot(1, 2, 2)\n",
    "    sns.distplot(resid, color=color, bins=100, vertical=True, label=\"distribution of residuals\")\n",
    "    plt.plot(y_fit_laplace, x_fit, '-b', \n",
    "             label=f\"approximation by Laplace distribution:\\n  fitted mean = {loc_laplace:.4g}, fitted std = {scale_laplace:.4g}\")\n",
    "    plt.plot(y_fit_norm, x_fit, '-g', \n",
    "             label=f\"approximation by normal distribution:\\n  fitted mean = {loc_norm:.4g}, fitted std = {scale_norm:.4g}\")\n",
    "    plt.legend()\n",
    "    # plt.ylim(resid-0.02*y_range, y_max+0.02*y_range)\n",
    "    plt.title(\"Distribution of residuals\")\n",
    "    plt.grid(linestyle=':', color='k')\n",
    "\n",
    "    plt.show()\n",
    "    \n",
    "    \n",
    "    ecdf_resid_instance = ECDF(resid.dropna())\n",
    "    resid_arr = resid.dropna().sort_values().values\n",
    "    ecdf_resid = ecdf_resid_instance(resid_arr)\n",
    "\n",
    "\n",
    "    cdf_norm = st.norm.cdf(resid_arr, loc=loc_norm, scale=scale_norm)\n",
    "    cdf_laplace = st.laplace.cdf(resid_arr, loc=loc_laplace, scale=scale_laplace)\n",
    "\n",
    "\n",
    "    mae_norm = mean_absolute_error(ecdf_resid, cdf_norm)\n",
    "    mae_laplace = mean_absolute_error(ecdf_resid, cdf_laplace)\n",
    "\n",
    "\n",
    "    plt.subplots(1, 1, figsize=(20, 8))\n",
    "    plt.plot(resid_arr, ecdf_resid, '-', color='maroon')\n",
    "    plt.plot(resid_arr, cdf_norm, '-g', \n",
    "             label=f\"Normal approx : MAE = {mae_norm:.3g}\")\n",
    "    plt.plot(resid_arr, cdf_laplace, '-b', \n",
    "             label=f\"Laplace approx: MAE = {mae_laplace:.3g}\")\n",
    "    plt.legend()\n",
    "    plt.title(\"CDF of decomposition residuals\")\n",
    "    plt.show()\n",
    "    \n",
    "    \n",
    "    get_stationary(resid)\n",
    "    \n",
    "\n",
    "class color:\n",
    "    PURPLE = '\\033[95m'\n",
    "    CYAN = '\\033[96m'\n",
    "    DARKCYAN = '\\033[36m'\n",
    "    BLUE = '\\033[94m'\n",
    "    GREEN = '\\033[92m'\n",
    "    YELLOW = '\\033[93m'\n",
    "    RED = '\\033[91m'\n",
    "    BOLD = '\\033[1m'\n",
    "    UNDERLINE = '\\033[4m'\n",
    "    END = '\\033[0m'\n",
    "\n",
    "    \n",
    "def get_stationary(data):\n",
    "    alpha = 0.05\n",
    "    print(\"==== Augmented Dickey–Fuller (Null hypothesis - The process is non-stationary) ====\")\n",
    "    result = adfuller(data.values, autolag='AIC')\n",
    "    print(f'ADF Statistic: {result[0]}')\n",
    "    print(f'p-value: {result[1]}')\n",
    "    if result[1] < alpha:\n",
    "        print(\"The process is\" + color.BOLD + color.GREEN + \" stationary \" + color.END + \"by ADF.\\n\")\n",
    "    else:\n",
    "        print(\"The process is\" + color.BOLD + color.RED + \" non-stationary \" + color.END + \"by ADF.\\n\")\n",
    "        \n",
    "    # kpss test\n",
    "    print('==== Kwiatkowski–Phillips–Schmidt–Shin (KPSS) test (Null hypothesis - The process is stationary) ====')\n",
    "    kpsstest = kpss(data.values, regression='c')\n",
    "    print(\"KPSS Statistic = \" + str(kpsstest[0]))\n",
    "    print( \"p-value = \" + str(kpsstest[1]))\n",
    "    if kpsstest[1] < alpha:\n",
    "        print(\"The process is\" + color.BOLD + color.RED + \" non-stationary \" + color.END + \"by KPSS.\\n\")\n",
    "    else:\n",
    "        print(\"The process is\" + color.BOLD + color.GREEN + \" stationary \" + color.END + \"by KPSS.\\n\")\n",
    "\n"
   ]
  },
  {
   "cell_type": "code",
   "execution_count": null,
   "id": "867ca59f",
   "metadata": {
    "ExecuteTime": {
     "end_time": "2022-06-28T12:22:16.989292Z",
     "start_time": "2022-06-28T12:22:16.896064Z"
    }
   },
   "outputs": [],
   "source": [
    "print(available_data())"
   ]
  },
  {
   "cell_type": "markdown",
   "id": "a07851b8",
   "metadata": {},
   "source": [
    "# Task 1\n",
    "\n",
    "Consider the GDP information in global_economy. Plot the GDP per capita for each country over time. Which country has the highest GDP per capita? How has this changed over time?\n",
    "\n"
   ]
  },
  {
   "cell_type": "code",
   "execution_count": null,
   "id": "9210115f",
   "metadata": {
    "ExecuteTime": {
     "end_time": "2022-06-28T12:22:17.066775Z",
     "start_time": "2022-06-28T12:22:16.996275Z"
    }
   },
   "outputs": [],
   "source": [
    "global_economy = load_data('global_economy')\n",
    "global_economy.head(10)"
   ]
  },
  {
   "cell_type": "code",
   "execution_count": null,
   "id": "723502d2",
   "metadata": {
    "ExecuteTime": {
     "end_time": "2022-06-28T12:22:17.082762Z",
     "start_time": "2022-06-28T12:22:17.068771Z"
    }
   },
   "outputs": [],
   "source": [
    "print(f\"Number of unique Code:    {len(global_economy['Code'].unique())}\")\n",
    "print(f\"Number of unique Country: {len(global_economy['Country'].unique())}\")"
   ]
  },
  {
   "cell_type": "code",
   "execution_count": null,
   "id": "703a7382",
   "metadata": {
    "ExecuteTime": {
     "end_time": "2022-06-28T12:22:17.098445Z",
     "start_time": "2022-06-28T12:22:17.084730Z"
    }
   },
   "outputs": [],
   "source": [
    "global_economy.isna().sum(axis=0)"
   ]
  },
  {
   "cell_type": "code",
   "execution_count": null,
   "id": "6372b89a",
   "metadata": {
    "ExecuteTime": {
     "end_time": "2022-06-28T12:22:17.114386Z",
     "start_time": "2022-06-28T12:22:17.100423Z"
    },
    "scrolled": true
   },
   "outputs": [],
   "source": [
    "global_economy['Year'].value_counts()"
   ]
  },
  {
   "cell_type": "code",
   "execution_count": null,
   "id": "d5e03880",
   "metadata": {
    "ExecuteTime": {
     "end_time": "2022-06-28T12:22:17.223129Z",
     "start_time": "2022-06-28T12:22:17.116382Z"
    }
   },
   "outputs": [],
   "source": [
    "global_economy_pivot = global_economy.pivot_table(values='GDP', index='Country', columns='Year', dropna=False).reset_index()\n",
    "global_economy_pivot.head(10)"
   ]
  },
  {
   "cell_type": "code",
   "execution_count": null,
   "id": "290c4fb2",
   "metadata": {
    "ExecuteTime": {
     "end_time": "2022-06-28T12:22:17.238054Z",
     "start_time": "2022-06-28T12:22:17.225088Z"
    },
    "scrolled": true
   },
   "outputs": [],
   "source": [
    "global_economy_pivot.isna().sum(axis=0)"
   ]
  },
  {
   "cell_type": "code",
   "execution_count": null,
   "id": "211a8120",
   "metadata": {
    "ExecuteTime": {
     "end_time": "2022-06-28T12:22:17.506674Z",
     "start_time": "2022-06-28T12:22:17.242043Z"
    }
   },
   "outputs": [],
   "source": [
    "len(global_economy_pivot.columns)"
   ]
  },
  {
   "cell_type": "code",
   "execution_count": null,
   "id": "4750a859",
   "metadata": {
    "ExecuteTime": {
     "end_time": "2022-06-28T12:22:17.570561Z",
     "start_time": "2022-06-28T12:22:17.508637Z"
    }
   },
   "outputs": [],
   "source": [
    "global_economy_pivot[(global_economy_pivot.isna().sum(axis=1).isin(list(range(50, 60))))]\n",
    "\n",
    "\n",
    "# ok, i realized that we dont need to drop these values"
   ]
  },
  {
   "cell_type": "code",
   "execution_count": null,
   "id": "a1bdd1d9",
   "metadata": {
    "ExecuteTime": {
     "end_time": "2022-06-28T12:22:17.601387Z",
     "start_time": "2022-06-28T12:22:17.572465Z"
    }
   },
   "outputs": [],
   "source": [
    "global_economy_clear =  pd.melt(global_economy_pivot, id_vars='Country', value_vars=global_economy_pivot.columns[1:])\n",
    "global_economy_clear"
   ]
  },
  {
   "cell_type": "code",
   "execution_count": null,
   "id": "d5190dbd",
   "metadata": {
    "ExecuteTime": {
     "end_time": "2022-06-28T12:22:17.616675Z",
     "start_time": "2022-06-28T12:22:17.603700Z"
    }
   },
   "outputs": [],
   "source": [
    "global_economy_clear.shape"
   ]
  },
  {
   "cell_type": "code",
   "execution_count": null,
   "id": "81e6d7a4",
   "metadata": {
    "ExecuteTime": {
     "end_time": "2022-06-28T12:22:17.632372Z",
     "start_time": "2022-06-28T12:22:17.618633Z"
    }
   },
   "outputs": [],
   "source": [
    "global_economy.shape"
   ]
  },
  {
   "cell_type": "code",
   "execution_count": null,
   "id": "33573430",
   "metadata": {
    "ExecuteTime": {
     "end_time": "2022-06-28T12:22:17.647582Z",
     "start_time": "2022-06-28T12:22:17.634615Z"
    }
   },
   "outputs": [],
   "source": [
    "(2017 - 1960 + 1) * (len(global_economy_clear.Country.unique()))"
   ]
  },
  {
   "cell_type": "code",
   "execution_count": null,
   "id": "a1978c3e",
   "metadata": {
    "ExecuteTime": {
     "end_time": "2022-06-28T12:22:19.643356Z",
     "start_time": "2022-06-28T12:22:17.649550Z"
    }
   },
   "outputs": [],
   "source": [
    "px.line(data_frame=global_economy_clear, x='Year', y='value', color='Country')"
   ]
  },
  {
   "cell_type": "markdown",
   "id": "11823a04",
   "metadata": {},
   "source": [
    "<div style=\"background-color: rgb(255, 255, 224);\">\n",
    "<span style=\"color: rgb(186, 22, 12)\">\n",
    "\n",
    "**ALERT:** \n",
    "\n",
    "The question in the task is about GDP **per capita** not about GDP *itself*\n",
    "\n",
    "</span>\n",
    "</div>"
   ]
  },
  {
   "cell_type": "code",
   "execution_count": null,
   "id": "f1a1eda7",
   "metadata": {
    "ExecuteTime": {
     "end_time": "2022-06-28T12:22:19.674270Z",
     "start_time": "2022-06-28T12:22:19.644350Z"
    }
   },
   "outputs": [],
   "source": [
    "df = global_economy_clear.groupby(['Country']).agg({'value': 'max'}).reset_index()\n",
    "df.columns = ['Country', 'Max']\n",
    "\n",
    "df['Country'] = df['Country'].astype('string')\n",
    "global_economy_clear['Country'] = global_economy_clear['Country'].astype('string')\n",
    "\n",
    "global_economy_clear = global_economy_clear.merge(df, how='left', on='Country')"
   ]
  },
  {
   "cell_type": "code",
   "execution_count": null,
   "id": "aeaf42cb",
   "metadata": {
    "ExecuteTime": {
     "end_time": "2022-06-28T12:22:19.689230Z",
     "start_time": "2022-06-28T12:22:19.676265Z"
    }
   },
   "outputs": [],
   "source": [
    "global_economy_clear['normalized'] = global_economy_clear['value'] / global_economy_clear['Max']"
   ]
  },
  {
   "cell_type": "code",
   "execution_count": null,
   "id": "7b9b584d",
   "metadata": {
    "ExecuteTime": {
     "end_time": "2022-06-28T12:22:20.874390Z",
     "start_time": "2022-06-28T12:22:19.692040Z"
    }
   },
   "outputs": [],
   "source": [
    "px.line(data_frame=global_economy_clear, x='Year', y='normalized', color='Country')"
   ]
  },
  {
   "cell_type": "markdown",
   "id": "8532f918",
   "metadata": {},
   "source": [
    "It looks too bad...\n",
    "\n",
    "However, in general we can mention that most countries have the largest values at the end of the observed period.\n",
    "\n",
    "At least we found many gaps in the data. :)"
   ]
  },
  {
   "cell_type": "markdown",
   "id": "b99701df",
   "metadata": {},
   "source": [
    "# Task 2\n",
    "\n",
    "For each of the following series, make a graph of the data. If transforming seems appropriate, do so and describe the effect.\n",
    "\n",
    "\n",
    "* United States GDP from global_economy.\n",
    "* Slaughter of Victorian “Bulls, bullocks and steers” in aus_livestock.\n",
    "* Victorian Electricity Demand from vic_elec.\n",
    "* Gas production from aus_production.\n"
   ]
  },
  {
   "cell_type": "markdown",
   "id": "48afe217",
   "metadata": {},
   "source": [
    "## United States GDP from global_economy."
   ]
  },
  {
   "cell_type": "code",
   "execution_count": null,
   "id": "9548d5c0",
   "metadata": {
    "ExecuteTime": {
     "end_time": "2022-06-28T12:22:20.920313Z",
     "start_time": "2022-06-28T12:22:20.875389Z"
    }
   },
   "outputs": [],
   "source": [
    "global_economy = load_data('global_economy')\n",
    "global_economy = global_economy[global_economy['Country'] == 'United States']\n",
    "\n",
    "_index = pd.date_range('1960-01-01', '2018-01-01', freq ='Y')\n",
    "global_economy.index = _index\n",
    "global_economy = global_economy.asfreq(freq = 'Y')\n",
    "global_economy = global_economy['GDP']\n",
    "global_economy.head(10)"
   ]
  },
  {
   "cell_type": "code",
   "execution_count": null,
   "id": "7cbc7f8e",
   "metadata": {
    "ExecuteTime": {
     "end_time": "2022-06-28T12:22:21.170194Z",
     "start_time": "2022-06-28T12:22:20.922299Z"
    }
   },
   "outputs": [],
   "source": [
    "plt.figure(figsize=(20, 5))\n",
    "plt.plot(global_economy, '-d', color='navy', markersize=3)\n",
    "plt.legend(['GDB value'], loc='upper right')\n",
    "plt.grid(linestyle=':', color='k')\n",
    "plt.title(f'GDP: Unated States')\n"
   ]
  },
  {
   "cell_type": "code",
   "execution_count": null,
   "id": "74dc7a1e",
   "metadata": {
    "ExecuteTime": {
     "end_time": "2022-06-28T12:22:21.186151Z",
     "start_time": "2022-06-28T12:22:21.172190Z"
    }
   },
   "outputs": [],
   "source": [
    "decomposition = seasonal_decompose(global_economy, period=1)"
   ]
  },
  {
   "cell_type": "code",
   "execution_count": null,
   "id": "a770e25b",
   "metadata": {
    "ExecuteTime": {
     "end_time": "2022-06-28T12:22:21.908993Z",
     "start_time": "2022-06-28T12:22:21.188172Z"
    }
   },
   "outputs": [],
   "source": [
    "plot_decomposition(decomposition)"
   ]
  },
  {
   "cell_type": "code",
   "execution_count": null,
   "id": "9a2ed059",
   "metadata": {
    "ExecuteTime": {
     "end_time": "2022-06-28T12:22:22.408356Z",
     "start_time": "2022-06-28T12:22:21.910988Z"
    },
    "scrolled": false
   },
   "outputs": [],
   "source": [
    "plot_ACF(global_economy, decomposition)"
   ]
  },
  {
   "cell_type": "code",
   "execution_count": null,
   "id": "9c1ae595",
   "metadata": {
    "ExecuteTime": {
     "end_time": "2022-06-28T12:22:22.879249Z",
     "start_time": "2022-06-28T12:22:22.410315Z"
    },
    "scrolled": false
   },
   "outputs": [],
   "source": [
    "plot_PACF(global_economy, decomposition, lags=10)\n",
    "\n",
    "# error since out resid and seasonal == 0"
   ]
  },
  {
   "cell_type": "code",
   "execution_count": null,
   "id": "92d1fe77",
   "metadata": {
    "ExecuteTime": {
     "end_time": "2022-06-28T12:22:22.895280Z",
     "start_time": "2022-06-28T12:22:22.880195Z"
    }
   },
   "outputs": [],
   "source": [
    "get_stationary(global_economy)"
   ]
  },
  {
   "cell_type": "markdown",
   "id": "39dee42e",
   "metadata": {},
   "source": [
    "По графикам выше можно сделать несколько выводов:\n",
    "1. Очевидно, что ряд нестационарный, потому что у него не постоянная средняя\n",
    "2. так как периодичность = 1, то такие компонеты как сезонность и остатки будут отсутствовать (мы просто не можем выявить сезонную компоненту)\n",
    "3. видно, что в графике присутствует трент, поэтому автокорреляция тренда будет убывать с ростом значения лага. НО не понятен один момент, почему после 20 значения лагов меняются на отрицательные. Тренд же не меняет направление...\n",
    "4. в PACF видно, что единственный значимый лаг = 1, остальные незначимы. Это логично, потому что считая PACF мы вычитаем линейную составляющую предыдущих компонент.     \n",
    "\n",
    "\n",
    "Для дальнейшего исследования графика можно продифференцировать"
   ]
  },
  {
   "cell_type": "markdown",
   "id": "656c0eb6",
   "metadata": {},
   "source": [
    "### >>> Fourier analysis BEGIN"
   ]
  },
  {
   "cell_type": "code",
   "execution_count": null,
   "id": "6e0ebd4a",
   "metadata": {
    "ExecuteTime": {
     "end_time": "2022-06-28T12:22:22.911112Z",
     "start_time": "2022-06-28T12:22:22.896186Z"
    }
   },
   "outputs": [],
   "source": [
    "from scipy import fftpack\n",
    "\n",
    "### TODO: REWRITE: follow https://colab.research.google.com/github/FabrizioMusacchio/Python_Neuro_Practical/blob/master/05%20Using%20Fourier%20transform%20for%20time%20series%20deconstruction%20.ipynb\n",
    "### https://medium.com/@khairulomar/deconstructing-time-series-using-fourier-transform-e52dd535a44e\n",
    "### see also https://www.technology.matthey.com/article/66/2/169-176/ \n",
    "\n",
    "def get_fourier(target, \n",
    "                trend, \n",
    "                seasonal, \n",
    "                resid, \n",
    "                time_series, \n",
    "                visualize=False):\n",
    "    \"\"\"\n",
    "    WRITE: docstrings\n",
    "    \"\"\"\n",
    "\n",
    "#     time_series = data[tt]\n",
    "#     target = data[target_name]\n",
    "    Fs = time_series.values[1] - time_series.values[0] #1/step\n",
    "    n = np.size(target)\n",
    "    if n//2 == 0:\n",
    "        num = int(n/2)\n",
    "    else:\n",
    "        num = int((n+1)/2)\n",
    "    fr = Fs/2 * np.linspace(0, 1, num=num)\n",
    "\n",
    "\n",
    "    ### --- Spectrum of target\n",
    "    spectrum_target = fftpack.fft(target.values)\n",
    "    spectrum_target = 2/n * np.abs(spectrum_target[0:np.size(fr)])\n",
    "\n",
    "\n",
    "    ### --- Spectrum of seasonal\n",
    "    spectrum_seasonal = fftpack.fft(seasonal.values)\n",
    "    spectrum_seasonal = 2/n * np.abs(spectrum_seasonal[0:np.size(fr)])\n",
    "\n",
    "\n",
    "    ### --- Spectrum of trend\n",
    "    trend_not_na = trend.notna()\n",
    "    n = np.size(trend[trend_not_na])\n",
    "    if n//2 == 0:\n",
    "        num = int(n/2)\n",
    "    else:\n",
    "        num = int((n+1)/2)\n",
    "    fr_trend = Fs/2 * np.linspace(0, 1, num=num)\n",
    "    spectrum_trend = fftpack.fft(trend[trend_not_na].values)\n",
    "    spectrum_trend = 2/n * np.abs(spectrum_trend[0:np.size(fr_trend)])\n",
    "\n",
    "    ### --- Spectrum of residuals\n",
    "    resid_not_na = resid.notna()\n",
    "    n = np.size(resid[resid_not_na])\n",
    "    if n//2 == 0:\n",
    "        num = int(n/2)\n",
    "    else:\n",
    "        num = int((n+1)/2)\n",
    "    fr_resid = Fs/2 * np.linspace(0, 1, num=num)\n",
    "    spectrum_resid = fftpack.fft(resid[resid_not_na].values)\n",
    "    spectrum_resid = 2/n * np.abs(spectrum_resid[0:np.size(fr_resid)])\n",
    "\n",
    "\n",
    "    \n",
    "    ### === Visualizaion\n",
    "    if visualize:\n",
    "        plt.subplots(4, 1, figsize=(15, 4*8))\n",
    "\n",
    "        plt.subplot(4, 1, 1)\n",
    "        plt.plot(fr/max(fr), np.abs(spectrum_target), \"-o\")\n",
    "        plt.grid(linestyle=\":\")\n",
    "        plt.xlabel(f\"The maximal frequency = 1/{max(fr)}\")\n",
    "        plt.title(\"Fourier spectrum (abs) of target\")\n",
    "\n",
    "        plt.subplot(4, 1, 2)\n",
    "        plt.plot(fr_trend/max(fr_trend), np.abs(spectrum_trend), \"-o\", color='maroon')\n",
    "        plt.grid(linestyle=\":\")\n",
    "        plt.xlabel(f\"The maximal frequency = 1/{max(fr_trend)}\")\n",
    "        plt.title(\"Fourier spectrum (abs) of trend\")\n",
    "\n",
    "        plt.subplot(4, 1, 3)\n",
    "        plt.plot(fr/max(fr), np.abs(spectrum_seasonal), \"-og\")\n",
    "        plt.xlabel(f\"The maximal frequency = 1/{max(fr)}\")\n",
    "        plt.grid(linestyle=\":\")\n",
    "        plt.title(\"Fourier spectrum (abs) of `seasonal`\")\n",
    "\n",
    "        plt.subplot(4, 1, 4)\n",
    "        plt.plot(fr_resid/max(fr_resid), np.abs(spectrum_resid), \"-o\", color='maroon')\n",
    "        plt.grid(linestyle=\":\")\n",
    "        plt.xlabel(f\"The maximal frequency = 1/{max(fr_resid)}\")\n",
    "        plt.title(\"Fourier spectrum (abs) of `residuals`\")\n",
    "\n",
    "        plt.show()\n",
    "    \n",
    "    \n",
    "    res = [(fr, spectrum_target), \n",
    "           (fr_trend, spectrum_trend), \n",
    "           (fr, spectrum_seasonal), \n",
    "           (fr_resid, spectrum_resid)]\n",
    "    \n",
    "    return res"
   ]
  },
  {
   "cell_type": "code",
   "execution_count": null,
   "id": "39ffc7a3",
   "metadata": {
    "ExecuteTime": {
     "end_time": "2022-06-28T12:22:23.415307Z",
     "start_time": "2022-06-28T12:22:22.916138Z"
    },
    "scrolled": false
   },
   "outputs": [],
   "source": [
    "res = get_fourier(global_economy, \n",
    "                  decomposition.trend, \n",
    "                  decomposition.seasonal, \n",
    "                  decomposition.resid, \n",
    "                  global_economy.index, \n",
    "                  visualize=True)"
   ]
  },
  {
   "cell_type": "code",
   "execution_count": null,
   "id": "c4556533",
   "metadata": {
    "ExecuteTime": {
     "end_time": "2022-06-28T12:22:23.431201Z",
     "start_time": "2022-06-28T12:22:23.420182Z"
    }
   },
   "outputs": [],
   "source": [
    "for k in range(len(res)):\n",
    "    print(f\"Maximal freq =1/{max(res[k][0])}\", \n",
    "         f\"= 1/{int(max(res[k][0]))/ ((10**9) *60*60*24 )} days\")"
   ]
  },
  {
   "cell_type": "code",
   "execution_count": null,
   "id": "be00fbf7",
   "metadata": {
    "ExecuteTime": {
     "end_time": "2022-06-28T12:22:23.447107Z",
     "start_time": "2022-06-28T12:22:23.432148Z"
    }
   },
   "outputs": [],
   "source": [
    "len(global_economy), global_economy.index"
   ]
  },
  {
   "cell_type": "code",
   "execution_count": null,
   "id": "34669048",
   "metadata": {
    "ExecuteTime": {
     "end_time": "2022-06-28T12:22:24.252541Z",
     "start_time": "2022-06-28T12:22:23.448115Z"
    }
   },
   "outputs": [],
   "source": [
    "model = 'additive'\n",
    "\n",
    "seasonal_maxs = []\n",
    "for k in range(1, int(len(global_economy)/2)):\n",
    "    decomposition = seasonal_decompose(global_economy, period=k, model=model)\n",
    "    res = get_fourier(global_economy, \n",
    "                      decomposition.trend, \n",
    "                      decomposition.seasonal, \n",
    "                      decomposition.resid, \n",
    "                      global_economy.index, \n",
    "                      visualize=False)\n",
    "    seasonal_maxs.append(max(res[2][1]))\n",
    "    \n",
    "seasonal_maxs = np.array(seasonal_maxs)\n",
    "k_max = seasonal_maxs.argmax() + 1\n",
    "\n",
    "\n",
    "\n",
    "plt.subplots(1, 1, figsize=(15, 8))\n",
    "plt.plot(seasonal_maxs)\n",
    "plt.xlabel(f\"'period' in 'seasonal_decompose'\")\n",
    "plt.grid(linestyle=\":\")\n",
    "plt_title = \"Amplitude of `seasonal` component\\n\"\n",
    "plt_title += f\"the period corresponding to the maximum is {k_max}\"\n",
    "plt.title(plt_title)\n",
    "plt.show()\n",
    "\n",
    "\n",
    "\n",
    "decomposition = seasonal_decompose(global_economy, period=k_max, model=model)\n",
    "plot_decomposition(decomposition)"
   ]
  },
  {
   "cell_type": "code",
   "execution_count": null,
   "id": "b5b6538b",
   "metadata": {
    "ExecuteTime": {
     "end_time": "2022-06-28T12:22:24.966152Z",
     "start_time": "2022-06-28T12:22:24.254944Z"
    }
   },
   "outputs": [],
   "source": [
    "\n",
    "plt.subplots(1, 1, figsize=(15, 8))\n",
    "plt.semilogy(global_economy, '-o', label=\"target\")\n",
    "plt.semilogy(decomposition.trend, '-o', label=\"trend\")\n",
    "plt.grid(linestyle=\":\")\n",
    "plt.legend()\n",
    "plt.show()"
   ]
  },
  {
   "cell_type": "code",
   "execution_count": null,
   "id": "4eeb18ab",
   "metadata": {
    "ExecuteTime": {
     "end_time": "2022-06-28T12:22:25.782847Z",
     "start_time": "2022-06-28T12:22:24.967123Z"
    }
   },
   "outputs": [],
   "source": [
    "model = 'multiplicative'\n",
    "\n",
    "seasonal_maxs = []\n",
    "for k in range(1, int(len(global_economy)/2)):\n",
    "    decomposition = seasonal_decompose(global_economy, period=k, model=model)\n",
    "    res = get_fourier(global_economy, \n",
    "                      decomposition.trend, \n",
    "                      decomposition.seasonal, \n",
    "                      decomposition.resid, \n",
    "                      global_economy.index, \n",
    "                      visualize=False)\n",
    "    seasonal_maxs.append(max(res[2][1]))\n",
    "    \n",
    "seasonal_maxs = np.array(seasonal_maxs)\n",
    "k_max = seasonal_maxs.argmax() + 1\n",
    "\n",
    "\n",
    "\n",
    "plt.subplots(1, 1, figsize=(15, 8))\n",
    "plt.plot(seasonal_maxs)\n",
    "plt.xlabel(f\"'period' in 'seasonal_decompose'\")\n",
    "plt.grid(linestyle=\":\")\n",
    "plt_title = \"Amplitude of `seasonal` component\\n\"\n",
    "plt_title += f\"the period corresponding to the maximum is {k_max}\"\n",
    "plt.title(plt_title)\n",
    "plt.show()\n",
    "\n",
    "\n",
    "\n",
    "decomposition = seasonal_decompose(global_economy, period=k_max, model=model)\n",
    "plot_decomposition(decomposition)"
   ]
  },
  {
   "cell_type": "code",
   "execution_count": null,
   "id": "425bb3d1",
   "metadata": {},
   "outputs": [],
   "source": []
  },
  {
   "cell_type": "code",
   "execution_count": null,
   "id": "3bb37046",
   "metadata": {},
   "outputs": [],
   "source": []
  },
  {
   "cell_type": "markdown",
   "id": "605081d7",
   "metadata": {},
   "source": [
    "### <<< Fourier analysis END"
   ]
  },
  {
   "cell_type": "code",
   "execution_count": null,
   "id": "c6e0e729",
   "metadata": {
    "ExecuteTime": {
     "end_time": "2022-06-28T12:22:25.797807Z",
     "start_time": "2022-06-28T12:22:25.783879Z"
    }
   },
   "outputs": [],
   "source": [
    "global_economy_diff = np.log(global_economy).diff().dropna()"
   ]
  },
  {
   "cell_type": "markdown",
   "id": "b7def2e4",
   "metadata": {},
   "source": [
    "<div style=\"background-color: rgb(175, 219, 245);\">\n",
    "<span style=\"color:blue\">\n",
    "\n",
    "**NOTE:** \n",
    "\n",
    "I believe `np.log10` will be better\n",
    "\n",
    "</span>\n",
    "</div>"
   ]
  },
  {
   "cell_type": "code",
   "execution_count": null,
   "id": "3ea8269d",
   "metadata": {
    "ExecuteTime": {
     "end_time": "2022-06-28T12:22:25.985999Z",
     "start_time": "2022-06-28T12:22:25.799802Z"
    }
   },
   "outputs": [],
   "source": [
    "plot_series(global_economy_diff, legend='GBP diff value', title='GDP of US')"
   ]
  },
  {
   "cell_type": "code",
   "execution_count": null,
   "id": "c1fad198",
   "metadata": {
    "ExecuteTime": {
     "end_time": "2022-06-28T12:22:26.001924Z",
     "start_time": "2022-06-28T12:22:25.987975Z"
    }
   },
   "outputs": [],
   "source": [
    "get_stationary(global_economy_diff)"
   ]
  },
  {
   "cell_type": "code",
   "execution_count": null,
   "id": "079875d7",
   "metadata": {
    "ExecuteTime": {
     "end_time": "2022-06-28T12:22:26.757535Z",
     "start_time": "2022-06-28T12:22:26.218347Z"
    }
   },
   "outputs": [],
   "source": [
    "decomposition = seasonal_decompose(global_economy_diff)\n",
    "\n",
    "plot_ACF(global_economy_diff, decomposition)"
   ]
  },
  {
   "cell_type": "code",
   "execution_count": null,
   "id": "93b6c72f",
   "metadata": {
    "ExecuteTime": {
     "end_time": "2022-06-28T12:22:27.301048Z",
     "start_time": "2022-06-28T12:22:26.760332Z"
    },
    "scrolled": false
   },
   "outputs": [],
   "source": [
    "plot_PACF(global_economy_diff, decomposition, lags=10)"
   ]
  },
  {
   "cell_type": "markdown",
   "id": "e3585fdd",
   "metadata": {},
   "source": [
    "Если бы мы обучали ариму, я бы взял:\n",
    "1. q = 4 (на основе ACF, последний значимый несезонный лаг) \n",
    "2. p = 1 (PACF)\n",
    "\n",
    "у нас вообще нет сезонности, период = 1"
   ]
  },
  {
   "cell_type": "markdown",
   "id": "ae448eea",
   "metadata": {},
   "source": [
    "## Slaughter of Victorian “Bulls, bullocks and steers” in aus_livestock.\n"
   ]
  },
  {
   "cell_type": "code",
   "execution_count": null,
   "id": "cb57a01e",
   "metadata": {
    "ExecuteTime": {
     "end_time": "2022-06-28T12:22:27.331771Z",
     "start_time": "2022-06-28T12:22:27.303997Z"
    }
   },
   "outputs": [],
   "source": [
    "aus_livestock = load_data('aus_livestock')"
   ]
  },
  {
   "cell_type": "code",
   "execution_count": null,
   "id": "605fcdef",
   "metadata": {
    "ExecuteTime": {
     "end_time": "2022-06-28T12:22:27.362182Z",
     "start_time": "2022-06-28T12:22:27.332790Z"
    }
   },
   "outputs": [],
   "source": [
    "aus_livestock[aus_livestock['Animal'] == 'Bulls, bullocks and steers']\n",
    "\n",
    "aus_livestock_observed = aus_livestock[(aus_livestock['Animal'] == 'Bulls, bullocks and steers') & (aus_livestock.State == 'Victoria')]\n",
    "\n",
    "_index = pd.date_range('1976-07-01', '2019-01-01', freq ='M')\n",
    "aus_livestock_observed.index = _index\n",
    "aus_livestock_observed = aus_livestock_observed['Count']\n",
    "aus_livestock_observed.head(10)"
   ]
  },
  {
   "cell_type": "code",
   "execution_count": null,
   "id": "98c77901",
   "metadata": {
    "ExecuteTime": {
     "end_time": "2022-06-28T12:22:27.595953Z",
     "start_time": "2022-06-28T12:22:27.364185Z"
    }
   },
   "outputs": [],
   "source": [
    "plot_series(aus_livestock_observed, legend='Value', title='Bulls, bullocks and steers in Victoria')"
   ]
  },
  {
   "cell_type": "markdown",
   "id": "9b2fc55a",
   "metadata": {},
   "source": [
    "Сразу можно наблюдать периодичность в год (значит есть сезонная помпонента), также видны резкие снижения (1980), а также циклические компоненты(2015, 2007, 1992) "
   ]
  },
  {
   "cell_type": "code",
   "execution_count": null,
   "id": "54cbca1e",
   "metadata": {
    "ExecuteTime": {
     "end_time": "2022-06-28T12:57:47.127311Z",
     "start_time": "2022-06-28T12:57:46.961260Z"
    }
   },
   "outputs": [],
   "source": [
    "plt.plot(aus_livestock_observed.rolling(12).std(), '-ob')\n",
    "plt.plot(aus_livestock_observed.index[0], 0)\n",
    "plt.grid()"
   ]
  },
  {
   "cell_type": "code",
   "execution_count": null,
   "id": "c7710892",
   "metadata": {
    "ExecuteTime": {
     "end_time": "2022-06-28T12:22:27.611521Z",
     "start_time": "2022-06-28T12:22:27.597525Z"
    }
   },
   "outputs": [],
   "source": [
    "decomposition = seasonal_decompose(aus_livestock_observed, period=12)"
   ]
  },
  {
   "cell_type": "code",
   "execution_count": null,
   "id": "6f4ab76a",
   "metadata": {
    "ExecuteTime": {
     "end_time": "2022-06-28T12:22:28.412643Z",
     "start_time": "2022-06-28T12:22:27.613483Z"
    }
   },
   "outputs": [],
   "source": [
    "plot_decomposition(decomposition)"
   ]
  },
  {
   "cell_type": "markdown",
   "id": "a944ba42",
   "metadata": {},
   "source": [
    "В тренде можно заметить недольшие бугорки (возможно в ряду осталась компонента сезонности, нужно посмореть на acf и pacf), спады и падения, иногда меняет направление роста вверх, но потом все равно падает. Рассмотрим остатки повнимательнее, также можно заметить, что вначале у остатков дисперсия больше. Думаю это из-за того, что ряд начинал стремительно падать с 1975 по 1980"
   ]
  },
  {
   "cell_type": "code",
   "execution_count": null,
   "id": "8ac01434",
   "metadata": {
    "ExecuteTime": {
     "end_time": "2022-06-28T12:22:29.114000Z",
     "start_time": "2022-06-28T12:22:28.413568Z"
    },
    "scrolled": false
   },
   "outputs": [],
   "source": [
    "resid_analytics(decomposition.resid.dropna())"
   ]
  },
  {
   "cell_type": "markdown",
   "id": "80d2b0bf",
   "metadata": {},
   "source": [
    "Видно, что ряд стациоранный, критерии это подтвердили. Остатки больше всего похожи на белый шум (=нормальное распределение), значит лучше всего будет в качетсве минимизируещего функционала взять сумму квадрата ошибок "
   ]
  },
  {
   "cell_type": "markdown",
   "id": "b171b7ad",
   "metadata": {},
   "source": [
    "<div style=\"background-color: rgb(255, 255, 224);\">\n",
    "<span style=\"color: rgb(186, 22, 12)\">\n",
    "\n",
    "**ALERT:** \n",
    "\n",
    "Белый шум и нормальное распределение - совершенно разные понятия.\n",
    "\n",
    "</span>\n",
    "</div>"
   ]
  },
  {
   "cell_type": "code",
   "execution_count": null,
   "id": "8285d563",
   "metadata": {
    "ExecuteTime": {
     "end_time": "2022-06-28T12:22:29.634012Z",
     "start_time": "2022-06-28T12:22:29.114998Z"
    }
   },
   "outputs": [],
   "source": [
    "plot_ACF(aus_livestock_observed, decomposition, lags=100)"
   ]
  },
  {
   "cell_type": "code",
   "execution_count": null,
   "id": "e7ed6b91",
   "metadata": {
    "ExecuteTime": {
     "end_time": "2022-06-28T12:22:30.204197Z",
     "start_time": "2022-06-28T12:22:29.635999Z"
    }
   },
   "outputs": [],
   "source": [
    "plot_PACF(aus_livestock_observed, decomposition, lags=40)"
   ]
  },
  {
   "cell_type": "markdown",
   "id": "ec14dd4d",
   "metadata": {},
   "source": [
    "очень странно виглядит pacf для сезонности, особенно если посмотреть на 45 лаг. Лаги по бокам от сеазональных лагов выглядят намного больше, почему?  "
   ]
  },
  {
   "cell_type": "code",
   "execution_count": null,
   "id": "c910957b",
   "metadata": {
    "ExecuteTime": {
     "end_time": "2022-06-28T12:22:30.439667Z",
     "start_time": "2022-06-28T12:22:30.206195Z"
    }
   },
   "outputs": [],
   "source": [
    "plot_series(np.log(aus_livestock_observed))"
   ]
  },
  {
   "cell_type": "code",
   "execution_count": null,
   "id": "09145e36",
   "metadata": {
    "ExecuteTime": {
     "end_time": "2022-06-28T12:22:30.454877Z",
     "start_time": "2022-06-28T12:22:30.441791Z"
    }
   },
   "outputs": [],
   "source": [
    "aus_livestock_observed_diff = np.log(aus_livestock_observed).diff().dropna()"
   ]
  },
  {
   "cell_type": "code",
   "execution_count": null,
   "id": "3676d0e1",
   "metadata": {
    "ExecuteTime": {
     "end_time": "2022-06-28T12:22:30.672723Z",
     "start_time": "2022-06-28T12:22:30.456844Z"
    }
   },
   "outputs": [],
   "source": [
    "plot_series(aus_livestock_observed_diff)"
   ]
  },
  {
   "cell_type": "code",
   "execution_count": null,
   "id": "992e1a23",
   "metadata": {
    "ExecuteTime": {
     "end_time": "2022-06-28T12:22:30.704661Z",
     "start_time": "2022-06-28T12:22:30.673720Z"
    }
   },
   "outputs": [],
   "source": [
    "get_stationary(aus_livestock_observed_diff)"
   ]
  },
  {
   "cell_type": "code",
   "execution_count": null,
   "id": "9553beee",
   "metadata": {
    "ExecuteTime": {
     "end_time": "2022-06-28T13:01:28.980809Z",
     "start_time": "2022-06-28T13:01:28.315812Z"
    }
   },
   "outputs": [],
   "source": [
    "decomposition = seasonal_decompose(aus_livestock_observed_diff)\n",
    "plot_decomposition(decomposition)"
   ]
  },
  {
   "cell_type": "code",
   "execution_count": null,
   "id": "54a9668f",
   "metadata": {
    "ExecuteTime": {
     "end_time": "2022-06-28T12:22:31.496086Z",
     "start_time": "2022-06-28T12:22:30.722590Z"
    }
   },
   "outputs": [],
   "source": [
    "plot_ACF(aus_livestock_observed_diff, decomposition)"
   ]
  },
  {
   "cell_type": "code",
   "execution_count": null,
   "id": "d1bfa24a",
   "metadata": {
    "ExecuteTime": {
     "end_time": "2022-06-28T12:22:32.087394Z",
     "start_time": "2022-06-28T12:22:31.498351Z"
    }
   },
   "outputs": [],
   "source": [
    "plot_PACF(aus_livestock_observed_diff, decomposition)"
   ]
  },
  {
   "cell_type": "markdown",
   "id": "774bc250",
   "metadata": {},
   "source": [
    "Если не иследовать ряд дальше, то для модели арима можно было бы взять параметры\n",
    "* p = 10\n",
    "* P = 12\n",
    "* q = 11\n",
    "* Q = 24\n",
    "* d = 1\n",
    "* D = 0\n",
    "\n",
    "Еще очень не нравятся остатки в acf, потому что в них осталась структура, а также слишнов большие значение pacf для тренда и сеазовальной компонент.\n",
    "Нужно попробовать достать из ряда недостающую компоненту."
   ]
  },
  {
   "cell_type": "markdown",
   "id": "a3d8e1b0",
   "metadata": {},
   "source": [
    "<div style=\"background-color: rgb(144, 238, 144);\">\n",
    "<span style=\"color: rgb(0, 128, 0);\">\n",
    "\n",
    "**THUMP UP:** \n",
    "\n",
    "Верно. ACF сезонной компоненты показывает, что есть ещё периоды в 5 - 6 месяцев.\n",
    "    \n",
    "</span>\n",
    "</div>"
   ]
  },
  {
   "cell_type": "markdown",
   "id": "6373840f",
   "metadata": {},
   "source": [
    "## Victorian Electricity Demand from vic_elec."
   ]
  },
  {
   "cell_type": "code",
   "execution_count": null,
   "id": "34643548",
   "metadata": {
    "ExecuteTime": {
     "end_time": "2022-06-28T13:12:38.375983Z",
     "start_time": "2022-06-28T13:12:38.302441Z"
    }
   },
   "outputs": [],
   "source": [
    "vic_elec = load_data('vic_elec')"
   ]
  },
  {
   "cell_type": "code",
   "execution_count": null,
   "id": "c18c8f25",
   "metadata": {
    "ExecuteTime": {
     "end_time": "2022-06-28T13:12:39.242835Z",
     "start_time": "2022-06-28T13:12:39.153925Z"
    }
   },
   "outputs": [],
   "source": [
    "vic_elec = load_data('vic_elec')\n",
    "\n",
    "_index = pd.date_range('2011-12-31 13:00:00', '2014-12-31 12:30:00', freq ='30min')\n",
    "\n",
    "vic_elec.index = _index\n",
    "vic_elec = vic_elec['Demand']\n",
    "vic_elec.head(10)"
   ]
  },
  {
   "cell_type": "code",
   "execution_count": null,
   "id": "c72c26e6",
   "metadata": {
    "ExecuteTime": {
     "end_time": "2022-06-28T13:12:40.562674Z",
     "start_time": "2022-06-28T13:12:39.884928Z"
    },
    "scrolled": false
   },
   "outputs": [],
   "source": [
    "plt.figure(figsize=(20, 5))\n",
    "plt.plot(vic_elec, color='navy')\n",
    "plt.title('Demand of the whole time range')\n",
    "plt.grid(linestyle=':', color='k')\n",
    "plt.show()\n",
    "\n",
    "plt.figure(figsize=(20, 5))\n",
    "plt.plot(vic_elec.loc['2014-01-01':'2015-01-01'], color='red')\n",
    "plt.title('Demand of last 2014 year')\n",
    "plt.grid(linestyle=':', color='k')\n",
    "plt.show()\n",
    "\n",
    "plt.figure(figsize=(20, 5))\n",
    "plt.plot(vic_elec.loc['2014-12-01':'2015-01-01'], '-o', color='green')\n",
    "plt.title('Demand of last month')\n",
    "plt.grid(linestyle=':', color='k')\n",
    "plt.show()\n",
    "\n",
    "plt.figure(figsize=(20, 5));\n",
    "plt.plot(vic_elec.loc['2014-12-25':'2015-01-01'], '-o', color='orange')\n",
    "plt.title('Demand of last week')\n",
    "plt.grid(linestyle=':', color='k')\n",
    "plt.show()"
   ]
  },
  {
   "cell_type": "markdown",
   "id": "91494759",
   "metadata": {},
   "source": [
    "видна цикличность, тренд с начала до середины года имеет растущий тренд, затем плавно убывающий. "
   ]
  },
  {
   "cell_type": "markdown",
   "id": "86c76fe3",
   "metadata": {},
   "source": [
    "<div style=\"background-color: rgb(250, 230, 250);\">\n",
    "<span style=\"color: rgb(204, 51, 204)\">\n",
    "\n",
    "**DISCUSS:** \n",
    "    \n",
    "Чем это не сезонность с периодом год?\n",
    "\n",
    "</span>\n",
    "</div>"
   ]
  },
  {
   "cell_type": "code",
   "execution_count": null,
   "id": "10b257ba",
   "metadata": {
    "ExecuteTime": {
     "end_time": "2022-06-28T13:23:55.432636Z",
     "start_time": "2022-06-28T13:23:53.886985Z"
    }
   },
   "outputs": [],
   "source": [
    "decomposition = seasonal_decompose(vic_elec, period=48*365)\n",
    "plot_decomposition(decomposition)"
   ]
  },
  {
   "cell_type": "markdown",
   "id": "513806f4",
   "metadata": {
    "ExecuteTime": {
     "end_time": "2022-06-27T06:36:23.093884Z",
     "start_time": "2022-06-27T06:36:23.088600Z"
    }
   },
   "source": [
    "Из ряда мы достали дневную компоненту, но в нем еще осталась недельная компонента"
   ]
  },
  {
   "cell_type": "markdown",
   "id": "992a635d",
   "metadata": {},
   "source": [
    "<div style=\"background-color: rgb(175, 219, 245);\">\n",
    "<span style=\"color:blue\">\n",
    "\n",
    "**NOTE:** \n",
    "\n",
    "и годичная...\n",
    "\n",
    "</span>\n",
    "</div>"
   ]
  },
  {
   "cell_type": "code",
   "execution_count": null,
   "id": "3b88cd24",
   "metadata": {
    "ExecuteTime": {
     "end_time": "2022-06-28T13:24:21.726771Z",
     "start_time": "2022-06-28T13:24:21.033390Z"
    }
   },
   "outputs": [],
   "source": [
    "plt.figure(figsize=(20, 5))\n",
    "plt.plot(decomposition.trend.dropna(), color='navy')\n",
    "plt.title('Demand of the whole time range')\n",
    "plt.grid(linestyle=':', color='k')\n",
    "plt.show()\n",
    "\n",
    "plt.figure(figsize=(20, 5))\n",
    "plt.plot(decomposition.trend.dropna().loc['2014-01-01':'2015-01-01'], color='red')\n",
    "plt.title('Demand of last 2014 year')\n",
    "plt.grid(linestyle=':', color='k')\n",
    "plt.show()\n",
    "\n",
    "plt.figure(figsize=(20, 5))\n",
    "plt.plot(decomposition.trend.dropna().loc['2014-12-01':'2015-01-01'], '-o', color='green')\n",
    "plt.title('Demand of last month')\n",
    "plt.grid(linestyle=':', color='k')\n",
    "plt.show()\n",
    "\n",
    "plt.figure(figsize=(20, 5));\n",
    "plt.plot(decomposition.trend.dropna().loc['2014-12-25':'2015-01-01'], '-o', color='orange')\n",
    "plt.title('Demand of last week')\n",
    "plt.grid(linestyle=':', color='k')\n",
    "plt.show()"
   ]
  },
  {
   "cell_type": "code",
   "execution_count": null,
   "id": "9108a277",
   "metadata": {
    "ExecuteTime": {
     "end_time": "2022-06-28T13:24:26.108825Z",
     "start_time": "2022-06-28T13:24:25.502179Z"
    }
   },
   "outputs": [],
   "source": [
    "decomposition = seasonal_decompose(decomposition.trend.dropna(), period=48*7)\n",
    "plot_decomposition(decomposition)"
   ]
  },
  {
   "cell_type": "code",
   "execution_count": null,
   "id": "f18c3b0c",
   "metadata": {
    "ExecuteTime": {
     "end_time": "2022-06-28T13:22:30.654281Z",
     "start_time": "2022-06-28T13:22:30.609505Z"
    }
   },
   "outputs": [],
   "source": [
    "decomposition = seasonal_decompose(decomposition.trend.dropna(), period=48*365)\n",
    "plot_decomposition(decomposition)"
   ]
  },
  {
   "cell_type": "code",
   "execution_count": null,
   "id": "8bc559fc",
   "metadata": {
    "ExecuteTime": {
     "end_time": "2022-06-28T12:22:36.316414Z",
     "start_time": "2022-06-28T12:22:34.875963Z"
    }
   },
   "outputs": [],
   "source": [
    "# decomposition = seasonal_decompose(vic_elec, period=24*2*7*24*2)\n",
    "# plot_decomposition(decomposition)"
   ]
  },
  {
   "cell_type": "code",
   "execution_count": null,
   "id": "db8de19b",
   "metadata": {
    "ExecuteTime": {
     "end_time": "2022-06-28T13:20:33.988904Z",
     "start_time": "2022-06-28T13:20:29.275919Z"
    }
   },
   "outputs": [],
   "source": [
    "resid_analytics(decomposition.resid.dropna())"
   ]
  },
  {
   "cell_type": "markdown",
   "id": "cde01c2c",
   "metadata": {},
   "source": [
    "Я бы назвал ошибки стационарными несмотря на то, что кпсс провалился (вроде он чуствителен к выбросам). Еще видно, что остатки фитятся под распределение Лапласа.\n",
    "\n",
    "Аномалии, которые мы наблюдаем в начале каждого года, могут вовсе не ясляться выбрасами, так как существует закономерность в том, что деманд в начале года растет. (нужно провести еще иследования, чтобы убедиться, что это не выбросы. Например посмтореть на месту holiday)\n",
    "\n",
    "\n"
   ]
  },
  {
   "cell_type": "code",
   "execution_count": null,
   "id": "8b17e647",
   "metadata": {
    "ExecuteTime": {
     "end_time": "2022-06-28T12:22:53.363705Z",
     "start_time": "2022-06-28T12:22:41.363834Z"
    },
    "scrolled": false
   },
   "outputs": [],
   "source": [
    "plot_ACF(vic_elec, decomposition, lags=16128)"
   ]
  },
  {
   "cell_type": "code",
   "execution_count": null,
   "id": "3661d6e5",
   "metadata": {
    "ExecuteTime": {
     "end_time": "2022-06-28T12:23:03.889480Z",
     "start_time": "2022-06-28T12:22:53.365503Z"
    }
   },
   "outputs": [],
   "source": [
    "plot_ACF(vic_elec, decomposition, lags=365)"
   ]
  },
  {
   "cell_type": "markdown",
   "id": "945686f0",
   "metadata": {},
   "source": [
    "Мне очень нравится acf для тредна и для сезонности. Тренд явно убывающий, а вот автокорреляция сезонной компоненты не постоянно затухает. Бывает так, что сходящийся тренд сменяется на рост acf. (вывод?)\n",
    "\n",
    "В остатках точно осталась структура. Ее было бы хорошо остать фурье разложением.\n"
   ]
  },
  {
   "cell_type": "code",
   "execution_count": null,
   "id": "e43b75b8",
   "metadata": {
    "ExecuteTime": {
     "end_time": "2022-06-28T12:26:43.592355Z",
     "start_time": "2022-06-28T12:23:03.891143Z"
    }
   },
   "outputs": [],
   "source": [
    "plot_PACF(vic_elec, decomposition, lags=1000)"
   ]
  },
  {
   "cell_type": "code",
   "execution_count": null,
   "id": "e13b4e88",
   "metadata": {
    "ExecuteTime": {
     "end_time": "2022-06-28T12:26:45.566530Z",
     "start_time": "2022-06-28T12:26:43.594382Z"
    }
   },
   "outputs": [],
   "source": [
    "plot_PACF(vic_elec, decomposition, lags=100)"
   ]
  },
  {
   "cell_type": "code",
   "execution_count": null,
   "id": "c003517a",
   "metadata": {
    "ExecuteTime": {
     "end_time": "2022-06-28T12:26:45.582256Z",
     "start_time": "2022-06-28T12:26:45.568524Z"
    }
   },
   "outputs": [],
   "source": [
    "vic_elec_diff = np.log(vic_elec).diff().dropna()"
   ]
  },
  {
   "cell_type": "code",
   "execution_count": null,
   "id": "5617c17c",
   "metadata": {
    "ExecuteTime": {
     "end_time": "2022-06-28T12:26:46.032000Z",
     "start_time": "2022-06-28T12:26:45.583485Z"
    }
   },
   "outputs": [],
   "source": [
    "plot_series(vic_elec_diff)"
   ]
  },
  {
   "cell_type": "code",
   "execution_count": null,
   "id": "85c574f0",
   "metadata": {
    "ExecuteTime": {
     "end_time": "2022-06-28T12:26:46.328180Z",
     "start_time": "2022-06-28T12:26:46.034488Z"
    },
    "scrolled": true
   },
   "outputs": [],
   "source": [
    "plot_series(vic_elec_diff.loc['2014-12-01':])"
   ]
  },
  {
   "cell_type": "code",
   "execution_count": null,
   "id": "f4f3dc55",
   "metadata": {
    "ExecuteTime": {
     "end_time": "2022-06-28T12:26:55.152525Z",
     "start_time": "2022-06-28T12:26:46.330174Z"
    }
   },
   "outputs": [],
   "source": [
    "get_stationary(vic_elec_diff)"
   ]
  },
  {
   "cell_type": "code",
   "execution_count": null,
   "id": "47a8bbe1",
   "metadata": {
    "ExecuteTime": {
     "end_time": "2022-06-28T12:26:56.868262Z",
     "start_time": "2022-06-28T12:26:55.154521Z"
    }
   },
   "outputs": [],
   "source": [
    "decomposition = seasonal_decompose(vic_elec_diff, period=24*2*7*24*2)\n",
    "plot_decomposition(decomposition)"
   ]
  },
  {
   "cell_type": "code",
   "execution_count": null,
   "id": "53094335",
   "metadata": {
    "ExecuteTime": {
     "end_time": "2022-06-28T12:27:10.852162Z",
     "start_time": "2022-06-28T12:26:56.870255Z"
    }
   },
   "outputs": [],
   "source": [
    "plot_ACF(vic_elec_diff, decomposition, lags=500)"
   ]
  },
  {
   "cell_type": "code",
   "execution_count": null,
   "id": "570c351b",
   "metadata": {
    "ExecuteTime": {
     "end_time": "2022-06-28T12:27:50.685723Z",
     "start_time": "2022-06-28T12:27:10.854099Z"
    }
   },
   "outputs": [],
   "source": [
    "plot_PACF(vic_elec_diff, decomposition, lags=500)"
   ]
  },
  {
   "cell_type": "markdown",
   "id": "99256fe6",
   "metadata": {},
   "source": [
    "Сделать выводы, какие выводы можно сделать из аcf и pacf для diff ряда"
   ]
  },
  {
   "cell_type": "markdown",
   "id": "97936ab2",
   "metadata": {},
   "source": [
    "# Task 3\n",
    "Why is a Box-Cox transformation unhelpful for the canadian_gas data?"
   ]
  },
  {
   "cell_type": "code",
   "execution_count": null,
   "id": "b16c1432",
   "metadata": {
    "ExecuteTime": {
     "end_time": "2022-06-28T12:27:50.716093Z",
     "start_time": "2022-06-28T12:27:50.687465Z"
    }
   },
   "outputs": [],
   "source": [
    "canadian_gas = load_data('canadian_gas')\n",
    "\n",
    "_index = pd.date_range('1960-01-01', '2005-03-01', freq ='M')\n",
    "canadian_gas.index = _index\n",
    "\n",
    "canadian_gas['boxcox'] = st.boxcox(canadian_gas['Volume'], lmbda=0.8)\n",
    "canadian_gas['log'] = np.log(canadian_gas['Volume'])\n",
    "\n",
    "canadian_gas.head(15)"
   ]
  },
  {
   "cell_type": "code",
   "execution_count": null,
   "id": "07fddae2",
   "metadata": {
    "ExecuteTime": {
     "end_time": "2022-06-28T12:27:51.307711Z",
     "start_time": "2022-06-28T12:27:50.718108Z"
    },
    "scrolled": false
   },
   "outputs": [],
   "source": [
    "plot_series(canadian_gas['Volume'])\n",
    "plot_series(canadian_gas['boxcox'])\n",
    "plot_series(canadian_gas['log'])"
   ]
  },
  {
   "cell_type": "code",
   "execution_count": null,
   "id": "e9bbd482",
   "metadata": {
    "ExecuteTime": {
     "end_time": "2022-06-28T13:31:30.769846Z",
     "start_time": "2022-06-28T13:31:30.592896Z"
    }
   },
   "outputs": [],
   "source": [
    "plt.plot(canadian_gas['Volume'].rolling(12).std(), '-ob')\n",
    "plt.plot(canadian_gas.index[0], 0)\n",
    "plt.grid()"
   ]
  },
  {
   "cell_type": "code",
   "execution_count": null,
   "id": "8716d0f3",
   "metadata": {
    "ExecuteTime": {
     "end_time": "2022-06-28T12:27:51.337517Z",
     "start_time": "2022-06-28T12:27:51.309768Z"
    }
   },
   "outputs": [],
   "source": [
    "canadian_gas"
   ]
  },
  {
   "cell_type": "markdown",
   "id": "96a35841",
   "metadata": {},
   "source": [
    "Как можно заметить, логарифмирование и преобрахование бокса кокса не сработало. Как видно в начале и в конце дисперсия сожается, а посерединке она растет. Думаю в этом и есть причина. \n",
    "\n",
    "Даже если мы возьмем логарифм, дисперсия стабилизируется в начала и в середине, но в конце она станет еще меньше прежней. \n"
   ]
  },
  {
   "cell_type": "markdown",
   "id": "3107d15e",
   "metadata": {},
   "source": [
    "# Task 5\n",
    "For the following series, find an appropriate Box-Cox transformation in order to stabilise the variance. Tobacco from aus_production, Economy class passengers between Melbourne and Sydney from ansett, and Pedestrian counts at Southern Cross Station from pedestrian."
   ]
  },
  {
   "cell_type": "markdown",
   "id": "95c4ab95",
   "metadata": {},
   "source": [
    "## Tobacco from aus_production"
   ]
  },
  {
   "cell_type": "code",
   "execution_count": null,
   "id": "12dfdb29",
   "metadata": {
    "ExecuteTime": {
     "end_time": "2022-06-28T13:37:08.491956Z",
     "start_time": "2022-06-28T13:37:08.467209Z"
    }
   },
   "outputs": [],
   "source": [
    "aus_production =  load_data('aus_production')\n",
    "_index = pd.date_range('1956-01-01', '2010-07-01', freq ='Q')\n",
    "aus_production.index = _index\n",
    "aus_production = aus_production['Tobacco']"
   ]
  },
  {
   "cell_type": "code",
   "execution_count": null,
   "id": "8cd257c3",
   "metadata": {
    "ExecuteTime": {
     "end_time": "2022-06-28T13:37:09.250828Z",
     "start_time": "2022-06-28T13:37:09.236797Z"
    }
   },
   "outputs": [],
   "source": [
    "print(f'nans: {aus_production.isna().sum()}')\n",
    "print(f'full: {aus_production.shape[0]}')"
   ]
  },
  {
   "cell_type": "code",
   "execution_count": null,
   "id": "64f9b931",
   "metadata": {
    "ExecuteTime": {
     "end_time": "2022-06-28T13:37:09.905241Z",
     "start_time": "2022-06-28T13:37:09.891311Z"
    },
    "scrolled": true
   },
   "outputs": [],
   "source": [
    "aus_production[aus_production.isna() == True]"
   ]
  },
  {
   "cell_type": "code",
   "execution_count": null,
   "id": "7edf9464",
   "metadata": {
    "ExecuteTime": {
     "end_time": "2022-06-28T13:37:10.535712Z",
     "start_time": "2022-06-28T13:37:10.522029Z"
    }
   },
   "outputs": [],
   "source": [
    "aus_production = aus_production.dropna()"
   ]
  },
  {
   "cell_type": "code",
   "execution_count": null,
   "id": "c94a63e8",
   "metadata": {
    "ExecuteTime": {
     "end_time": "2022-06-28T13:37:11.472990Z",
     "start_time": "2022-06-28T13:37:11.179171Z"
    }
   },
   "outputs": [],
   "source": [
    "plot_series(aus_production, title='Tobacco production')\n",
    "plot_series(aus_production.loc['2000-01-01':], title='Tobacco production')"
   ]
  },
  {
   "cell_type": "code",
   "execution_count": null,
   "id": "fc8ce01d",
   "metadata": {
    "ExecuteTime": {
     "end_time": "2022-06-28T13:37:12.324959Z",
     "start_time": "2022-06-28T13:37:12.160341Z"
    }
   },
   "outputs": [],
   "source": [
    "plt.plot(aus_production.rolling(12).std(), '-ob')\n",
    "plt.plot(aus_production.index[0], 0)\n",
    "plt.grid()"
   ]
  },
  {
   "cell_type": "code",
   "execution_count": null,
   "id": "de4d6ce7",
   "metadata": {
    "ExecuteTime": {
     "end_time": "2022-06-28T13:37:27.154189Z",
     "start_time": "2022-06-28T13:37:27.138835Z"
    }
   },
   "outputs": [],
   "source": [
    "fitted_data, fitted_lambda = st.boxcox(aus_production)\n",
    "print(f'fitted_lambda: {fitted_lambda}')\n",
    "aus_production = pd.DataFrame(aus_production)\n",
    "aus_production['boxcox'] = fitted_data"
   ]
  },
  {
   "cell_type": "code",
   "execution_count": null,
   "id": "4cba4ffe",
   "metadata": {
    "ExecuteTime": {
     "end_time": "2022-06-28T13:37:35.094112Z",
     "start_time": "2022-06-28T13:37:35.069096Z"
    }
   },
   "outputs": [],
   "source": [
    "aus_production"
   ]
  },
  {
   "cell_type": "code",
   "execution_count": null,
   "id": "fc42bd94",
   "metadata": {
    "ExecuteTime": {
     "end_time": "2022-06-28T13:37:40.165237Z",
     "start_time": "2022-06-28T13:37:39.985862Z"
    }
   },
   "outputs": [],
   "source": [
    "plot_series(aus_production['boxcox'])"
   ]
  },
  {
   "cell_type": "code",
   "execution_count": null,
   "id": "f5645f0b",
   "metadata": {
    "ExecuteTime": {
     "end_time": "2022-06-28T13:39:12.501309Z",
     "start_time": "2022-06-28T13:39:12.316505Z"
    }
   },
   "outputs": [],
   "source": [
    "y0 = aus_production['Tobacco'].rolling(12).std()\n",
    "y1 = aus_production['boxcox'].rolling(12).std()\n",
    "\n",
    "plt.plot(y0/y0.max(), '-xr')\n",
    "plt.plot(y1/y1.max(), '-ob')\n",
    "# plt.plot(0, 0)\n",
    "plt.grid()"
   ]
  },
  {
   "cell_type": "markdown",
   "id": "0385f3a3",
   "metadata": {},
   "source": [
    "# Task 6"
   ]
  },
  {
   "cell_type": "code",
   "execution_count": null,
   "id": "eca394e9",
   "metadata": {
    "ExecuteTime": {
     "end_time": "2022-06-28T12:27:53.316283Z",
     "start_time": "2022-06-28T12:27:51.964026Z"
    }
   },
   "outputs": [],
   "source": [
    "!pip install pandas_ta"
   ]
  },
  {
   "cell_type": "code",
   "execution_count": null,
   "id": "35dfaa7e",
   "metadata": {
    "ExecuteTime": {
     "end_time": "2022-06-28T13:39:56.775903Z",
     "start_time": "2022-06-28T13:39:56.757244Z"
    }
   },
   "outputs": [],
   "source": [
    "import pandas_ta as ta"
   ]
  },
  {
   "cell_type": "code",
   "execution_count": null,
   "id": "14386b43",
   "metadata": {
    "ExecuteTime": {
     "end_time": "2022-06-28T13:39:57.579225Z",
     "start_time": "2022-06-28T13:39:57.566113Z"
    }
   },
   "outputs": [],
   "source": [
    "moving_averages_3_5 = ta.Strategy(\n",
    "    name=\"SMA_3_5\",\n",
    "    ta=[\n",
    "        {\"kind\": \"sma\", \"length\": 3},\n",
    "        {\"kind\": \"sma\", \"length\": 5},\n",
    "    ]\n",
    ")\n",
    "\n",
    "moving_averages_7 = ta.Strategy(\n",
    "    name=\"SMA_7\",\n",
    "    ta=[\n",
    "        {\"kind\": \"sma\", \"length\": 7},\n",
    "    ]\n",
    ")"
   ]
  },
  {
   "cell_type": "code",
   "execution_count": null,
   "id": "eeef298a",
   "metadata": {
    "ExecuteTime": {
     "end_time": "2022-06-28T13:39:58.276766Z",
     "start_time": "2022-06-28T13:39:58.264832Z"
    }
   },
   "outputs": [],
   "source": [
    "aus_production = pd.DataFrame(aus_production)"
   ]
  },
  {
   "cell_type": "code",
   "execution_count": null,
   "id": "9b727215",
   "metadata": {
    "ExecuteTime": {
     "end_time": "2022-06-28T13:39:59.053985Z",
     "start_time": "2022-06-28T13:39:59.040748Z"
    }
   },
   "outputs": [],
   "source": [
    "aus_production['SMA_7'] = aus_production['Tobacco'].rolling(window=7).mean()"
   ]
  },
  {
   "cell_type": "code",
   "execution_count": null,
   "id": "a5d00843",
   "metadata": {
    "ExecuteTime": {
     "end_time": "2022-06-28T13:40:02.591043Z",
     "start_time": "2022-06-28T13:40:02.582067Z"
    }
   },
   "outputs": [],
   "source": [
    "aus_production['SMA_3'] = aus_production['Tobacco'].rolling(window=3).mean()\n",
    "aus_production['SMA_3_5'] = aus_production['SMA_3'].rolling(window=5).mean()"
   ]
  },
  {
   "cell_type": "code",
   "execution_count": null,
   "id": "7305eb8d",
   "metadata": {
    "ExecuteTime": {
     "end_time": "2022-06-28T13:40:03.416139Z",
     "start_time": "2022-06-28T13:40:03.404114Z"
    }
   },
   "outputs": [],
   "source": [
    "aus_production = aus_production.dropna()"
   ]
  },
  {
   "cell_type": "code",
   "execution_count": null,
   "id": "31ae5e69",
   "metadata": {
    "ExecuteTime": {
     "end_time": "2022-06-28T13:40:04.206902Z",
     "start_time": "2022-06-28T13:40:04.098985Z"
    }
   },
   "outputs": [],
   "source": [
    "px.line(aus_production)"
   ]
  },
  {
   "cell_type": "markdown",
   "id": "b4bb256d",
   "metadata": {},
   "source": [
    "Как видно, графики sma_7 и sma_3_5 почти одинаковые. Разнина заключается в том, что для sma_7 у нас для значения возьмутся с коэф 1/7=0.1428, а для sma_3_5 у нас будут такие: 0.067, 0.133, 0.200, 0.200, 0.200, 0.133, and 0.067.\n",
    "\n",
    "Зачем делать и так и так: потому что ряд может быть четный и нечетный, то есть чтобы ряд был симметричным "
   ]
  },
  {
   "cell_type": "markdown",
   "id": "e77df7b7",
   "metadata": {},
   "source": [
    "# Task7 \n",
    "Consider the last five years of the Gas data from aus_production."
   ]
  },
  {
   "cell_type": "code",
   "execution_count": null,
   "id": "3506877e",
   "metadata": {
    "ExecuteTime": {
     "end_time": "2022-06-28T13:56:15.572804Z",
     "start_time": "2022-06-28T13:56:15.546312Z"
    }
   },
   "outputs": [],
   "source": [
    "aus_production = load_data('aus_production')\n",
    "\n",
    "_index = pd.date_range('1956-01-01', '2010-07-01', freq ='Q')\n",
    "aus_production.index = _index\n",
    "aus_production = aus_production['Gas']\n",
    "aus_production.head(10)"
   ]
  },
  {
   "cell_type": "markdown",
   "id": "74b4abc1",
   "metadata": {},
   "source": [
    "## Plot the time series. Can you identify seasonal fluctuations and/or a trend-cycle?"
   ]
  },
  {
   "cell_type": "code",
   "execution_count": null,
   "id": "048ede19",
   "metadata": {
    "ExecuteTime": {
     "end_time": "2022-06-28T13:56:15.745194Z",
     "start_time": "2022-06-28T13:56:15.575103Z"
    }
   },
   "outputs": [],
   "source": [
    "plot_series(aus_production, title='Gas production')"
   ]
  },
  {
   "cell_type": "markdown",
   "id": "57331efa",
   "metadata": {},
   "source": [
    "Легко заметить тренд и сезонность"
   ]
  },
  {
   "cell_type": "code",
   "execution_count": null,
   "id": "434f5684",
   "metadata": {
    "ExecuteTime": {
     "end_time": "2022-06-28T13:56:16.338603Z",
     "start_time": "2022-06-28T13:56:15.746230Z"
    }
   },
   "outputs": [],
   "source": [
    "decomposition = seasonal_decompose(aus_production)\n",
    "plot_decomposition(decomposition)"
   ]
  },
  {
   "cell_type": "markdown",
   "id": "caea64e9",
   "metadata": {},
   "source": [
    "Интересно посмотреть на остатки, потому что к центру дисперсия уменьшается, как будто она не постоянная, значит они не стационарные, но это нужно проверить."
   ]
  },
  {
   "cell_type": "code",
   "execution_count": null,
   "id": "df63de83",
   "metadata": {
    "ExecuteTime": {
     "end_time": "2022-06-28T13:56:17.006820Z",
     "start_time": "2022-06-28T13:56:16.340650Z"
    }
   },
   "outputs": [],
   "source": [
    "resid_analytics(decomposition.resid.dropna())"
   ]
  },
  {
   "cell_type": "markdown",
   "id": "b652446b",
   "metadata": {},
   "source": [
    "Ага, я ошибся, она все таки стационарные :) \n",
    "\n",
    "Давайте ка проверем acf и pacf для стац и не стац ряда "
   ]
  },
  {
   "cell_type": "code",
   "execution_count": null,
   "id": "c5ad44e5",
   "metadata": {
    "ExecuteTime": {
     "end_time": "2022-06-28T13:56:17.677968Z",
     "start_time": "2022-06-28T13:56:17.008817Z"
    }
   },
   "outputs": [],
   "source": [
    "plot_ACF(aus_production, decomposition)"
   ]
  },
  {
   "cell_type": "markdown",
   "id": "56de7692",
   "metadata": {},
   "source": [
    "все выглядит отлично, кроме остатков"
   ]
  },
  {
   "cell_type": "code",
   "execution_count": null,
   "id": "dccafc2b",
   "metadata": {
    "ExecuteTime": {
     "end_time": "2022-06-28T13:56:18.315801Z",
     "start_time": "2022-06-28T13:56:17.678964Z"
    }
   },
   "outputs": [],
   "source": [
    "plot_PACF(aus_production, decomposition)"
   ]
  },
  {
   "cell_type": "markdown",
   "id": "a2133e98",
   "metadata": {},
   "source": [
    "тут мало что понятно, почему-то есть большие пинги, не могу их объяснить"
   ]
  },
  {
   "cell_type": "markdown",
   "id": "bc710971",
   "metadata": {},
   "source": [
    "## Use classical_decomposition with type=multiplicative to calculate the trend-cycle and seasonal indices.\n"
   ]
  },
  {
   "cell_type": "code",
   "execution_count": null,
   "id": "57a0a2ff",
   "metadata": {
    "ExecuteTime": {
     "end_time": "2022-06-28T13:56:18.955876Z",
     "start_time": "2022-06-28T13:56:18.316765Z"
    }
   },
   "outputs": [],
   "source": [
    "decomposition = seasonal_decompose(aus_production, model='multiplicative')\n",
    "plot_decomposition(decomposition)"
   ]
  },
  {
   "cell_type": "markdown",
   "id": "1efae7c4",
   "metadata": {},
   "source": [
    "Вооо, так намнооого лучше. Действительно, при постоянном увеличении дисперсии лучше исплользовать multiplicative модель.\n",
    "\n",
    "И остатки приятнее выглядят"
   ]
  },
  {
   "cell_type": "code",
   "execution_count": null,
   "id": "2a062e20",
   "metadata": {
    "ExecuteTime": {
     "end_time": "2022-06-28T13:56:19.779594Z",
     "start_time": "2022-06-28T13:56:18.956874Z"
    }
   },
   "outputs": [],
   "source": [
    "resid_analytics(decomposition.resid.dropna())"
   ]
  },
  {
   "cell_type": "markdown",
   "id": "52704933",
   "metadata": {},
   "source": [
    "### Do the results support the graphical interpretation from part a?\n",
    "\n",
    "\n",
    "yes."
   ]
  },
  {
   "cell_type": "markdown",
   "id": "2ce4f486",
   "metadata": {},
   "source": [
    "## Compute and plot the seasonally adjusted data.\n"
   ]
  },
  {
   "cell_type": "code",
   "execution_count": null,
   "id": "7ab17694",
   "metadata": {
    "ExecuteTime": {
     "end_time": "2022-06-28T13:56:19.794806Z",
     "start_time": "2022-06-28T13:56:19.781621Z"
    }
   },
   "outputs": [],
   "source": [
    "aus_production = pd.DataFrame(aus_production)"
   ]
  },
  {
   "cell_type": "code",
   "execution_count": null,
   "id": "0fe3f2bc",
   "metadata": {
    "ExecuteTime": {
     "end_time": "2022-06-28T13:56:19.810828Z",
     "start_time": "2022-06-28T13:56:19.798757Z"
    }
   },
   "outputs": [],
   "source": [
    "aus_production['diff'] = aus_production.diff(1)"
   ]
  },
  {
   "cell_type": "code",
   "execution_count": null,
   "id": "62501f22",
   "metadata": {
    "ExecuteTime": {
     "end_time": "2022-06-28T13:56:20.200501Z",
     "start_time": "2022-06-28T13:56:19.813904Z"
    }
   },
   "outputs": [],
   "source": [
    "plot_series(aus_production['Gas'].dropna(), title='just gas data')\n",
    "plot_series(aus_production['diff'].dropna(), title='diff gas with period=4')"
   ]
  },
  {
   "cell_type": "code",
   "execution_count": null,
   "id": "f7597909",
   "metadata": {
    "ExecuteTime": {
     "end_time": "2022-06-28T13:56:20.709902Z",
     "start_time": "2022-06-28T13:56:20.201989Z"
    }
   },
   "outputs": [],
   "source": [
    "decomposition = seasonal_decompose(aus_production['diff'].dropna())\n",
    "plot_decomposition(decomposition)"
   ]
  },
  {
   "cell_type": "code",
   "execution_count": null,
   "id": "10156883",
   "metadata": {
    "ExecuteTime": {
     "end_time": "2022-06-28T13:56:21.391978Z",
     "start_time": "2022-06-28T13:56:20.711909Z"
    }
   },
   "outputs": [],
   "source": [
    "resid_analytics(decomposition.resid.dropna())"
   ]
  },
  {
   "cell_type": "markdown",
   "id": "e21ad9c4",
   "metadata": {},
   "source": [
    "Как-то непонялтно, почему остатки стациораный, а дисперсия непостоянна\n",
    "\n"
   ]
  },
  {
   "cell_type": "code",
   "execution_count": null,
   "id": "3367a44c",
   "metadata": {
    "ExecuteTime": {
     "end_time": "2022-06-28T13:56:21.406935Z",
     "start_time": "2022-06-28T13:56:21.393935Z"
    }
   },
   "outputs": [],
   "source": [
    "get_stationary(aus_production['diff'].dropna())"
   ]
  },
  {
   "cell_type": "markdown",
   "id": "c932ca32",
   "metadata": {},
   "source": [
    "Даже сам ряд стал стационарным"
   ]
  },
  {
   "cell_type": "code",
   "execution_count": null,
   "id": "39f811ef",
   "metadata": {
    "ExecuteTime": {
     "end_time": "2022-06-28T13:56:21.892007Z",
     "start_time": "2022-06-28T13:56:21.407899Z"
    }
   },
   "outputs": [],
   "source": [
    "plot_ACF(aus_production['diff'], decomposition)"
   ]
  },
  {
   "cell_type": "code",
   "execution_count": null,
   "id": "614c4fc6",
   "metadata": {
    "ExecuteTime": {
     "end_time": "2022-06-28T13:56:22.402790Z",
     "start_time": "2022-06-28T13:56:21.893003Z"
    }
   },
   "outputs": [],
   "source": [
    "plot_PACF(aus_production['diff'], decomposition)"
   ]
  },
  {
   "cell_type": "markdown",
   "id": "415e771b",
   "metadata": {},
   "source": [
    "Непонятно, о чем говорят такие большие пинги..."
   ]
  },
  {
   "cell_type": "markdown",
   "id": "cbc50244",
   "metadata": {},
   "source": [
    "## Change one observation to be an outlier (e.g., add 300 to one observation), and recompute the seasonally adjusted data. What is the effect of the outlier?\n"
   ]
  },
  {
   "cell_type": "code",
   "execution_count": null,
   "id": "93b2ebdb",
   "metadata": {
    "ExecuteTime": {
     "end_time": "2022-06-28T13:56:22.574421Z",
     "start_time": "2022-06-28T13:56:22.403817Z"
    }
   },
   "outputs": [],
   "source": [
    "aus_production.iloc[-2, 0] = 300\n",
    "aus_production['diff'] = aus_production['Gas']#.diff(1)\n",
    "\n",
    "plot_series(aus_production['diff'])"
   ]
  },
  {
   "cell_type": "code",
   "execution_count": null,
   "id": "8a550906",
   "metadata": {
    "ExecuteTime": {
     "end_time": "2022-06-28T13:53:38.312114Z",
     "start_time": "2022-06-28T13:53:38.123245Z"
    }
   },
   "outputs": [],
   "source": []
  },
  {
   "cell_type": "code",
   "execution_count": null,
   "id": "1ea65e6d",
   "metadata": {
    "ExecuteTime": {
     "end_time": "2022-06-28T13:56:22.590379Z",
     "start_time": "2022-06-28T13:56:22.576416Z"
    }
   },
   "outputs": [],
   "source": [
    "get_stationary(aus_production['diff'].dropna())"
   ]
  },
  {
   "cell_type": "code",
   "execution_count": null,
   "id": "51a824e4",
   "metadata": {
    "ExecuteTime": {
     "end_time": "2022-06-28T13:56:23.135152Z",
     "start_time": "2022-06-28T13:56:22.592374Z"
    }
   },
   "outputs": [],
   "source": [
    "decomposition = seasonal_decompose(aus_production['diff'].dropna())\n",
    "plot_decomposition(decomposition)"
   ]
  },
  {
   "cell_type": "markdown",
   "id": "90bb5ae1",
   "metadata": {},
   "source": [
    "Это аутлаер повлиял только на остаток"
   ]
  },
  {
   "cell_type": "code",
   "execution_count": null,
   "id": "16a0af26",
   "metadata": {
    "ExecuteTime": {
     "end_time": "2022-06-28T13:56:23.868789Z",
     "start_time": "2022-06-28T13:56:23.136150Z"
    }
   },
   "outputs": [],
   "source": [
    "plot_ACF(aus_production['diff'], decomposition, lags=150)"
   ]
  },
  {
   "cell_type": "markdown",
   "id": "0e283f15",
   "metadata": {},
   "source": [
    "## Does it make any difference if the outlier is near the end rather than in the middle of the time series?\n"
   ]
  },
  {
   "cell_type": "code",
   "execution_count": null,
   "id": "83a615ce",
   "metadata": {
    "ExecuteTime": {
     "end_time": "2022-06-28T13:57:41.356326Z",
     "start_time": "2022-06-28T13:57:41.337083Z"
    }
   },
   "outputs": [],
   "source": [
    "aus_production.iloc[aus_production.shape[0] // 2, 0] = 300\n",
    "aus_production['diff'] = aus_production['Gas']#.diff(1)"
   ]
  },
  {
   "cell_type": "code",
   "execution_count": null,
   "id": "a5071361",
   "metadata": {
    "ExecuteTime": {
     "end_time": "2022-06-28T13:57:42.556362Z",
     "start_time": "2022-06-28T13:57:42.378443Z"
    }
   },
   "outputs": [],
   "source": [
    "plot_series(aus_production['diff'])"
   ]
  },
  {
   "cell_type": "code",
   "execution_count": null,
   "id": "dbe3d992",
   "metadata": {
    "ExecuteTime": {
     "end_time": "2022-06-28T13:57:43.995634Z",
     "start_time": "2022-06-28T13:57:43.970058Z"
    }
   },
   "outputs": [],
   "source": [
    "get_stationary(aus_production['diff'].dropna())"
   ]
  },
  {
   "cell_type": "code",
   "execution_count": null,
   "id": "6361728f",
   "metadata": {
    "ExecuteTime": {
     "end_time": "2022-06-28T13:57:48.467266Z",
     "start_time": "2022-06-28T13:57:47.939918Z"
    }
   },
   "outputs": [],
   "source": [
    "decomposition = seasonal_decompose(aus_production['diff'].dropna())\n",
    "plot_decomposition(decomposition)"
   ]
  },
  {
   "cell_type": "code",
   "execution_count": null,
   "id": "3e65e29f",
   "metadata": {
    "ExecuteTime": {
     "end_time": "2022-06-28T13:57:00.327908Z",
     "start_time": "2022-06-28T13:56:59.865810Z"
    }
   },
   "outputs": [],
   "source": [
    "plot_ACF(aus_production['diff'], decomposition, lags=150)"
   ]
  },
  {
   "cell_type": "markdown",
   "id": "686f559e",
   "metadata": {},
   "source": [
    "В целом наличие аутлаеров в середине, в конце не влияет на Декомпозицию. Да, там выявляется сеазональность, а также растает ошибка в этих точках и тренд подскакивает. \n",
    "\n",
    "Наверно нам плохи аутлауры в конце ряда, когда мы хотим сделать predict.\n",
    "\n",
    "\n",
    "Мне кажется, что я не прав, но выводы выше я сделал на основе декомпозиции и acf, pacf\n",
    "\n",
    "Вопрос: если аутлаеры влияют на предикты, почему тогда на графиках acf pacf мы ничего не увидели"
   ]
  },
  {
   "cell_type": "markdown",
   "id": "fc3cb904",
   "metadata": {},
   "source": [
    "# Task 8\n",
    "\n",
    "Recall your retail time series data (from Exercise 8 in Section 2.10). Decompose the series using X-11. Does it reveal any outliers, or unusual features that you had not noticed previously?\n",
    "\n"
   ]
  },
  {
   "cell_type": "markdown",
   "id": "685f2357",
   "metadata": {},
   "source": [
    "not now"
   ]
  },
  {
   "cell_type": "markdown",
   "id": "60472a98",
   "metadata": {},
   "source": [
    "# Task 9\n",
    "\n",
    "Обсудим вместе :) "
   ]
  },
  {
   "cell_type": "code",
   "execution_count": null,
   "id": "b66595e6",
   "metadata": {},
   "outputs": [],
   "source": []
  },
  {
   "cell_type": "code",
   "execution_count": null,
   "id": "418a48ec",
   "metadata": {},
   "outputs": [],
   "source": []
  },
  {
   "cell_type": "code",
   "execution_count": null,
   "id": "b5535a83",
   "metadata": {},
   "outputs": [],
   "source": []
  },
  {
   "cell_type": "code",
   "execution_count": null,
   "id": "e43c2f7c",
   "metadata": {},
   "outputs": [],
   "source": []
  },
  {
   "cell_type": "code",
   "execution_count": null,
   "id": "ffa1c704",
   "metadata": {},
   "outputs": [],
   "source": []
  },
  {
   "cell_type": "code",
   "execution_count": null,
   "id": "e13f6a73",
   "metadata": {},
   "outputs": [],
   "source": []
  },
  {
   "cell_type": "code",
   "execution_count": null,
   "id": "95ffd505",
   "metadata": {},
   "outputs": [],
   "source": []
  }
 ],
 "metadata": {
  "kernelspec": {
   "display_name": "Python 3 (ipykernel)",
   "language": "python",
   "name": "python3"
  },
  "language_info": {
   "codemirror_mode": {
    "name": "ipython",
    "version": 3
   },
   "file_extension": ".py",
   "mimetype": "text/x-python",
   "name": "python",
   "nbconvert_exporter": "python",
   "pygments_lexer": "ipython3",
   "version": "3.9.7"
  },
  "toc": {
   "base_numbering": 1,
   "nav_menu": {},
   "number_sections": false,
   "sideBar": true,
   "skip_h1_title": false,
   "title_cell": "Table of Contents",
   "title_sidebar": "Contents",
   "toc_cell": false,
   "toc_position": {
    "height": "calc(100% - 180px)",
    "left": "10px",
    "top": "150px",
    "width": "349.091px"
   },
   "toc_section_display": true,
   "toc_window_display": true
  },
  "varInspector": {
   "cols": {
    "lenName": 16,
    "lenType": 16,
    "lenVar": 40
   },
   "kernels_config": {
    "python": {
     "delete_cmd_postfix": "",
     "delete_cmd_prefix": "del ",
     "library": "var_list.py",
     "varRefreshCmd": "print(var_dic_list())"
    },
    "r": {
     "delete_cmd_postfix": ") ",
     "delete_cmd_prefix": "rm(",
     "library": "var_list.r",
     "varRefreshCmd": "cat(var_dic_list()) "
    }
   },
   "types_to_exclude": [
    "module",
    "function",
    "builtin_function_or_method",
    "instance",
    "_Feature"
   ],
   "window_display": false
  }
 },
 "nbformat": 4,
 "nbformat_minor": 5
}
