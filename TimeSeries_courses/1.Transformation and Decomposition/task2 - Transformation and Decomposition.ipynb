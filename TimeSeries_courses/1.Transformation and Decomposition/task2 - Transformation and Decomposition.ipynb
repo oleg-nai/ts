{
 "cells": [
  {
   "cell_type": "markdown",
   "id": "723f3e5b",
   "metadata": {},
   "source": [
    "# Transformation and Decomposition. Taks2\n",
    "\n",
    "    author: Oleg Naidovich"
   ]
  },
  {
   "cell_type": "code",
   "execution_count": 88,
   "id": "82c67872",
   "metadata": {
    "ExecuteTime": {
     "end_time": "2022-07-17T14:47:50.185190Z",
     "start_time": "2022-07-17T14:47:50.178264Z"
    }
   },
   "outputs": [],
   "source": [
    "from tsdata.raw import available_data, load_data\n",
    "\n",
    "import pandas as pd\n",
    "import numpy as np\n",
    "\n",
    "import seaborn as sns\n",
    "import matplotlib.pyplot as plt\n",
    "import plotly.express as px\n",
    "plt.rcParams[\"figure.figsize\"] = (18, 8)\n",
    "pd.set_option('display.max_columns', 500)\n",
    "\n",
    "import statsmodels.api as sm\n",
    "from statsmodels.tsa.seasonal import seasonal_decompose\n",
    "from statsmodels.graphics.tsaplots import plot_acf, plot_pacf\n",
    "from statsmodels.tsa.stattools import adfuller, kpss, acf, pacf\n",
    "from statsmodels.distributions.empirical_distribution import ECDF\n",
    "import scipy.stats as st\n",
    "\n",
    "from sklearn.metrics import mean_absolute_error\n",
    "\n",
    "\n",
    "import warnings\n",
    "warnings.filterwarnings('ignore')"
   ]
  },
  {
   "cell_type": "code",
   "execution_count": 120,
   "id": "33107eca",
   "metadata": {
    "ExecuteTime": {
     "end_time": "2022-07-17T15:06:00.506841Z",
     "start_time": "2022-07-17T15:06:00.464690Z"
    }
   },
   "outputs": [],
   "source": [
    "class color:\n",
    "    PURPLE = '\\033[95m'\n",
    "    CYAN = '\\033[96m'\n",
    "    DARKCYAN = '\\033[36m'\n",
    "    BLUE = '\\033[94m'\n",
    "    GREEN = '\\033[92m'\n",
    "    YELLOW = '\\033[93m'\n",
    "    RED = '\\033[91m'\n",
    "    BOLD = '\\033[1m'\n",
    "    UNDERLINE = '\\033[4m'\n",
    "    END = '\\033[0m'\n",
    "\n",
    "\n",
    "def plotSeries(data, legend='', title=''):\n",
    "    plt.figure(figsize=(20, 5))\n",
    "    plt.plot(data, '-d', color='navy', markersize=3)\n",
    "    plt.legend([legend], loc='upper right')\n",
    "    plt.grid(linestyle=':', color='k')\n",
    "    plt.title(title)\n",
    "\n",
    "\n",
    "def plotDecomposition(decomposition):\n",
    "    trend = decomposition.trend.dropna()\n",
    "    seasonal = decomposition.seasonal.dropna()\n",
    "    resid = decomposition.resid.dropna()\n",
    "\n",
    "    plt.subplots(3, 1, figsize=(20, 21))\n",
    "\n",
    "    plt.subplot(3, 1, 1)\n",
    "    plt.plot(trend, color='navy', markersize=3, label='trend')\n",
    "    plt.legend(loc='upper right')\n",
    "    plt.grid(linestyle=':', color='k')\n",
    "    plt.title(\"Trend\")\n",
    "\n",
    "    plt.subplot(3, 1, 2)\n",
    "    plt.plot(seasonal,\n",
    "             '-gd', markersize=3, label='seasonal')\n",
    "    plt.plot([seasonal.index[0], seasonal.index[-1]],\n",
    "             seasonal.mean()*np.array([1, 1]), '--k',\n",
    "             label=f\"mean = {seasonal.mean():.3g}\")\n",
    "    plt.legend(loc='upper right')\n",
    "    plt.grid(linestyle=':', color='k')\n",
    "    plt.title(\n",
    "        f\"Seasonal : range={(seasonal.max() - seasonal.min()):.3g}\")\n",
    "\n",
    "    plt.subplot(3, 1, 3)\n",
    "    plt.plot(decomposition.resid, '-o', color='maroon',\n",
    "             markersize=3,  label='residuals')\n",
    "    plt.plot([resid.index[0], resid.index[-1]],\n",
    "             resid.mean()*np.array([1, 1]), '--k',\n",
    "             label=f\"mean = {resid.mean():.3g}\")\n",
    "    plt.legend(loc='upper right')\n",
    "    plt.grid(linestyle=':', color='k')\n",
    "    plt.title(\"Residuals\")\n",
    "\n",
    "    plt.show()\n",
    "\n",
    "\n",
    "def plotACF(data, decomposition, lags=50):\n",
    "    trend = decomposition.trend.dronpna()\n",
    "    seasonal = decomposition.seasonal.dronpna()\n",
    "    resid = decomposition.resid.dropna()\n",
    "\n",
    "    fig, axes = plt.subplots(4, 1, figsize=(15, 4*6))\n",
    "\n",
    "    plot_acf(\n",
    "        data,\n",
    "        lags=lags,\n",
    "        vlines_kwargs={'color': 'b'},\n",
    "        markerfacecolor='b',\n",
    "        markeredgecolor='b',\n",
    "        title='Autocorrelation of target'\n",
    "    )\n",
    "    plot_acf(\n",
    "        trend,\n",
    "        lags=lags,\n",
    "        vlines_kwargs={'color': 'navy'},\n",
    "        markerfacecolor='navy',\n",
    "        markeredgecolor='navy',\n",
    "        title='Autocorrelation of trend'\n",
    "    )\n",
    "    plot_acf(\n",
    "        seasonal,\n",
    "        lags=lags,\n",
    "        vlines_kwargs={'color': 'g'},\n",
    "        markerfacecolor='g',\n",
    "        markeredgecolor='g',\n",
    "        title='Autocorrelation of seasonal'\n",
    "    )\n",
    "\n",
    "    plot_acf(\n",
    "        resid,\n",
    "        lags=lags,\n",
    "        vlines_kwargs={'color': 'maroon'},\n",
    "        markerfacecolor='maroon',\n",
    "        markeredgecolor='maroon',\n",
    "        title='Autocorrelation of residuals'\n",
    "    )\n",
    "\n",
    "    plt.show()\n",
    "\n",
    "\n",
    "def plotPACF(data, decomposition, lags=36):\n",
    "    trend = decomposition.trend.dronpna()\n",
    "    seasonal = decomposition.seasonal.dronpna()\n",
    "    resid = decomposition.resid.dropna()\n",
    "\n",
    "    plot_acf(\n",
    "        dataStat,\n",
    "        lags=lags,\n",
    "        vlines_kwargs={'color': 'b'},\n",
    "        markerfacecolor='b', markeredgecolor='b',\n",
    "        title='Autocorrelation of target'\n",
    "    )\n",
    "\n",
    "    plot_pacf(\n",
    "        trend.dropna(),\n",
    "        lags=lags,\n",
    "        vlines_kwargs={'color': 'navy'},\n",
    "        markerfacecolor='navy',\n",
    "        markeredgecolor='navy',\n",
    "        title='Partial autocorrelation of trend'\n",
    "    )\n",
    "\n",
    "    try:\n",
    "        plot_pacf(\n",
    "            seasonal,\n",
    "            lags=lags,\n",
    "            vlines_kwargs={'color': 'g'},\n",
    "            markerfacecolor='g',\n",
    "            markeredgecolor='g',\n",
    "            title='Partial autocorrelation of seasonal'\n",
    "        )\n",
    "    except Exception as exc:\n",
    "        print(exc)\n",
    "\n",
    "    try:\n",
    "        plot_pacf(\n",
    "            resid,\n",
    "            lags=lags,\n",
    "            vlines_kwargs={'color': 'maroon'},\n",
    "            markerfacecolor='maroon',\n",
    "            markeredgecolor='maroon',\n",
    "            title='Partial autocorrelation of residuals'\n",
    "        )\n",
    "    except Exception as exc:\n",
    "        print(exc)\n",
    "\n",
    "    plt.show()\n",
    "\n",
    "\n",
    "def getResidAnalytics(resid):\n",
    "    resid = resid.dropna()\n",
    "    color = 'maroon'\n",
    "\n",
    "    plt.subplots(1, 2, figsize=(24, 8))\n",
    "\n",
    "    plt.subplot(1, 2, 1)\n",
    "    plt.plot(resid, '-', color=color)\n",
    "    plt.grid(linestyle=':', color='k')\n",
    "    plt.title(\"Residuals\")\n",
    "\n",
    "    x_fit = np.linspace(resid.min(), resid.max(), 201)\n",
    "    loc_laplace, scale_laplace = st.laplace.fit(resid.dropna())\n",
    "    loc_norm, scale_norm = st.norm.fit(resid.dropna())\n",
    "    # print(f\"Fitting of residuals by Laplace distribution: fitted mean = {loc:.3f}, fitted std = {scale:.3f}\")\n",
    "    y_fit_laplace = st.laplace.pdf(x_fit, loc_laplace, scale_laplace)\n",
    "    y_fit_norm = st.norm.pdf(x_fit, loc_norm, scale_norm)\n",
    "\n",
    "    plt.subplot(1, 2, 2)\n",
    "    sns.distplot(resid, color=color, bins=100, vertical=True,\n",
    "                 label=\"distribution of residuals\")\n",
    "    plt.plot(y_fit_laplace, x_fit, '-b',\n",
    "             label=f\"approximation by Laplace distribution:\\n  fitted mean = {loc_laplace:.4g}, fitted std = {scale_laplace:.4g}\")\n",
    "    plt.plot(y_fit_norm, x_fit, '-g',\n",
    "             label=f\"approximation by normal distribution:\\n  fitted mean = {loc_norm:.4g}, fitted std = {scale_norm:.4g}\")\n",
    "    plt.legend()\n",
    "    # plt.ylim(resid-0.02*y_range, y_max+0.02*y_range)\n",
    "    plt.title(\"Distribution of residuals\")\n",
    "    plt.grid(linestyle=':', color='k')\n",
    "\n",
    "    plt.show()\n",
    "\n",
    "    ecdf_resid_instance = ECDF(resid.dropna())\n",
    "    resid_arr = resid.dropna().sort_values().values\n",
    "    ecdf_resid = ecdf_resid_instance(resid_arr)\n",
    "\n",
    "    cdf_norm = st.norm.cdf(resid_arr, loc=loc_norm, scale=scale_norm)\n",
    "    cdf_laplace = st.laplace.cdf(\n",
    "        resid_arr, loc=loc_laplace, scale=scale_laplace)\n",
    "\n",
    "    mae_norm = mean_absolute_error(ecdf_resid, cdf_norm)\n",
    "    mae_laplace = mean_absolute_error(ecdf_resid, cdf_laplace)\n",
    "\n",
    "    plt.subplots(1, 1, figsize=(20, 8))\n",
    "    plt.plot(resid_arr, ecdf_resid, '-', color='maroon')\n",
    "    plt.plot(resid_arr, cdf_norm, '-g',\n",
    "             label=f\"Normal approx : MAE = {mae_norm:.3g}\")\n",
    "    plt.plot(resid_arr, cdf_laplace, '-b',\n",
    "             label=f\"Laplace approx: MAE = {mae_laplace:.3g}\")\n",
    "    plt.legend()\n",
    "    plt.title(\"CDF of decomposition residuals\")\n",
    "    plt.show()\n",
    "\n",
    "    get_stationary(resid)\n",
    "\n",
    "\n",
    "def adffullerTest(data, alpha=0.05):\n",
    "    print(\"==== Augmented Dickey–Fuller (Null hypothesis - The process is non-stationary) ====\")\n",
    "    result = adfuller(data.values, autolag='AIC')\n",
    "    print(f'ADF Statistic: {result[0]}')\n",
    "    print(f'p-value: {result[1]}')\n",
    "    if result[1] < alpha:\n",
    "        print(\"The process is\" + color.BOLD + color.GREEN +\n",
    "              \" stationary \" + color.END + \"by ADF.\\n\")\n",
    "    else:\n",
    "        print(\"The process is\" + color.BOLD + color.RED +\n",
    "              \" non-stationary \" + color.END + \"by ADF.\\n\")\n",
    "\n",
    "\n",
    "def kpssTest(data, alpha=0.05):\n",
    "    print('==== Kwiatkowski–Phillips–Schmidt–Shin (KPSS) test (Null hypothesis - The process is stationary) ====')\n",
    "    kpsstest = kpss(data.values, regression='c')\n",
    "    print(\"KPSS Statistic = \" + str(kpsstest[0]))\n",
    "    print(\"p-value = \" + str(kpsstest[1]))\n",
    "    if kpsstest[1] < alpha:\n",
    "        print(\"The process is\" + color.BOLD + color.RED +\n",
    "              \" non-stationary \" + color.END + \"by KPSS.\\n\")\n",
    "    else:\n",
    "        print(\"The process is\" + color.BOLD + color.GREEN +\n",
    "              \" stationary \" + color.END + \"by KPSS.\\n\")\n",
    "\n",
    "\n",
    "def getStationary(data):\n",
    "    adffullerTest(data)\n",
    "    kpssTest(data)\n"
   ]
  },
  {
   "cell_type": "markdown",
   "id": "999009fa",
   "metadata": {},
   "source": [
    "# Gather data"
   ]
  },
  {
   "cell_type": "code",
   "execution_count": 121,
   "id": "01a95df7",
   "metadata": {
    "ExecuteTime": {
     "end_time": "2022-07-17T15:06:00.757827Z",
     "start_time": "2022-07-17T15:06:00.736899Z"
    }
   },
   "outputs": [
    {
     "name": "stdout",
     "output_type": "stream",
     "text": [
      "TOTEMP     0\n",
      "GNPDEFL    0\n",
      "GNP        0\n",
      "UNEMP      0\n",
      "ARMED      0\n",
      "POP        0\n",
      "YEAR       0\n",
      "dtype: int64\n",
      "\n",
      "shape:  (16, 7)\n"
     ]
    },
    {
     "data": {
      "text/html": [
       "<div>\n",
       "<style scoped>\n",
       "    .dataframe tbody tr th:only-of-type {\n",
       "        vertical-align: middle;\n",
       "    }\n",
       "\n",
       "    .dataframe tbody tr th {\n",
       "        vertical-align: top;\n",
       "    }\n",
       "\n",
       "    .dataframe thead th {\n",
       "        text-align: right;\n",
       "    }\n",
       "</style>\n",
       "<table border=\"1\" class=\"dataframe\">\n",
       "  <thead>\n",
       "    <tr style=\"text-align: right;\">\n",
       "      <th></th>\n",
       "      <th>TOTEMP</th>\n",
       "      <th>GNPDEFL</th>\n",
       "      <th>GNP</th>\n",
       "      <th>UNEMP</th>\n",
       "      <th>ARMED</th>\n",
       "      <th>POP</th>\n",
       "      <th>YEAR</th>\n",
       "    </tr>\n",
       "  </thead>\n",
       "  <tbody>\n",
       "    <tr>\n",
       "      <th>0</th>\n",
       "      <td>60323.0</td>\n",
       "      <td>83.0</td>\n",
       "      <td>234289.0</td>\n",
       "      <td>2356.0</td>\n",
       "      <td>1590.0</td>\n",
       "      <td>107608.0</td>\n",
       "      <td>1947.0</td>\n",
       "    </tr>\n",
       "    <tr>\n",
       "      <th>1</th>\n",
       "      <td>61122.0</td>\n",
       "      <td>88.5</td>\n",
       "      <td>259426.0</td>\n",
       "      <td>2325.0</td>\n",
       "      <td>1456.0</td>\n",
       "      <td>108632.0</td>\n",
       "      <td>1948.0</td>\n",
       "    </tr>\n",
       "    <tr>\n",
       "      <th>2</th>\n",
       "      <td>60171.0</td>\n",
       "      <td>88.2</td>\n",
       "      <td>258054.0</td>\n",
       "      <td>3682.0</td>\n",
       "      <td>1616.0</td>\n",
       "      <td>109773.0</td>\n",
       "      <td>1949.0</td>\n",
       "    </tr>\n",
       "    <tr>\n",
       "      <th>3</th>\n",
       "      <td>61187.0</td>\n",
       "      <td>89.5</td>\n",
       "      <td>284599.0</td>\n",
       "      <td>3351.0</td>\n",
       "      <td>1650.0</td>\n",
       "      <td>110929.0</td>\n",
       "      <td>1950.0</td>\n",
       "    </tr>\n",
       "    <tr>\n",
       "      <th>4</th>\n",
       "      <td>63221.0</td>\n",
       "      <td>96.2</td>\n",
       "      <td>328975.0</td>\n",
       "      <td>2099.0</td>\n",
       "      <td>3099.0</td>\n",
       "      <td>112075.0</td>\n",
       "      <td>1951.0</td>\n",
       "    </tr>\n",
       "    <tr>\n",
       "      <th>5</th>\n",
       "      <td>63639.0</td>\n",
       "      <td>98.1</td>\n",
       "      <td>346999.0</td>\n",
       "      <td>1932.0</td>\n",
       "      <td>3594.0</td>\n",
       "      <td>113270.0</td>\n",
       "      <td>1952.0</td>\n",
       "    </tr>\n",
       "    <tr>\n",
       "      <th>6</th>\n",
       "      <td>64989.0</td>\n",
       "      <td>99.0</td>\n",
       "      <td>365385.0</td>\n",
       "      <td>1870.0</td>\n",
       "      <td>3547.0</td>\n",
       "      <td>115094.0</td>\n",
       "      <td>1953.0</td>\n",
       "    </tr>\n",
       "    <tr>\n",
       "      <th>7</th>\n",
       "      <td>63761.0</td>\n",
       "      <td>100.0</td>\n",
       "      <td>363112.0</td>\n",
       "      <td>3578.0</td>\n",
       "      <td>3350.0</td>\n",
       "      <td>116219.0</td>\n",
       "      <td>1954.0</td>\n",
       "    </tr>\n",
       "    <tr>\n",
       "      <th>8</th>\n",
       "      <td>66019.0</td>\n",
       "      <td>101.2</td>\n",
       "      <td>397469.0</td>\n",
       "      <td>2904.0</td>\n",
       "      <td>3048.0</td>\n",
       "      <td>117388.0</td>\n",
       "      <td>1955.0</td>\n",
       "    </tr>\n",
       "    <tr>\n",
       "      <th>9</th>\n",
       "      <td>67857.0</td>\n",
       "      <td>104.6</td>\n",
       "      <td>419180.0</td>\n",
       "      <td>2822.0</td>\n",
       "      <td>2857.0</td>\n",
       "      <td>118734.0</td>\n",
       "      <td>1956.0</td>\n",
       "    </tr>\n",
       "    <tr>\n",
       "      <th>10</th>\n",
       "      <td>68169.0</td>\n",
       "      <td>108.4</td>\n",
       "      <td>442769.0</td>\n",
       "      <td>2936.0</td>\n",
       "      <td>2798.0</td>\n",
       "      <td>120445.0</td>\n",
       "      <td>1957.0</td>\n",
       "    </tr>\n",
       "    <tr>\n",
       "      <th>11</th>\n",
       "      <td>66513.0</td>\n",
       "      <td>110.8</td>\n",
       "      <td>444546.0</td>\n",
       "      <td>4681.0</td>\n",
       "      <td>2637.0</td>\n",
       "      <td>121950.0</td>\n",
       "      <td>1958.0</td>\n",
       "    </tr>\n",
       "    <tr>\n",
       "      <th>12</th>\n",
       "      <td>68655.0</td>\n",
       "      <td>112.6</td>\n",
       "      <td>482704.0</td>\n",
       "      <td>3813.0</td>\n",
       "      <td>2552.0</td>\n",
       "      <td>123366.0</td>\n",
       "      <td>1959.0</td>\n",
       "    </tr>\n",
       "    <tr>\n",
       "      <th>13</th>\n",
       "      <td>69564.0</td>\n",
       "      <td>114.2</td>\n",
       "      <td>502601.0</td>\n",
       "      <td>3931.0</td>\n",
       "      <td>2514.0</td>\n",
       "      <td>125368.0</td>\n",
       "      <td>1960.0</td>\n",
       "    </tr>\n",
       "    <tr>\n",
       "      <th>14</th>\n",
       "      <td>69331.0</td>\n",
       "      <td>115.7</td>\n",
       "      <td>518173.0</td>\n",
       "      <td>4806.0</td>\n",
       "      <td>2572.0</td>\n",
       "      <td>127852.0</td>\n",
       "      <td>1961.0</td>\n",
       "    </tr>\n",
       "    <tr>\n",
       "      <th>15</th>\n",
       "      <td>70551.0</td>\n",
       "      <td>116.9</td>\n",
       "      <td>554894.0</td>\n",
       "      <td>4007.0</td>\n",
       "      <td>2827.0</td>\n",
       "      <td>130081.0</td>\n",
       "      <td>1962.0</td>\n",
       "    </tr>\n",
       "  </tbody>\n",
       "</table>\n",
       "</div>"
      ],
      "text/plain": [
       "     TOTEMP  GNPDEFL       GNP   UNEMP   ARMED       POP    YEAR\n",
       "0   60323.0     83.0  234289.0  2356.0  1590.0  107608.0  1947.0\n",
       "1   61122.0     88.5  259426.0  2325.0  1456.0  108632.0  1948.0\n",
       "2   60171.0     88.2  258054.0  3682.0  1616.0  109773.0  1949.0\n",
       "3   61187.0     89.5  284599.0  3351.0  1650.0  110929.0  1950.0\n",
       "4   63221.0     96.2  328975.0  2099.0  3099.0  112075.0  1951.0\n",
       "5   63639.0     98.1  346999.0  1932.0  3594.0  113270.0  1952.0\n",
       "6   64989.0     99.0  365385.0  1870.0  3547.0  115094.0  1953.0\n",
       "7   63761.0    100.0  363112.0  3578.0  3350.0  116219.0  1954.0\n",
       "8   66019.0    101.2  397469.0  2904.0  3048.0  117388.0  1955.0\n",
       "9   67857.0    104.6  419180.0  2822.0  2857.0  118734.0  1956.0\n",
       "10  68169.0    108.4  442769.0  2936.0  2798.0  120445.0  1957.0\n",
       "11  66513.0    110.8  444546.0  4681.0  2637.0  121950.0  1958.0\n",
       "12  68655.0    112.6  482704.0  3813.0  2552.0  123366.0  1959.0\n",
       "13  69564.0    114.2  502601.0  3931.0  2514.0  125368.0  1960.0\n",
       "14  69331.0    115.7  518173.0  4806.0  2572.0  127852.0  1961.0\n",
       "15  70551.0    116.9  554894.0  4007.0  2827.0  130081.0  1962.0"
      ]
     },
     "execution_count": 121,
     "metadata": {},
     "output_type": "execute_result"
    }
   ],
   "source": [
    "df = sm.datasets.longley.load_pandas().data\n",
    "print(df.isna().sum())\n",
    "print('\\nshape: ', df.shape)\n",
    "df"
   ]
  },
  {
   "cell_type": "code",
   "execution_count": 122,
   "id": "f4eacc4d",
   "metadata": {
    "ExecuteTime": {
     "end_time": "2022-07-17T15:06:01.116513Z",
     "start_time": "2022-07-17T15:06:01.096335Z"
    }
   },
   "outputs": [
    {
     "data": {
      "text/html": [
       "<div>\n",
       "<style scoped>\n",
       "    .dataframe tbody tr th:only-of-type {\n",
       "        vertical-align: middle;\n",
       "    }\n",
       "\n",
       "    .dataframe tbody tr th {\n",
       "        vertical-align: top;\n",
       "    }\n",
       "\n",
       "    .dataframe thead th {\n",
       "        text-align: right;\n",
       "    }\n",
       "</style>\n",
       "<table border=\"1\" class=\"dataframe\">\n",
       "  <thead>\n",
       "    <tr style=\"text-align: right;\">\n",
       "      <th></th>\n",
       "      <th>TOTEMP</th>\n",
       "      <th>GNPDEFL</th>\n",
       "      <th>GNP</th>\n",
       "      <th>UNEMP</th>\n",
       "      <th>ARMED</th>\n",
       "      <th>POP</th>\n",
       "    </tr>\n",
       "  </thead>\n",
       "  <tbody>\n",
       "    <tr>\n",
       "      <th>1947-12-31</th>\n",
       "      <td>60323.0</td>\n",
       "      <td>83.0</td>\n",
       "      <td>234289.0</td>\n",
       "      <td>2356.0</td>\n",
       "      <td>1590.0</td>\n",
       "      <td>107608.0</td>\n",
       "    </tr>\n",
       "    <tr>\n",
       "      <th>1948-12-31</th>\n",
       "      <td>61122.0</td>\n",
       "      <td>88.5</td>\n",
       "      <td>259426.0</td>\n",
       "      <td>2325.0</td>\n",
       "      <td>1456.0</td>\n",
       "      <td>108632.0</td>\n",
       "    </tr>\n",
       "    <tr>\n",
       "      <th>1949-12-31</th>\n",
       "      <td>60171.0</td>\n",
       "      <td>88.2</td>\n",
       "      <td>258054.0</td>\n",
       "      <td>3682.0</td>\n",
       "      <td>1616.0</td>\n",
       "      <td>109773.0</td>\n",
       "    </tr>\n",
       "    <tr>\n",
       "      <th>1950-12-31</th>\n",
       "      <td>61187.0</td>\n",
       "      <td>89.5</td>\n",
       "      <td>284599.0</td>\n",
       "      <td>3351.0</td>\n",
       "      <td>1650.0</td>\n",
       "      <td>110929.0</td>\n",
       "    </tr>\n",
       "    <tr>\n",
       "      <th>1951-12-31</th>\n",
       "      <td>63221.0</td>\n",
       "      <td>96.2</td>\n",
       "      <td>328975.0</td>\n",
       "      <td>2099.0</td>\n",
       "      <td>3099.0</td>\n",
       "      <td>112075.0</td>\n",
       "    </tr>\n",
       "    <tr>\n",
       "      <th>1952-12-31</th>\n",
       "      <td>63639.0</td>\n",
       "      <td>98.1</td>\n",
       "      <td>346999.0</td>\n",
       "      <td>1932.0</td>\n",
       "      <td>3594.0</td>\n",
       "      <td>113270.0</td>\n",
       "    </tr>\n",
       "    <tr>\n",
       "      <th>1953-12-31</th>\n",
       "      <td>64989.0</td>\n",
       "      <td>99.0</td>\n",
       "      <td>365385.0</td>\n",
       "      <td>1870.0</td>\n",
       "      <td>3547.0</td>\n",
       "      <td>115094.0</td>\n",
       "    </tr>\n",
       "    <tr>\n",
       "      <th>1954-12-31</th>\n",
       "      <td>63761.0</td>\n",
       "      <td>100.0</td>\n",
       "      <td>363112.0</td>\n",
       "      <td>3578.0</td>\n",
       "      <td>3350.0</td>\n",
       "      <td>116219.0</td>\n",
       "    </tr>\n",
       "    <tr>\n",
       "      <th>1955-12-31</th>\n",
       "      <td>66019.0</td>\n",
       "      <td>101.2</td>\n",
       "      <td>397469.0</td>\n",
       "      <td>2904.0</td>\n",
       "      <td>3048.0</td>\n",
       "      <td>117388.0</td>\n",
       "    </tr>\n",
       "    <tr>\n",
       "      <th>1956-12-31</th>\n",
       "      <td>67857.0</td>\n",
       "      <td>104.6</td>\n",
       "      <td>419180.0</td>\n",
       "      <td>2822.0</td>\n",
       "      <td>2857.0</td>\n",
       "      <td>118734.0</td>\n",
       "    </tr>\n",
       "    <tr>\n",
       "      <th>1957-12-31</th>\n",
       "      <td>68169.0</td>\n",
       "      <td>108.4</td>\n",
       "      <td>442769.0</td>\n",
       "      <td>2936.0</td>\n",
       "      <td>2798.0</td>\n",
       "      <td>120445.0</td>\n",
       "    </tr>\n",
       "    <tr>\n",
       "      <th>1958-12-31</th>\n",
       "      <td>66513.0</td>\n",
       "      <td>110.8</td>\n",
       "      <td>444546.0</td>\n",
       "      <td>4681.0</td>\n",
       "      <td>2637.0</td>\n",
       "      <td>121950.0</td>\n",
       "    </tr>\n",
       "    <tr>\n",
       "      <th>1959-12-31</th>\n",
       "      <td>68655.0</td>\n",
       "      <td>112.6</td>\n",
       "      <td>482704.0</td>\n",
       "      <td>3813.0</td>\n",
       "      <td>2552.0</td>\n",
       "      <td>123366.0</td>\n",
       "    </tr>\n",
       "    <tr>\n",
       "      <th>1960-12-31</th>\n",
       "      <td>69564.0</td>\n",
       "      <td>114.2</td>\n",
       "      <td>502601.0</td>\n",
       "      <td>3931.0</td>\n",
       "      <td>2514.0</td>\n",
       "      <td>125368.0</td>\n",
       "    </tr>\n",
       "    <tr>\n",
       "      <th>1961-12-31</th>\n",
       "      <td>69331.0</td>\n",
       "      <td>115.7</td>\n",
       "      <td>518173.0</td>\n",
       "      <td>4806.0</td>\n",
       "      <td>2572.0</td>\n",
       "      <td>127852.0</td>\n",
       "    </tr>\n",
       "    <tr>\n",
       "      <th>1962-12-31</th>\n",
       "      <td>70551.0</td>\n",
       "      <td>116.9</td>\n",
       "      <td>554894.0</td>\n",
       "      <td>4007.0</td>\n",
       "      <td>2827.0</td>\n",
       "      <td>130081.0</td>\n",
       "    </tr>\n",
       "  </tbody>\n",
       "</table>\n",
       "</div>"
      ],
      "text/plain": [
       "             TOTEMP  GNPDEFL       GNP   UNEMP   ARMED       POP\n",
       "1947-12-31  60323.0     83.0  234289.0  2356.0  1590.0  107608.0\n",
       "1948-12-31  61122.0     88.5  259426.0  2325.0  1456.0  108632.0\n",
       "1949-12-31  60171.0     88.2  258054.0  3682.0  1616.0  109773.0\n",
       "1950-12-31  61187.0     89.5  284599.0  3351.0  1650.0  110929.0\n",
       "1951-12-31  63221.0     96.2  328975.0  2099.0  3099.0  112075.0\n",
       "1952-12-31  63639.0     98.1  346999.0  1932.0  3594.0  113270.0\n",
       "1953-12-31  64989.0     99.0  365385.0  1870.0  3547.0  115094.0\n",
       "1954-12-31  63761.0    100.0  363112.0  3578.0  3350.0  116219.0\n",
       "1955-12-31  66019.0    101.2  397469.0  2904.0  3048.0  117388.0\n",
       "1956-12-31  67857.0    104.6  419180.0  2822.0  2857.0  118734.0\n",
       "1957-12-31  68169.0    108.4  442769.0  2936.0  2798.0  120445.0\n",
       "1958-12-31  66513.0    110.8  444546.0  4681.0  2637.0  121950.0\n",
       "1959-12-31  68655.0    112.6  482704.0  3813.0  2552.0  123366.0\n",
       "1960-12-31  69564.0    114.2  502601.0  3931.0  2514.0  125368.0\n",
       "1961-12-31  69331.0    115.7  518173.0  4806.0  2572.0  127852.0\n",
       "1962-12-31  70551.0    116.9  554894.0  4007.0  2827.0  130081.0"
      ]
     },
     "execution_count": 122,
     "metadata": {},
     "output_type": "execute_result"
    }
   ],
   "source": [
    "_index = pd.date_range('1947-01-01', '1963-01-01', freq='Y')\n",
    "df.index = _index\n",
    "df.drop(columns=['YEAR'], inplace=True)\n",
    "df"
   ]
  },
  {
   "cell_type": "code",
   "execution_count": 123,
   "id": "cd2bbf19",
   "metadata": {
    "ExecuteTime": {
     "end_time": "2022-07-17T15:06:01.900697Z",
     "start_time": "2022-07-17T15:06:01.828927Z"
    }
   },
   "outputs": [
    {
     "data": {
      "application/vnd.plotly.v1+json": {
       "config": {
        "plotlyServerURL": "https://plot.ly"
       },
       "data": [
        {
         "hovertemplate": "variable=TOTEMP<br>index=%{x}<br>value=%{y}<extra></extra>",
         "legendgroup": "TOTEMP",
         "line": {
          "color": "#636efa",
          "dash": "solid"
         },
         "marker": {
          "symbol": "circle"
         },
         "mode": "lines",
         "name": "TOTEMP",
         "orientation": "v",
         "showlegend": true,
         "type": "scatter",
         "x": [
          "1947-12-31T00:00:00",
          "1948-12-31T00:00:00",
          "1949-12-31T00:00:00",
          "1950-12-31T00:00:00",
          "1951-12-31T00:00:00",
          "1952-12-31T00:00:00",
          "1953-12-31T00:00:00",
          "1954-12-31T00:00:00",
          "1955-12-31T00:00:00",
          "1956-12-31T00:00:00",
          "1957-12-31T00:00:00",
          "1958-12-31T00:00:00",
          "1959-12-31T00:00:00",
          "1960-12-31T00:00:00",
          "1961-12-31T00:00:00",
          "1962-12-31T00:00:00"
         ],
         "xaxis": "x",
         "y": [
          60323,
          61122,
          60171,
          61187,
          63221,
          63639,
          64989,
          63761,
          66019,
          67857,
          68169,
          66513,
          68655,
          69564,
          69331,
          70551
         ],
         "yaxis": "y"
        },
        {
         "hovertemplate": "variable=GNPDEFL<br>index=%{x}<br>value=%{y}<extra></extra>",
         "legendgroup": "GNPDEFL",
         "line": {
          "color": "#EF553B",
          "dash": "solid"
         },
         "marker": {
          "symbol": "circle"
         },
         "mode": "lines",
         "name": "GNPDEFL",
         "orientation": "v",
         "showlegend": true,
         "type": "scatter",
         "x": [
          "1947-12-31T00:00:00",
          "1948-12-31T00:00:00",
          "1949-12-31T00:00:00",
          "1950-12-31T00:00:00",
          "1951-12-31T00:00:00",
          "1952-12-31T00:00:00",
          "1953-12-31T00:00:00",
          "1954-12-31T00:00:00",
          "1955-12-31T00:00:00",
          "1956-12-31T00:00:00",
          "1957-12-31T00:00:00",
          "1958-12-31T00:00:00",
          "1959-12-31T00:00:00",
          "1960-12-31T00:00:00",
          "1961-12-31T00:00:00",
          "1962-12-31T00:00:00"
         ],
         "xaxis": "x",
         "y": [
          83,
          88.5,
          88.2,
          89.5,
          96.2,
          98.1,
          99,
          100,
          101.2,
          104.6,
          108.4,
          110.8,
          112.6,
          114.2,
          115.7,
          116.9
         ],
         "yaxis": "y"
        },
        {
         "hovertemplate": "variable=GNP<br>index=%{x}<br>value=%{y}<extra></extra>",
         "legendgroup": "GNP",
         "line": {
          "color": "#00cc96",
          "dash": "solid"
         },
         "marker": {
          "symbol": "circle"
         },
         "mode": "lines",
         "name": "GNP",
         "orientation": "v",
         "showlegend": true,
         "type": "scatter",
         "x": [
          "1947-12-31T00:00:00",
          "1948-12-31T00:00:00",
          "1949-12-31T00:00:00",
          "1950-12-31T00:00:00",
          "1951-12-31T00:00:00",
          "1952-12-31T00:00:00",
          "1953-12-31T00:00:00",
          "1954-12-31T00:00:00",
          "1955-12-31T00:00:00",
          "1956-12-31T00:00:00",
          "1957-12-31T00:00:00",
          "1958-12-31T00:00:00",
          "1959-12-31T00:00:00",
          "1960-12-31T00:00:00",
          "1961-12-31T00:00:00",
          "1962-12-31T00:00:00"
         ],
         "xaxis": "x",
         "y": [
          234289,
          259426,
          258054,
          284599,
          328975,
          346999,
          365385,
          363112,
          397469,
          419180,
          442769,
          444546,
          482704,
          502601,
          518173,
          554894
         ],
         "yaxis": "y"
        },
        {
         "hovertemplate": "variable=UNEMP<br>index=%{x}<br>value=%{y}<extra></extra>",
         "legendgroup": "UNEMP",
         "line": {
          "color": "#ab63fa",
          "dash": "solid"
         },
         "marker": {
          "symbol": "circle"
         },
         "mode": "lines",
         "name": "UNEMP",
         "orientation": "v",
         "showlegend": true,
         "type": "scatter",
         "x": [
          "1947-12-31T00:00:00",
          "1948-12-31T00:00:00",
          "1949-12-31T00:00:00",
          "1950-12-31T00:00:00",
          "1951-12-31T00:00:00",
          "1952-12-31T00:00:00",
          "1953-12-31T00:00:00",
          "1954-12-31T00:00:00",
          "1955-12-31T00:00:00",
          "1956-12-31T00:00:00",
          "1957-12-31T00:00:00",
          "1958-12-31T00:00:00",
          "1959-12-31T00:00:00",
          "1960-12-31T00:00:00",
          "1961-12-31T00:00:00",
          "1962-12-31T00:00:00"
         ],
         "xaxis": "x",
         "y": [
          2356,
          2325,
          3682,
          3351,
          2099,
          1932,
          1870,
          3578,
          2904,
          2822,
          2936,
          4681,
          3813,
          3931,
          4806,
          4007
         ],
         "yaxis": "y"
        },
        {
         "hovertemplate": "variable=ARMED<br>index=%{x}<br>value=%{y}<extra></extra>",
         "legendgroup": "ARMED",
         "line": {
          "color": "#FFA15A",
          "dash": "solid"
         },
         "marker": {
          "symbol": "circle"
         },
         "mode": "lines",
         "name": "ARMED",
         "orientation": "v",
         "showlegend": true,
         "type": "scatter",
         "x": [
          "1947-12-31T00:00:00",
          "1948-12-31T00:00:00",
          "1949-12-31T00:00:00",
          "1950-12-31T00:00:00",
          "1951-12-31T00:00:00",
          "1952-12-31T00:00:00",
          "1953-12-31T00:00:00",
          "1954-12-31T00:00:00",
          "1955-12-31T00:00:00",
          "1956-12-31T00:00:00",
          "1957-12-31T00:00:00",
          "1958-12-31T00:00:00",
          "1959-12-31T00:00:00",
          "1960-12-31T00:00:00",
          "1961-12-31T00:00:00",
          "1962-12-31T00:00:00"
         ],
         "xaxis": "x",
         "y": [
          1590,
          1456,
          1616,
          1650,
          3099,
          3594,
          3547,
          3350,
          3048,
          2857,
          2798,
          2637,
          2552,
          2514,
          2572,
          2827
         ],
         "yaxis": "y"
        },
        {
         "hovertemplate": "variable=POP<br>index=%{x}<br>value=%{y}<extra></extra>",
         "legendgroup": "POP",
         "line": {
          "color": "#19d3f3",
          "dash": "solid"
         },
         "marker": {
          "symbol": "circle"
         },
         "mode": "lines",
         "name": "POP",
         "orientation": "v",
         "showlegend": true,
         "type": "scatter",
         "x": [
          "1947-12-31T00:00:00",
          "1948-12-31T00:00:00",
          "1949-12-31T00:00:00",
          "1950-12-31T00:00:00",
          "1951-12-31T00:00:00",
          "1952-12-31T00:00:00",
          "1953-12-31T00:00:00",
          "1954-12-31T00:00:00",
          "1955-12-31T00:00:00",
          "1956-12-31T00:00:00",
          "1957-12-31T00:00:00",
          "1958-12-31T00:00:00",
          "1959-12-31T00:00:00",
          "1960-12-31T00:00:00",
          "1961-12-31T00:00:00",
          "1962-12-31T00:00:00"
         ],
         "xaxis": "x",
         "y": [
          107608,
          108632,
          109773,
          110929,
          112075,
          113270,
          115094,
          116219,
          117388,
          118734,
          120445,
          121950,
          123366,
          125368,
          127852,
          130081
         ],
         "yaxis": "y"
        }
       ],
       "layout": {
        "legend": {
         "title": {
          "text": "variable"
         },
         "tracegroupgap": 0
        },
        "margin": {
         "t": 60
        },
        "template": {
         "data": {
          "bar": [
           {
            "error_x": {
             "color": "#2a3f5f"
            },
            "error_y": {
             "color": "#2a3f5f"
            },
            "marker": {
             "line": {
              "color": "#E5ECF6",
              "width": 0.5
             },
             "pattern": {
              "fillmode": "overlay",
              "size": 10,
              "solidity": 0.2
             }
            },
            "type": "bar"
           }
          ],
          "barpolar": [
           {
            "marker": {
             "line": {
              "color": "#E5ECF6",
              "width": 0.5
             },
             "pattern": {
              "fillmode": "overlay",
              "size": 10,
              "solidity": 0.2
             }
            },
            "type": "barpolar"
           }
          ],
          "carpet": [
           {
            "aaxis": {
             "endlinecolor": "#2a3f5f",
             "gridcolor": "white",
             "linecolor": "white",
             "minorgridcolor": "white",
             "startlinecolor": "#2a3f5f"
            },
            "baxis": {
             "endlinecolor": "#2a3f5f",
             "gridcolor": "white",
             "linecolor": "white",
             "minorgridcolor": "white",
             "startlinecolor": "#2a3f5f"
            },
            "type": "carpet"
           }
          ],
          "choropleth": [
           {
            "colorbar": {
             "outlinewidth": 0,
             "ticks": ""
            },
            "type": "choropleth"
           }
          ],
          "contour": [
           {
            "colorbar": {
             "outlinewidth": 0,
             "ticks": ""
            },
            "colorscale": [
             [
              0,
              "#0d0887"
             ],
             [
              0.1111111111111111,
              "#46039f"
             ],
             [
              0.2222222222222222,
              "#7201a8"
             ],
             [
              0.3333333333333333,
              "#9c179e"
             ],
             [
              0.4444444444444444,
              "#bd3786"
             ],
             [
              0.5555555555555556,
              "#d8576b"
             ],
             [
              0.6666666666666666,
              "#ed7953"
             ],
             [
              0.7777777777777778,
              "#fb9f3a"
             ],
             [
              0.8888888888888888,
              "#fdca26"
             ],
             [
              1,
              "#f0f921"
             ]
            ],
            "type": "contour"
           }
          ],
          "contourcarpet": [
           {
            "colorbar": {
             "outlinewidth": 0,
             "ticks": ""
            },
            "type": "contourcarpet"
           }
          ],
          "heatmap": [
           {
            "colorbar": {
             "outlinewidth": 0,
             "ticks": ""
            },
            "colorscale": [
             [
              0,
              "#0d0887"
             ],
             [
              0.1111111111111111,
              "#46039f"
             ],
             [
              0.2222222222222222,
              "#7201a8"
             ],
             [
              0.3333333333333333,
              "#9c179e"
             ],
             [
              0.4444444444444444,
              "#bd3786"
             ],
             [
              0.5555555555555556,
              "#d8576b"
             ],
             [
              0.6666666666666666,
              "#ed7953"
             ],
             [
              0.7777777777777778,
              "#fb9f3a"
             ],
             [
              0.8888888888888888,
              "#fdca26"
             ],
             [
              1,
              "#f0f921"
             ]
            ],
            "type": "heatmap"
           }
          ],
          "heatmapgl": [
           {
            "colorbar": {
             "outlinewidth": 0,
             "ticks": ""
            },
            "colorscale": [
             [
              0,
              "#0d0887"
             ],
             [
              0.1111111111111111,
              "#46039f"
             ],
             [
              0.2222222222222222,
              "#7201a8"
             ],
             [
              0.3333333333333333,
              "#9c179e"
             ],
             [
              0.4444444444444444,
              "#bd3786"
             ],
             [
              0.5555555555555556,
              "#d8576b"
             ],
             [
              0.6666666666666666,
              "#ed7953"
             ],
             [
              0.7777777777777778,
              "#fb9f3a"
             ],
             [
              0.8888888888888888,
              "#fdca26"
             ],
             [
              1,
              "#f0f921"
             ]
            ],
            "type": "heatmapgl"
           }
          ],
          "histogram": [
           {
            "marker": {
             "pattern": {
              "fillmode": "overlay",
              "size": 10,
              "solidity": 0.2
             }
            },
            "type": "histogram"
           }
          ],
          "histogram2d": [
           {
            "colorbar": {
             "outlinewidth": 0,
             "ticks": ""
            },
            "colorscale": [
             [
              0,
              "#0d0887"
             ],
             [
              0.1111111111111111,
              "#46039f"
             ],
             [
              0.2222222222222222,
              "#7201a8"
             ],
             [
              0.3333333333333333,
              "#9c179e"
             ],
             [
              0.4444444444444444,
              "#bd3786"
             ],
             [
              0.5555555555555556,
              "#d8576b"
             ],
             [
              0.6666666666666666,
              "#ed7953"
             ],
             [
              0.7777777777777778,
              "#fb9f3a"
             ],
             [
              0.8888888888888888,
              "#fdca26"
             ],
             [
              1,
              "#f0f921"
             ]
            ],
            "type": "histogram2d"
           }
          ],
          "histogram2dcontour": [
           {
            "colorbar": {
             "outlinewidth": 0,
             "ticks": ""
            },
            "colorscale": [
             [
              0,
              "#0d0887"
             ],
             [
              0.1111111111111111,
              "#46039f"
             ],
             [
              0.2222222222222222,
              "#7201a8"
             ],
             [
              0.3333333333333333,
              "#9c179e"
             ],
             [
              0.4444444444444444,
              "#bd3786"
             ],
             [
              0.5555555555555556,
              "#d8576b"
             ],
             [
              0.6666666666666666,
              "#ed7953"
             ],
             [
              0.7777777777777778,
              "#fb9f3a"
             ],
             [
              0.8888888888888888,
              "#fdca26"
             ],
             [
              1,
              "#f0f921"
             ]
            ],
            "type": "histogram2dcontour"
           }
          ],
          "mesh3d": [
           {
            "colorbar": {
             "outlinewidth": 0,
             "ticks": ""
            },
            "type": "mesh3d"
           }
          ],
          "parcoords": [
           {
            "line": {
             "colorbar": {
              "outlinewidth": 0,
              "ticks": ""
             }
            },
            "type": "parcoords"
           }
          ],
          "pie": [
           {
            "automargin": true,
            "type": "pie"
           }
          ],
          "scatter": [
           {
            "fillpattern": {
             "fillmode": "overlay",
             "size": 10,
             "solidity": 0.2
            },
            "type": "scatter"
           }
          ],
          "scatter3d": [
           {
            "line": {
             "colorbar": {
              "outlinewidth": 0,
              "ticks": ""
             }
            },
            "marker": {
             "colorbar": {
              "outlinewidth": 0,
              "ticks": ""
             }
            },
            "type": "scatter3d"
           }
          ],
          "scattercarpet": [
           {
            "marker": {
             "colorbar": {
              "outlinewidth": 0,
              "ticks": ""
             }
            },
            "type": "scattercarpet"
           }
          ],
          "scattergeo": [
           {
            "marker": {
             "colorbar": {
              "outlinewidth": 0,
              "ticks": ""
             }
            },
            "type": "scattergeo"
           }
          ],
          "scattergl": [
           {
            "marker": {
             "colorbar": {
              "outlinewidth": 0,
              "ticks": ""
             }
            },
            "type": "scattergl"
           }
          ],
          "scattermapbox": [
           {
            "marker": {
             "colorbar": {
              "outlinewidth": 0,
              "ticks": ""
             }
            },
            "type": "scattermapbox"
           }
          ],
          "scatterpolar": [
           {
            "marker": {
             "colorbar": {
              "outlinewidth": 0,
              "ticks": ""
             }
            },
            "type": "scatterpolar"
           }
          ],
          "scatterpolargl": [
           {
            "marker": {
             "colorbar": {
              "outlinewidth": 0,
              "ticks": ""
             }
            },
            "type": "scatterpolargl"
           }
          ],
          "scatterternary": [
           {
            "marker": {
             "colorbar": {
              "outlinewidth": 0,
              "ticks": ""
             }
            },
            "type": "scatterternary"
           }
          ],
          "surface": [
           {
            "colorbar": {
             "outlinewidth": 0,
             "ticks": ""
            },
            "colorscale": [
             [
              0,
              "#0d0887"
             ],
             [
              0.1111111111111111,
              "#46039f"
             ],
             [
              0.2222222222222222,
              "#7201a8"
             ],
             [
              0.3333333333333333,
              "#9c179e"
             ],
             [
              0.4444444444444444,
              "#bd3786"
             ],
             [
              0.5555555555555556,
              "#d8576b"
             ],
             [
              0.6666666666666666,
              "#ed7953"
             ],
             [
              0.7777777777777778,
              "#fb9f3a"
             ],
             [
              0.8888888888888888,
              "#fdca26"
             ],
             [
              1,
              "#f0f921"
             ]
            ],
            "type": "surface"
           }
          ],
          "table": [
           {
            "cells": {
             "fill": {
              "color": "#EBF0F8"
             },
             "line": {
              "color": "white"
             }
            },
            "header": {
             "fill": {
              "color": "#C8D4E3"
             },
             "line": {
              "color": "white"
             }
            },
            "type": "table"
           }
          ]
         },
         "layout": {
          "annotationdefaults": {
           "arrowcolor": "#2a3f5f",
           "arrowhead": 0,
           "arrowwidth": 1
          },
          "autotypenumbers": "strict",
          "coloraxis": {
           "colorbar": {
            "outlinewidth": 0,
            "ticks": ""
           }
          },
          "colorscale": {
           "diverging": [
            [
             0,
             "#8e0152"
            ],
            [
             0.1,
             "#c51b7d"
            ],
            [
             0.2,
             "#de77ae"
            ],
            [
             0.3,
             "#f1b6da"
            ],
            [
             0.4,
             "#fde0ef"
            ],
            [
             0.5,
             "#f7f7f7"
            ],
            [
             0.6,
             "#e6f5d0"
            ],
            [
             0.7,
             "#b8e186"
            ],
            [
             0.8,
             "#7fbc41"
            ],
            [
             0.9,
             "#4d9221"
            ],
            [
             1,
             "#276419"
            ]
           ],
           "sequential": [
            [
             0,
             "#0d0887"
            ],
            [
             0.1111111111111111,
             "#46039f"
            ],
            [
             0.2222222222222222,
             "#7201a8"
            ],
            [
             0.3333333333333333,
             "#9c179e"
            ],
            [
             0.4444444444444444,
             "#bd3786"
            ],
            [
             0.5555555555555556,
             "#d8576b"
            ],
            [
             0.6666666666666666,
             "#ed7953"
            ],
            [
             0.7777777777777778,
             "#fb9f3a"
            ],
            [
             0.8888888888888888,
             "#fdca26"
            ],
            [
             1,
             "#f0f921"
            ]
           ],
           "sequentialminus": [
            [
             0,
             "#0d0887"
            ],
            [
             0.1111111111111111,
             "#46039f"
            ],
            [
             0.2222222222222222,
             "#7201a8"
            ],
            [
             0.3333333333333333,
             "#9c179e"
            ],
            [
             0.4444444444444444,
             "#bd3786"
            ],
            [
             0.5555555555555556,
             "#d8576b"
            ],
            [
             0.6666666666666666,
             "#ed7953"
            ],
            [
             0.7777777777777778,
             "#fb9f3a"
            ],
            [
             0.8888888888888888,
             "#fdca26"
            ],
            [
             1,
             "#f0f921"
            ]
           ]
          },
          "colorway": [
           "#636efa",
           "#EF553B",
           "#00cc96",
           "#ab63fa",
           "#FFA15A",
           "#19d3f3",
           "#FF6692",
           "#B6E880",
           "#FF97FF",
           "#FECB52"
          ],
          "font": {
           "color": "#2a3f5f"
          },
          "geo": {
           "bgcolor": "white",
           "lakecolor": "white",
           "landcolor": "#E5ECF6",
           "showlakes": true,
           "showland": true,
           "subunitcolor": "white"
          },
          "hoverlabel": {
           "align": "left"
          },
          "hovermode": "closest",
          "mapbox": {
           "style": "light"
          },
          "paper_bgcolor": "white",
          "plot_bgcolor": "#E5ECF6",
          "polar": {
           "angularaxis": {
            "gridcolor": "white",
            "linecolor": "white",
            "ticks": ""
           },
           "bgcolor": "#E5ECF6",
           "radialaxis": {
            "gridcolor": "white",
            "linecolor": "white",
            "ticks": ""
           }
          },
          "scene": {
           "xaxis": {
            "backgroundcolor": "#E5ECF6",
            "gridcolor": "white",
            "gridwidth": 2,
            "linecolor": "white",
            "showbackground": true,
            "ticks": "",
            "zerolinecolor": "white"
           },
           "yaxis": {
            "backgroundcolor": "#E5ECF6",
            "gridcolor": "white",
            "gridwidth": 2,
            "linecolor": "white",
            "showbackground": true,
            "ticks": "",
            "zerolinecolor": "white"
           },
           "zaxis": {
            "backgroundcolor": "#E5ECF6",
            "gridcolor": "white",
            "gridwidth": 2,
            "linecolor": "white",
            "showbackground": true,
            "ticks": "",
            "zerolinecolor": "white"
           }
          },
          "shapedefaults": {
           "line": {
            "color": "#2a3f5f"
           }
          },
          "ternary": {
           "aaxis": {
            "gridcolor": "white",
            "linecolor": "white",
            "ticks": ""
           },
           "baxis": {
            "gridcolor": "white",
            "linecolor": "white",
            "ticks": ""
           },
           "bgcolor": "#E5ECF6",
           "caxis": {
            "gridcolor": "white",
            "linecolor": "white",
            "ticks": ""
           }
          },
          "title": {
           "x": 0.05
          },
          "xaxis": {
           "automargin": true,
           "gridcolor": "white",
           "linecolor": "white",
           "ticks": "",
           "title": {
            "standoff": 15
           },
           "zerolinecolor": "white",
           "zerolinewidth": 2
          },
          "yaxis": {
           "automargin": true,
           "gridcolor": "white",
           "linecolor": "white",
           "ticks": "",
           "title": {
            "standoff": 15
           },
           "zerolinecolor": "white",
           "zerolinewidth": 2
          }
         }
        },
        "xaxis": {
         "anchor": "y",
         "domain": [
          0,
          1
         ],
         "title": {
          "text": "index"
         }
        },
        "yaxis": {
         "anchor": "x",
         "domain": [
          0,
          1
         ],
         "title": {
          "text": "value"
         }
        }
       }
      },
      "text/html": [
       "<div>                            <div id=\"4956c2b2-1428-4daf-a587-d599d2c4675f\" class=\"plotly-graph-div\" style=\"height:525px; width:100%;\"></div>            <script type=\"text/javascript\">                require([\"plotly\"], function(Plotly) {                    window.PLOTLYENV=window.PLOTLYENV || {};                                    if (document.getElementById(\"4956c2b2-1428-4daf-a587-d599d2c4675f\")) {                    Plotly.newPlot(                        \"4956c2b2-1428-4daf-a587-d599d2c4675f\",                        [{\"hovertemplate\":\"variable=TOTEMP<br>index=%{x}<br>value=%{y}<extra></extra>\",\"legendgroup\":\"TOTEMP\",\"line\":{\"color\":\"#636efa\",\"dash\":\"solid\"},\"marker\":{\"symbol\":\"circle\"},\"mode\":\"lines\",\"name\":\"TOTEMP\",\"orientation\":\"v\",\"showlegend\":true,\"x\":[\"1947-12-31T00:00:00\",\"1948-12-31T00:00:00\",\"1949-12-31T00:00:00\",\"1950-12-31T00:00:00\",\"1951-12-31T00:00:00\",\"1952-12-31T00:00:00\",\"1953-12-31T00:00:00\",\"1954-12-31T00:00:00\",\"1955-12-31T00:00:00\",\"1956-12-31T00:00:00\",\"1957-12-31T00:00:00\",\"1958-12-31T00:00:00\",\"1959-12-31T00:00:00\",\"1960-12-31T00:00:00\",\"1961-12-31T00:00:00\",\"1962-12-31T00:00:00\"],\"xaxis\":\"x\",\"y\":[60323.0,61122.0,60171.0,61187.0,63221.0,63639.0,64989.0,63761.0,66019.0,67857.0,68169.0,66513.0,68655.0,69564.0,69331.0,70551.0],\"yaxis\":\"y\",\"type\":\"scatter\"},{\"hovertemplate\":\"variable=GNPDEFL<br>index=%{x}<br>value=%{y}<extra></extra>\",\"legendgroup\":\"GNPDEFL\",\"line\":{\"color\":\"#EF553B\",\"dash\":\"solid\"},\"marker\":{\"symbol\":\"circle\"},\"mode\":\"lines\",\"name\":\"GNPDEFL\",\"orientation\":\"v\",\"showlegend\":true,\"x\":[\"1947-12-31T00:00:00\",\"1948-12-31T00:00:00\",\"1949-12-31T00:00:00\",\"1950-12-31T00:00:00\",\"1951-12-31T00:00:00\",\"1952-12-31T00:00:00\",\"1953-12-31T00:00:00\",\"1954-12-31T00:00:00\",\"1955-12-31T00:00:00\",\"1956-12-31T00:00:00\",\"1957-12-31T00:00:00\",\"1958-12-31T00:00:00\",\"1959-12-31T00:00:00\",\"1960-12-31T00:00:00\",\"1961-12-31T00:00:00\",\"1962-12-31T00:00:00\"],\"xaxis\":\"x\",\"y\":[83.0,88.5,88.2,89.5,96.2,98.1,99.0,100.0,101.2,104.6,108.4,110.8,112.6,114.2,115.7,116.9],\"yaxis\":\"y\",\"type\":\"scatter\"},{\"hovertemplate\":\"variable=GNP<br>index=%{x}<br>value=%{y}<extra></extra>\",\"legendgroup\":\"GNP\",\"line\":{\"color\":\"#00cc96\",\"dash\":\"solid\"},\"marker\":{\"symbol\":\"circle\"},\"mode\":\"lines\",\"name\":\"GNP\",\"orientation\":\"v\",\"showlegend\":true,\"x\":[\"1947-12-31T00:00:00\",\"1948-12-31T00:00:00\",\"1949-12-31T00:00:00\",\"1950-12-31T00:00:00\",\"1951-12-31T00:00:00\",\"1952-12-31T00:00:00\",\"1953-12-31T00:00:00\",\"1954-12-31T00:00:00\",\"1955-12-31T00:00:00\",\"1956-12-31T00:00:00\",\"1957-12-31T00:00:00\",\"1958-12-31T00:00:00\",\"1959-12-31T00:00:00\",\"1960-12-31T00:00:00\",\"1961-12-31T00:00:00\",\"1962-12-31T00:00:00\"],\"xaxis\":\"x\",\"y\":[234289.0,259426.0,258054.0,284599.0,328975.0,346999.0,365385.0,363112.0,397469.0,419180.0,442769.0,444546.0,482704.0,502601.0,518173.0,554894.0],\"yaxis\":\"y\",\"type\":\"scatter\"},{\"hovertemplate\":\"variable=UNEMP<br>index=%{x}<br>value=%{y}<extra></extra>\",\"legendgroup\":\"UNEMP\",\"line\":{\"color\":\"#ab63fa\",\"dash\":\"solid\"},\"marker\":{\"symbol\":\"circle\"},\"mode\":\"lines\",\"name\":\"UNEMP\",\"orientation\":\"v\",\"showlegend\":true,\"x\":[\"1947-12-31T00:00:00\",\"1948-12-31T00:00:00\",\"1949-12-31T00:00:00\",\"1950-12-31T00:00:00\",\"1951-12-31T00:00:00\",\"1952-12-31T00:00:00\",\"1953-12-31T00:00:00\",\"1954-12-31T00:00:00\",\"1955-12-31T00:00:00\",\"1956-12-31T00:00:00\",\"1957-12-31T00:00:00\",\"1958-12-31T00:00:00\",\"1959-12-31T00:00:00\",\"1960-12-31T00:00:00\",\"1961-12-31T00:00:00\",\"1962-12-31T00:00:00\"],\"xaxis\":\"x\",\"y\":[2356.0,2325.0,3682.0,3351.0,2099.0,1932.0,1870.0,3578.0,2904.0,2822.0,2936.0,4681.0,3813.0,3931.0,4806.0,4007.0],\"yaxis\":\"y\",\"type\":\"scatter\"},{\"hovertemplate\":\"variable=ARMED<br>index=%{x}<br>value=%{y}<extra></extra>\",\"legendgroup\":\"ARMED\",\"line\":{\"color\":\"#FFA15A\",\"dash\":\"solid\"},\"marker\":{\"symbol\":\"circle\"},\"mode\":\"lines\",\"name\":\"ARMED\",\"orientation\":\"v\",\"showlegend\":true,\"x\":[\"1947-12-31T00:00:00\",\"1948-12-31T00:00:00\",\"1949-12-31T00:00:00\",\"1950-12-31T00:00:00\",\"1951-12-31T00:00:00\",\"1952-12-31T00:00:00\",\"1953-12-31T00:00:00\",\"1954-12-31T00:00:00\",\"1955-12-31T00:00:00\",\"1956-12-31T00:00:00\",\"1957-12-31T00:00:00\",\"1958-12-31T00:00:00\",\"1959-12-31T00:00:00\",\"1960-12-31T00:00:00\",\"1961-12-31T00:00:00\",\"1962-12-31T00:00:00\"],\"xaxis\":\"x\",\"y\":[1590.0,1456.0,1616.0,1650.0,3099.0,3594.0,3547.0,3350.0,3048.0,2857.0,2798.0,2637.0,2552.0,2514.0,2572.0,2827.0],\"yaxis\":\"y\",\"type\":\"scatter\"},{\"hovertemplate\":\"variable=POP<br>index=%{x}<br>value=%{y}<extra></extra>\",\"legendgroup\":\"POP\",\"line\":{\"color\":\"#19d3f3\",\"dash\":\"solid\"},\"marker\":{\"symbol\":\"circle\"},\"mode\":\"lines\",\"name\":\"POP\",\"orientation\":\"v\",\"showlegend\":true,\"x\":[\"1947-12-31T00:00:00\",\"1948-12-31T00:00:00\",\"1949-12-31T00:00:00\",\"1950-12-31T00:00:00\",\"1951-12-31T00:00:00\",\"1952-12-31T00:00:00\",\"1953-12-31T00:00:00\",\"1954-12-31T00:00:00\",\"1955-12-31T00:00:00\",\"1956-12-31T00:00:00\",\"1957-12-31T00:00:00\",\"1958-12-31T00:00:00\",\"1959-12-31T00:00:00\",\"1960-12-31T00:00:00\",\"1961-12-31T00:00:00\",\"1962-12-31T00:00:00\"],\"xaxis\":\"x\",\"y\":[107608.0,108632.0,109773.0,110929.0,112075.0,113270.0,115094.0,116219.0,117388.0,118734.0,120445.0,121950.0,123366.0,125368.0,127852.0,130081.0],\"yaxis\":\"y\",\"type\":\"scatter\"}],                        {\"template\":{\"data\":{\"histogram2dcontour\":[{\"type\":\"histogram2dcontour\",\"colorbar\":{\"outlinewidth\":0,\"ticks\":\"\"},\"colorscale\":[[0.0,\"#0d0887\"],[0.1111111111111111,\"#46039f\"],[0.2222222222222222,\"#7201a8\"],[0.3333333333333333,\"#9c179e\"],[0.4444444444444444,\"#bd3786\"],[0.5555555555555556,\"#d8576b\"],[0.6666666666666666,\"#ed7953\"],[0.7777777777777778,\"#fb9f3a\"],[0.8888888888888888,\"#fdca26\"],[1.0,\"#f0f921\"]]}],\"choropleth\":[{\"type\":\"choropleth\",\"colorbar\":{\"outlinewidth\":0,\"ticks\":\"\"}}],\"histogram2d\":[{\"type\":\"histogram2d\",\"colorbar\":{\"outlinewidth\":0,\"ticks\":\"\"},\"colorscale\":[[0.0,\"#0d0887\"],[0.1111111111111111,\"#46039f\"],[0.2222222222222222,\"#7201a8\"],[0.3333333333333333,\"#9c179e\"],[0.4444444444444444,\"#bd3786\"],[0.5555555555555556,\"#d8576b\"],[0.6666666666666666,\"#ed7953\"],[0.7777777777777778,\"#fb9f3a\"],[0.8888888888888888,\"#fdca26\"],[1.0,\"#f0f921\"]]}],\"heatmap\":[{\"type\":\"heatmap\",\"colorbar\":{\"outlinewidth\":0,\"ticks\":\"\"},\"colorscale\":[[0.0,\"#0d0887\"],[0.1111111111111111,\"#46039f\"],[0.2222222222222222,\"#7201a8\"],[0.3333333333333333,\"#9c179e\"],[0.4444444444444444,\"#bd3786\"],[0.5555555555555556,\"#d8576b\"],[0.6666666666666666,\"#ed7953\"],[0.7777777777777778,\"#fb9f3a\"],[0.8888888888888888,\"#fdca26\"],[1.0,\"#f0f921\"]]}],\"heatmapgl\":[{\"type\":\"heatmapgl\",\"colorbar\":{\"outlinewidth\":0,\"ticks\":\"\"},\"colorscale\":[[0.0,\"#0d0887\"],[0.1111111111111111,\"#46039f\"],[0.2222222222222222,\"#7201a8\"],[0.3333333333333333,\"#9c179e\"],[0.4444444444444444,\"#bd3786\"],[0.5555555555555556,\"#d8576b\"],[0.6666666666666666,\"#ed7953\"],[0.7777777777777778,\"#fb9f3a\"],[0.8888888888888888,\"#fdca26\"],[1.0,\"#f0f921\"]]}],\"contourcarpet\":[{\"type\":\"contourcarpet\",\"colorbar\":{\"outlinewidth\":0,\"ticks\":\"\"}}],\"contour\":[{\"type\":\"contour\",\"colorbar\":{\"outlinewidth\":0,\"ticks\":\"\"},\"colorscale\":[[0.0,\"#0d0887\"],[0.1111111111111111,\"#46039f\"],[0.2222222222222222,\"#7201a8\"],[0.3333333333333333,\"#9c179e\"],[0.4444444444444444,\"#bd3786\"],[0.5555555555555556,\"#d8576b\"],[0.6666666666666666,\"#ed7953\"],[0.7777777777777778,\"#fb9f3a\"],[0.8888888888888888,\"#fdca26\"],[1.0,\"#f0f921\"]]}],\"surface\":[{\"type\":\"surface\",\"colorbar\":{\"outlinewidth\":0,\"ticks\":\"\"},\"colorscale\":[[0.0,\"#0d0887\"],[0.1111111111111111,\"#46039f\"],[0.2222222222222222,\"#7201a8\"],[0.3333333333333333,\"#9c179e\"],[0.4444444444444444,\"#bd3786\"],[0.5555555555555556,\"#d8576b\"],[0.6666666666666666,\"#ed7953\"],[0.7777777777777778,\"#fb9f3a\"],[0.8888888888888888,\"#fdca26\"],[1.0,\"#f0f921\"]]}],\"mesh3d\":[{\"type\":\"mesh3d\",\"colorbar\":{\"outlinewidth\":0,\"ticks\":\"\"}}],\"scatter\":[{\"fillpattern\":{\"fillmode\":\"overlay\",\"size\":10,\"solidity\":0.2},\"type\":\"scatter\"}],\"parcoords\":[{\"type\":\"parcoords\",\"line\":{\"colorbar\":{\"outlinewidth\":0,\"ticks\":\"\"}}}],\"scatterpolargl\":[{\"type\":\"scatterpolargl\",\"marker\":{\"colorbar\":{\"outlinewidth\":0,\"ticks\":\"\"}}}],\"bar\":[{\"error_x\":{\"color\":\"#2a3f5f\"},\"error_y\":{\"color\":\"#2a3f5f\"},\"marker\":{\"line\":{\"color\":\"#E5ECF6\",\"width\":0.5},\"pattern\":{\"fillmode\":\"overlay\",\"size\":10,\"solidity\":0.2}},\"type\":\"bar\"}],\"scattergeo\":[{\"type\":\"scattergeo\",\"marker\":{\"colorbar\":{\"outlinewidth\":0,\"ticks\":\"\"}}}],\"scatterpolar\":[{\"type\":\"scatterpolar\",\"marker\":{\"colorbar\":{\"outlinewidth\":0,\"ticks\":\"\"}}}],\"histogram\":[{\"marker\":{\"pattern\":{\"fillmode\":\"overlay\",\"size\":10,\"solidity\":0.2}},\"type\":\"histogram\"}],\"scattergl\":[{\"type\":\"scattergl\",\"marker\":{\"colorbar\":{\"outlinewidth\":0,\"ticks\":\"\"}}}],\"scatter3d\":[{\"type\":\"scatter3d\",\"line\":{\"colorbar\":{\"outlinewidth\":0,\"ticks\":\"\"}},\"marker\":{\"colorbar\":{\"outlinewidth\":0,\"ticks\":\"\"}}}],\"scattermapbox\":[{\"type\":\"scattermapbox\",\"marker\":{\"colorbar\":{\"outlinewidth\":0,\"ticks\":\"\"}}}],\"scatterternary\":[{\"type\":\"scatterternary\",\"marker\":{\"colorbar\":{\"outlinewidth\":0,\"ticks\":\"\"}}}],\"scattercarpet\":[{\"type\":\"scattercarpet\",\"marker\":{\"colorbar\":{\"outlinewidth\":0,\"ticks\":\"\"}}}],\"carpet\":[{\"aaxis\":{\"endlinecolor\":\"#2a3f5f\",\"gridcolor\":\"white\",\"linecolor\":\"white\",\"minorgridcolor\":\"white\",\"startlinecolor\":\"#2a3f5f\"},\"baxis\":{\"endlinecolor\":\"#2a3f5f\",\"gridcolor\":\"white\",\"linecolor\":\"white\",\"minorgridcolor\":\"white\",\"startlinecolor\":\"#2a3f5f\"},\"type\":\"carpet\"}],\"table\":[{\"cells\":{\"fill\":{\"color\":\"#EBF0F8\"},\"line\":{\"color\":\"white\"}},\"header\":{\"fill\":{\"color\":\"#C8D4E3\"},\"line\":{\"color\":\"white\"}},\"type\":\"table\"}],\"barpolar\":[{\"marker\":{\"line\":{\"color\":\"#E5ECF6\",\"width\":0.5},\"pattern\":{\"fillmode\":\"overlay\",\"size\":10,\"solidity\":0.2}},\"type\":\"barpolar\"}],\"pie\":[{\"automargin\":true,\"type\":\"pie\"}]},\"layout\":{\"autotypenumbers\":\"strict\",\"colorway\":[\"#636efa\",\"#EF553B\",\"#00cc96\",\"#ab63fa\",\"#FFA15A\",\"#19d3f3\",\"#FF6692\",\"#B6E880\",\"#FF97FF\",\"#FECB52\"],\"font\":{\"color\":\"#2a3f5f\"},\"hovermode\":\"closest\",\"hoverlabel\":{\"align\":\"left\"},\"paper_bgcolor\":\"white\",\"plot_bgcolor\":\"#E5ECF6\",\"polar\":{\"bgcolor\":\"#E5ECF6\",\"angularaxis\":{\"gridcolor\":\"white\",\"linecolor\":\"white\",\"ticks\":\"\"},\"radialaxis\":{\"gridcolor\":\"white\",\"linecolor\":\"white\",\"ticks\":\"\"}},\"ternary\":{\"bgcolor\":\"#E5ECF6\",\"aaxis\":{\"gridcolor\":\"white\",\"linecolor\":\"white\",\"ticks\":\"\"},\"baxis\":{\"gridcolor\":\"white\",\"linecolor\":\"white\",\"ticks\":\"\"},\"caxis\":{\"gridcolor\":\"white\",\"linecolor\":\"white\",\"ticks\":\"\"}},\"coloraxis\":{\"colorbar\":{\"outlinewidth\":0,\"ticks\":\"\"}},\"colorscale\":{\"sequential\":[[0.0,\"#0d0887\"],[0.1111111111111111,\"#46039f\"],[0.2222222222222222,\"#7201a8\"],[0.3333333333333333,\"#9c179e\"],[0.4444444444444444,\"#bd3786\"],[0.5555555555555556,\"#d8576b\"],[0.6666666666666666,\"#ed7953\"],[0.7777777777777778,\"#fb9f3a\"],[0.8888888888888888,\"#fdca26\"],[1.0,\"#f0f921\"]],\"sequentialminus\":[[0.0,\"#0d0887\"],[0.1111111111111111,\"#46039f\"],[0.2222222222222222,\"#7201a8\"],[0.3333333333333333,\"#9c179e\"],[0.4444444444444444,\"#bd3786\"],[0.5555555555555556,\"#d8576b\"],[0.6666666666666666,\"#ed7953\"],[0.7777777777777778,\"#fb9f3a\"],[0.8888888888888888,\"#fdca26\"],[1.0,\"#f0f921\"]],\"diverging\":[[0,\"#8e0152\"],[0.1,\"#c51b7d\"],[0.2,\"#de77ae\"],[0.3,\"#f1b6da\"],[0.4,\"#fde0ef\"],[0.5,\"#f7f7f7\"],[0.6,\"#e6f5d0\"],[0.7,\"#b8e186\"],[0.8,\"#7fbc41\"],[0.9,\"#4d9221\"],[1,\"#276419\"]]},\"xaxis\":{\"gridcolor\":\"white\",\"linecolor\":\"white\",\"ticks\":\"\",\"title\":{\"standoff\":15},\"zerolinecolor\":\"white\",\"automargin\":true,\"zerolinewidth\":2},\"yaxis\":{\"gridcolor\":\"white\",\"linecolor\":\"white\",\"ticks\":\"\",\"title\":{\"standoff\":15},\"zerolinecolor\":\"white\",\"automargin\":true,\"zerolinewidth\":2},\"scene\":{\"xaxis\":{\"backgroundcolor\":\"#E5ECF6\",\"gridcolor\":\"white\",\"linecolor\":\"white\",\"showbackground\":true,\"ticks\":\"\",\"zerolinecolor\":\"white\",\"gridwidth\":2},\"yaxis\":{\"backgroundcolor\":\"#E5ECF6\",\"gridcolor\":\"white\",\"linecolor\":\"white\",\"showbackground\":true,\"ticks\":\"\",\"zerolinecolor\":\"white\",\"gridwidth\":2},\"zaxis\":{\"backgroundcolor\":\"#E5ECF6\",\"gridcolor\":\"white\",\"linecolor\":\"white\",\"showbackground\":true,\"ticks\":\"\",\"zerolinecolor\":\"white\",\"gridwidth\":2}},\"shapedefaults\":{\"line\":{\"color\":\"#2a3f5f\"}},\"annotationdefaults\":{\"arrowcolor\":\"#2a3f5f\",\"arrowhead\":0,\"arrowwidth\":1},\"geo\":{\"bgcolor\":\"white\",\"landcolor\":\"#E5ECF6\",\"subunitcolor\":\"white\",\"showland\":true,\"showlakes\":true,\"lakecolor\":\"white\"},\"title\":{\"x\":0.05},\"mapbox\":{\"style\":\"light\"}}},\"xaxis\":{\"anchor\":\"y\",\"domain\":[0.0,1.0],\"title\":{\"text\":\"index\"}},\"yaxis\":{\"anchor\":\"x\",\"domain\":[0.0,1.0],\"title\":{\"text\":\"value\"}},\"legend\":{\"title\":{\"text\":\"variable\"},\"tracegroupgap\":0},\"margin\":{\"t\":60}},                        {\"responsive\": true}                    ).then(function(){\n",
       "                            \n",
       "var gd = document.getElementById('4956c2b2-1428-4daf-a587-d599d2c4675f');\n",
       "var x = new MutationObserver(function (mutations, observer) {{\n",
       "        var display = window.getComputedStyle(gd).display;\n",
       "        if (!display || display === 'none') {{\n",
       "            console.log([gd, 'removed!']);\n",
       "            Plotly.purge(gd);\n",
       "            observer.disconnect();\n",
       "        }}\n",
       "}});\n",
       "\n",
       "// Listen for the removal of the full notebook cells\n",
       "var notebookContainer = gd.closest('#notebook-container');\n",
       "if (notebookContainer) {{\n",
       "    x.observe(notebookContainer, {childList: true});\n",
       "}}\n",
       "\n",
       "// Listen for the clearing of the current output cell\n",
       "var outputEl = gd.closest('.output');\n",
       "if (outputEl) {{\n",
       "    x.observe(outputEl, {childList: true});\n",
       "}}\n",
       "\n",
       "                        })                };                });            </script>        </div>"
      ]
     },
     "metadata": {},
     "output_type": "display_data"
    }
   ],
   "source": [
    "px.line(df)"
   ]
  },
  {
   "cell_type": "code",
   "execution_count": 124,
   "id": "5c9ede07",
   "metadata": {
    "ExecuteTime": {
     "end_time": "2022-07-17T15:06:05.209049Z",
     "start_time": "2022-07-17T15:06:05.185121Z"
    }
   },
   "outputs": [
    {
     "data": {
      "text/html": [
       "<div>\n",
       "<style scoped>\n",
       "    .dataframe tbody tr th:only-of-type {\n",
       "        vertical-align: middle;\n",
       "    }\n",
       "\n",
       "    .dataframe tbody tr th {\n",
       "        vertical-align: top;\n",
       "    }\n",
       "\n",
       "    .dataframe thead th {\n",
       "        text-align: right;\n",
       "    }\n",
       "</style>\n",
       "<table border=\"1\" class=\"dataframe\">\n",
       "  <thead>\n",
       "    <tr style=\"text-align: right;\">\n",
       "      <th></th>\n",
       "      <th>TOTEMP</th>\n",
       "      <th>GNPDEFL</th>\n",
       "      <th>GNP</th>\n",
       "      <th>UNEMP</th>\n",
       "      <th>ARMED</th>\n",
       "      <th>POP</th>\n",
       "    </tr>\n",
       "  </thead>\n",
       "  <tbody>\n",
       "    <tr>\n",
       "      <th>0</th>\n",
       "      <td>70551.0</td>\n",
       "      <td>116.9</td>\n",
       "      <td>554894.0</td>\n",
       "      <td>4806.0</td>\n",
       "      <td>3594.0</td>\n",
       "      <td>130081.0</td>\n",
       "    </tr>\n",
       "  </tbody>\n",
       "</table>\n",
       "</div>"
      ],
      "text/plain": [
       "    TOTEMP  GNPDEFL       GNP   UNEMP   ARMED       POP\n",
       "0  70551.0    116.9  554894.0  4806.0  3594.0  130081.0"
      ]
     },
     "execution_count": 124,
     "metadata": {},
     "output_type": "execute_result"
    }
   ],
   "source": []
  },
  {
   "cell_type": "code",
   "execution_count": 137,
   "id": "308e7b8a",
   "metadata": {
    "ExecuteTime": {
     "end_time": "2022-07-17T15:08:37.658961Z",
     "start_time": "2022-07-17T15:08:37.648994Z"
    }
   },
   "outputs": [],
   "source": [
    "def getNormalized(df):\n",
    "    dfNormalized = pd.DataFrame(df.values / pd.DataFrame(df.max()).T.values)\n",
    "    dfNormalized.columns = df.columns\n",
    "    dfNormalized.index = df.index\n",
    "    return dfNormalized"
   ]
  },
  {
   "cell_type": "code",
   "execution_count": 139,
   "id": "75df390b",
   "metadata": {
    "ExecuteTime": {
     "end_time": "2022-07-17T15:08:53.356791Z",
     "start_time": "2022-07-17T15:08:53.337672Z"
    }
   },
   "outputs": [
    {
     "data": {
      "text/html": [
       "<div>\n",
       "<style scoped>\n",
       "    .dataframe tbody tr th:only-of-type {\n",
       "        vertical-align: middle;\n",
       "    }\n",
       "\n",
       "    .dataframe tbody tr th {\n",
       "        vertical-align: top;\n",
       "    }\n",
       "\n",
       "    .dataframe thead th {\n",
       "        text-align: right;\n",
       "    }\n",
       "</style>\n",
       "<table border=\"1\" class=\"dataframe\">\n",
       "  <thead>\n",
       "    <tr style=\"text-align: right;\">\n",
       "      <th></th>\n",
       "      <th>TOTEMP</th>\n",
       "      <th>GNPDEFL</th>\n",
       "      <th>GNP</th>\n",
       "      <th>UNEMP</th>\n",
       "      <th>ARMED</th>\n",
       "      <th>POP</th>\n",
       "    </tr>\n",
       "  </thead>\n",
       "  <tbody>\n",
       "    <tr>\n",
       "      <th>1947-12-31</th>\n",
       "      <td>0.855027</td>\n",
       "      <td>0.710009</td>\n",
       "      <td>0.422223</td>\n",
       "      <td>0.490221</td>\n",
       "      <td>0.442404</td>\n",
       "      <td>0.827238</td>\n",
       "    </tr>\n",
       "    <tr>\n",
       "      <th>1948-12-31</th>\n",
       "      <td>0.866352</td>\n",
       "      <td>0.757057</td>\n",
       "      <td>0.467524</td>\n",
       "      <td>0.483770</td>\n",
       "      <td>0.405120</td>\n",
       "      <td>0.835110</td>\n",
       "    </tr>\n",
       "    <tr>\n",
       "      <th>1949-12-31</th>\n",
       "      <td>0.852872</td>\n",
       "      <td>0.754491</td>\n",
       "      <td>0.465051</td>\n",
       "      <td>0.766126</td>\n",
       "      <td>0.449638</td>\n",
       "      <td>0.843882</td>\n",
       "    </tr>\n",
       "    <tr>\n",
       "      <th>1950-12-31</th>\n",
       "      <td>0.867273</td>\n",
       "      <td>0.765612</td>\n",
       "      <td>0.512889</td>\n",
       "      <td>0.697253</td>\n",
       "      <td>0.459098</td>\n",
       "      <td>0.852769</td>\n",
       "    </tr>\n",
       "    <tr>\n",
       "      <th>1951-12-31</th>\n",
       "      <td>0.896104</td>\n",
       "      <td>0.822926</td>\n",
       "      <td>0.592861</td>\n",
       "      <td>0.436746</td>\n",
       "      <td>0.862270</td>\n",
       "      <td>0.861579</td>\n",
       "    </tr>\n",
       "    <tr>\n",
       "      <th>1952-12-31</th>\n",
       "      <td>0.902028</td>\n",
       "      <td>0.839179</td>\n",
       "      <td>0.625343</td>\n",
       "      <td>0.401998</td>\n",
       "      <td>1.000000</td>\n",
       "      <td>0.870765</td>\n",
       "    </tr>\n",
       "    <tr>\n",
       "      <th>1953-12-31</th>\n",
       "      <td>0.921163</td>\n",
       "      <td>0.846878</td>\n",
       "      <td>0.658477</td>\n",
       "      <td>0.389097</td>\n",
       "      <td>0.986923</td>\n",
       "      <td>0.884787</td>\n",
       "    </tr>\n",
       "    <tr>\n",
       "      <th>1954-12-31</th>\n",
       "      <td>0.903758</td>\n",
       "      <td>0.855432</td>\n",
       "      <td>0.654381</td>\n",
       "      <td>0.744486</td>\n",
       "      <td>0.932109</td>\n",
       "      <td>0.893436</td>\n",
       "    </tr>\n",
       "    <tr>\n",
       "      <th>1955-12-31</th>\n",
       "      <td>0.935763</td>\n",
       "      <td>0.865697</td>\n",
       "      <td>0.716297</td>\n",
       "      <td>0.604245</td>\n",
       "      <td>0.848080</td>\n",
       "      <td>0.902422</td>\n",
       "    </tr>\n",
       "    <tr>\n",
       "      <th>1956-12-31</th>\n",
       "      <td>0.961815</td>\n",
       "      <td>0.894782</td>\n",
       "      <td>0.755424</td>\n",
       "      <td>0.587183</td>\n",
       "      <td>0.794936</td>\n",
       "      <td>0.912770</td>\n",
       "    </tr>\n",
       "    <tr>\n",
       "      <th>1957-12-31</th>\n",
       "      <td>0.966237</td>\n",
       "      <td>0.927288</td>\n",
       "      <td>0.797934</td>\n",
       "      <td>0.610903</td>\n",
       "      <td>0.778520</td>\n",
       "      <td>0.925923</td>\n",
       "    </tr>\n",
       "    <tr>\n",
       "      <th>1958-12-31</th>\n",
       "      <td>0.942765</td>\n",
       "      <td>0.947819</td>\n",
       "      <td>0.801137</td>\n",
       "      <td>0.973991</td>\n",
       "      <td>0.733723</td>\n",
       "      <td>0.937493</td>\n",
       "    </tr>\n",
       "    <tr>\n",
       "      <th>1959-12-31</th>\n",
       "      <td>0.973126</td>\n",
       "      <td>0.963216</td>\n",
       "      <td>0.869903</td>\n",
       "      <td>0.793383</td>\n",
       "      <td>0.710072</td>\n",
       "      <td>0.948378</td>\n",
       "    </tr>\n",
       "    <tr>\n",
       "      <th>1960-12-31</th>\n",
       "      <td>0.986010</td>\n",
       "      <td>0.976903</td>\n",
       "      <td>0.905760</td>\n",
       "      <td>0.817936</td>\n",
       "      <td>0.699499</td>\n",
       "      <td>0.963769</td>\n",
       "    </tr>\n",
       "    <tr>\n",
       "      <th>1961-12-31</th>\n",
       "      <td>0.982708</td>\n",
       "      <td>0.989735</td>\n",
       "      <td>0.933823</td>\n",
       "      <td>1.000000</td>\n",
       "      <td>0.715637</td>\n",
       "      <td>0.982865</td>\n",
       "    </tr>\n",
       "    <tr>\n",
       "      <th>1962-12-31</th>\n",
       "      <td>1.000000</td>\n",
       "      <td>1.000000</td>\n",
       "      <td>1.000000</td>\n",
       "      <td>0.833749</td>\n",
       "      <td>0.786589</td>\n",
       "      <td>1.000000</td>\n",
       "    </tr>\n",
       "  </tbody>\n",
       "</table>\n",
       "</div>"
      ],
      "text/plain": [
       "              TOTEMP   GNPDEFL       GNP     UNEMP     ARMED       POP\n",
       "1947-12-31  0.855027  0.710009  0.422223  0.490221  0.442404  0.827238\n",
       "1948-12-31  0.866352  0.757057  0.467524  0.483770  0.405120  0.835110\n",
       "1949-12-31  0.852872  0.754491  0.465051  0.766126  0.449638  0.843882\n",
       "1950-12-31  0.867273  0.765612  0.512889  0.697253  0.459098  0.852769\n",
       "1951-12-31  0.896104  0.822926  0.592861  0.436746  0.862270  0.861579\n",
       "1952-12-31  0.902028  0.839179  0.625343  0.401998  1.000000  0.870765\n",
       "1953-12-31  0.921163  0.846878  0.658477  0.389097  0.986923  0.884787\n",
       "1954-12-31  0.903758  0.855432  0.654381  0.744486  0.932109  0.893436\n",
       "1955-12-31  0.935763  0.865697  0.716297  0.604245  0.848080  0.902422\n",
       "1956-12-31  0.961815  0.894782  0.755424  0.587183  0.794936  0.912770\n",
       "1957-12-31  0.966237  0.927288  0.797934  0.610903  0.778520  0.925923\n",
       "1958-12-31  0.942765  0.947819  0.801137  0.973991  0.733723  0.937493\n",
       "1959-12-31  0.973126  0.963216  0.869903  0.793383  0.710072  0.948378\n",
       "1960-12-31  0.986010  0.976903  0.905760  0.817936  0.699499  0.963769\n",
       "1961-12-31  0.982708  0.989735  0.933823  1.000000  0.715637  0.982865\n",
       "1962-12-31  1.000000  1.000000  1.000000  0.833749  0.786589  1.000000"
      ]
     },
     "execution_count": 139,
     "metadata": {},
     "output_type": "execute_result"
    }
   ],
   "source": [
    "dfNormalized = getNormalized(df)\n",
    "dfNormalized"
   ]
  },
  {
   "cell_type": "code",
   "execution_count": 140,
   "id": "0d4777ac",
   "metadata": {
    "ExecuteTime": {
     "end_time": "2022-07-17T15:09:06.523931Z",
     "start_time": "2022-07-17T15:09:06.444086Z"
    }
   },
   "outputs": [
    {
     "data": {
      "application/vnd.plotly.v1+json": {
       "config": {
        "plotlyServerURL": "https://plot.ly"
       },
       "data": [
        {
         "hovertemplate": "variable=TOTEMP<br>index=%{x}<br>value=%{y}<extra></extra>",
         "legendgroup": "TOTEMP",
         "line": {
          "color": "#636efa",
          "dash": "solid"
         },
         "marker": {
          "symbol": "circle"
         },
         "mode": "lines",
         "name": "TOTEMP",
         "orientation": "v",
         "showlegend": true,
         "type": "scatter",
         "x": [
          "1947-12-31T00:00:00",
          "1948-12-31T00:00:00",
          "1949-12-31T00:00:00",
          "1950-12-31T00:00:00",
          "1951-12-31T00:00:00",
          "1952-12-31T00:00:00",
          "1953-12-31T00:00:00",
          "1954-12-31T00:00:00",
          "1955-12-31T00:00:00",
          "1956-12-31T00:00:00",
          "1957-12-31T00:00:00",
          "1958-12-31T00:00:00",
          "1959-12-31T00:00:00",
          "1960-12-31T00:00:00",
          "1961-12-31T00:00:00",
          "1962-12-31T00:00:00"
         ],
         "xaxis": "x",
         "y": [
          0.8550268600019844,
          0.8663520006803589,
          0.8528723901858231,
          0.8672733200096384,
          0.896103527944324,
          0.9020283199387678,
          0.9211634137007272,
          0.9037575654491078,
          0.9357627815339258,
          0.9618148573372454,
          0.9662371901177871,
          0.9427648084364503,
          0.9731258238720926,
          0.9860101203384786,
          0.9827075448965996,
          1
         ],
         "yaxis": "y"
        },
        {
         "hovertemplate": "variable=GNPDEFL<br>index=%{x}<br>value=%{y}<extra></extra>",
         "legendgroup": "GNPDEFL",
         "line": {
          "color": "#EF553B",
          "dash": "solid"
         },
         "marker": {
          "symbol": "circle"
         },
         "mode": "lines",
         "name": "GNPDEFL",
         "orientation": "v",
         "showlegend": true,
         "type": "scatter",
         "x": [
          "1947-12-31T00:00:00",
          "1948-12-31T00:00:00",
          "1949-12-31T00:00:00",
          "1950-12-31T00:00:00",
          "1951-12-31T00:00:00",
          "1952-12-31T00:00:00",
          "1953-12-31T00:00:00",
          "1954-12-31T00:00:00",
          "1955-12-31T00:00:00",
          "1956-12-31T00:00:00",
          "1957-12-31T00:00:00",
          "1958-12-31T00:00:00",
          "1959-12-31T00:00:00",
          "1960-12-31T00:00:00",
          "1961-12-31T00:00:00",
          "1962-12-31T00:00:00"
         ],
         "xaxis": "x",
         "y": [
          0.7100085543199315,
          0.7570573139435415,
          0.7544910179640718,
          0.7656116338751069,
          0.8229255774165953,
          0.8391787852865696,
          0.8468776732249785,
          0.8554319931565441,
          0.8656971770744226,
          0.8947818648417449,
          0.9272882805816938,
          0.9478186484174508,
          0.9632164242942685,
          0.9769033361847733,
          0.9897348160821214,
          1
         ],
         "yaxis": "y"
        },
        {
         "hovertemplate": "variable=GNP<br>index=%{x}<br>value=%{y}<extra></extra>",
         "legendgroup": "GNP",
         "line": {
          "color": "#00cc96",
          "dash": "solid"
         },
         "marker": {
          "symbol": "circle"
         },
         "mode": "lines",
         "name": "GNP",
         "orientation": "v",
         "showlegend": true,
         "type": "scatter",
         "x": [
          "1947-12-31T00:00:00",
          "1948-12-31T00:00:00",
          "1949-12-31T00:00:00",
          "1950-12-31T00:00:00",
          "1951-12-31T00:00:00",
          "1952-12-31T00:00:00",
          "1953-12-31T00:00:00",
          "1954-12-31T00:00:00",
          "1955-12-31T00:00:00",
          "1956-12-31T00:00:00",
          "1957-12-31T00:00:00",
          "1958-12-31T00:00:00",
          "1959-12-31T00:00:00",
          "1960-12-31T00:00:00",
          "1961-12-31T00:00:00",
          "1962-12-31T00:00:00"
         ],
         "xaxis": "x",
         "y": [
          0.4222229831283092,
          0.4675235270159706,
          0.46505098271021134,
          0.5128889481594683,
          0.5928609788536189,
          0.6253428582756346,
          0.6584771145480037,
          0.6543808367003427,
          0.7162971666660659,
          0.755423558373311,
          0.7979343802600136,
          0.8011367936939308,
          0.8699030805883646,
          0.9057603794598608,
          0.9338233969010298,
          1
         ],
         "yaxis": "y"
        },
        {
         "hovertemplate": "variable=UNEMP<br>index=%{x}<br>value=%{y}<extra></extra>",
         "legendgroup": "UNEMP",
         "line": {
          "color": "#ab63fa",
          "dash": "solid"
         },
         "marker": {
          "symbol": "circle"
         },
         "mode": "lines",
         "name": "UNEMP",
         "orientation": "v",
         "showlegend": true,
         "type": "scatter",
         "x": [
          "1947-12-31T00:00:00",
          "1948-12-31T00:00:00",
          "1949-12-31T00:00:00",
          "1950-12-31T00:00:00",
          "1951-12-31T00:00:00",
          "1952-12-31T00:00:00",
          "1953-12-31T00:00:00",
          "1954-12-31T00:00:00",
          "1955-12-31T00:00:00",
          "1956-12-31T00:00:00",
          "1957-12-31T00:00:00",
          "1958-12-31T00:00:00",
          "1959-12-31T00:00:00",
          "1960-12-31T00:00:00",
          "1961-12-31T00:00:00",
          "1962-12-31T00:00:00"
         ],
         "xaxis": "x",
         "y": [
          0.49022055763628797,
          0.4837702871410737,
          0.7661256762380357,
          0.6972534332084894,
          0.4367457344985435,
          0.4019975031210986,
          0.38909696213067,
          0.7444860590928006,
          0.6042446941323346,
          0.5871826883062838,
          0.61090303786933,
          0.9739908447773616,
          0.7933832709113608,
          0.8179359134415314,
          1,
          0.8337494798168955
         ],
         "yaxis": "y"
        },
        {
         "hovertemplate": "variable=ARMED<br>index=%{x}<br>value=%{y}<extra></extra>",
         "legendgroup": "ARMED",
         "line": {
          "color": "#FFA15A",
          "dash": "solid"
         },
         "marker": {
          "symbol": "circle"
         },
         "mode": "lines",
         "name": "ARMED",
         "orientation": "v",
         "showlegend": true,
         "type": "scatter",
         "x": [
          "1947-12-31T00:00:00",
          "1948-12-31T00:00:00",
          "1949-12-31T00:00:00",
          "1950-12-31T00:00:00",
          "1951-12-31T00:00:00",
          "1952-12-31T00:00:00",
          "1953-12-31T00:00:00",
          "1954-12-31T00:00:00",
          "1955-12-31T00:00:00",
          "1956-12-31T00:00:00",
          "1957-12-31T00:00:00",
          "1958-12-31T00:00:00",
          "1959-12-31T00:00:00",
          "1960-12-31T00:00:00",
          "1961-12-31T00:00:00",
          "1962-12-31T00:00:00"
         ],
         "xaxis": "x",
         "y": [
          0.44240400667779634,
          0.4051196438508626,
          0.449638286032276,
          0.4590984974958264,
          0.8622704507512521,
          1,
          0.9869226488592098,
          0.9321090706733445,
          0.8480801335559266,
          0.7949360044518642,
          0.778519755147468,
          0.7337228714524207,
          0.7100723427935448,
          0.6994991652754591,
          0.7156371730662214,
          0.7865887590428492
         ],
         "yaxis": "y"
        },
        {
         "hovertemplate": "variable=POP<br>index=%{x}<br>value=%{y}<extra></extra>",
         "legendgroup": "POP",
         "line": {
          "color": "#19d3f3",
          "dash": "solid"
         },
         "marker": {
          "symbol": "circle"
         },
         "mode": "lines",
         "name": "POP",
         "orientation": "v",
         "showlegend": true,
         "type": "scatter",
         "x": [
          "1947-12-31T00:00:00",
          "1948-12-31T00:00:00",
          "1949-12-31T00:00:00",
          "1950-12-31T00:00:00",
          "1951-12-31T00:00:00",
          "1952-12-31T00:00:00",
          "1953-12-31T00:00:00",
          "1954-12-31T00:00:00",
          "1955-12-31T00:00:00",
          "1956-12-31T00:00:00",
          "1957-12-31T00:00:00",
          "1958-12-31T00:00:00",
          "1959-12-31T00:00:00",
          "1960-12-31T00:00:00",
          "1961-12-31T00:00:00",
          "1962-12-31T00:00:00"
         ],
         "xaxis": "x",
         "y": [
          0.82723841298883,
          0.8351104311928721,
          0.8438818889768682,
          0.8527686595275251,
          0.8615785549004082,
          0.8707651386443831,
          0.8847871710703331,
          0.8934356285698911,
          0.902422336851654,
          0.912769735780014,
          0.9259230786971195,
          0.9374927929520837,
          0.9483783181248606,
          0.9637687287151852,
          0.9828645228742091,
          1
         ],
         "yaxis": "y"
        }
       ],
       "layout": {
        "legend": {
         "title": {
          "text": "variable"
         },
         "tracegroupgap": 0
        },
        "margin": {
         "t": 60
        },
        "template": {
         "data": {
          "bar": [
           {
            "error_x": {
             "color": "#2a3f5f"
            },
            "error_y": {
             "color": "#2a3f5f"
            },
            "marker": {
             "line": {
              "color": "#E5ECF6",
              "width": 0.5
             },
             "pattern": {
              "fillmode": "overlay",
              "size": 10,
              "solidity": 0.2
             }
            },
            "type": "bar"
           }
          ],
          "barpolar": [
           {
            "marker": {
             "line": {
              "color": "#E5ECF6",
              "width": 0.5
             },
             "pattern": {
              "fillmode": "overlay",
              "size": 10,
              "solidity": 0.2
             }
            },
            "type": "barpolar"
           }
          ],
          "carpet": [
           {
            "aaxis": {
             "endlinecolor": "#2a3f5f",
             "gridcolor": "white",
             "linecolor": "white",
             "minorgridcolor": "white",
             "startlinecolor": "#2a3f5f"
            },
            "baxis": {
             "endlinecolor": "#2a3f5f",
             "gridcolor": "white",
             "linecolor": "white",
             "minorgridcolor": "white",
             "startlinecolor": "#2a3f5f"
            },
            "type": "carpet"
           }
          ],
          "choropleth": [
           {
            "colorbar": {
             "outlinewidth": 0,
             "ticks": ""
            },
            "type": "choropleth"
           }
          ],
          "contour": [
           {
            "colorbar": {
             "outlinewidth": 0,
             "ticks": ""
            },
            "colorscale": [
             [
              0,
              "#0d0887"
             ],
             [
              0.1111111111111111,
              "#46039f"
             ],
             [
              0.2222222222222222,
              "#7201a8"
             ],
             [
              0.3333333333333333,
              "#9c179e"
             ],
             [
              0.4444444444444444,
              "#bd3786"
             ],
             [
              0.5555555555555556,
              "#d8576b"
             ],
             [
              0.6666666666666666,
              "#ed7953"
             ],
             [
              0.7777777777777778,
              "#fb9f3a"
             ],
             [
              0.8888888888888888,
              "#fdca26"
             ],
             [
              1,
              "#f0f921"
             ]
            ],
            "type": "contour"
           }
          ],
          "contourcarpet": [
           {
            "colorbar": {
             "outlinewidth": 0,
             "ticks": ""
            },
            "type": "contourcarpet"
           }
          ],
          "heatmap": [
           {
            "colorbar": {
             "outlinewidth": 0,
             "ticks": ""
            },
            "colorscale": [
             [
              0,
              "#0d0887"
             ],
             [
              0.1111111111111111,
              "#46039f"
             ],
             [
              0.2222222222222222,
              "#7201a8"
             ],
             [
              0.3333333333333333,
              "#9c179e"
             ],
             [
              0.4444444444444444,
              "#bd3786"
             ],
             [
              0.5555555555555556,
              "#d8576b"
             ],
             [
              0.6666666666666666,
              "#ed7953"
             ],
             [
              0.7777777777777778,
              "#fb9f3a"
             ],
             [
              0.8888888888888888,
              "#fdca26"
             ],
             [
              1,
              "#f0f921"
             ]
            ],
            "type": "heatmap"
           }
          ],
          "heatmapgl": [
           {
            "colorbar": {
             "outlinewidth": 0,
             "ticks": ""
            },
            "colorscale": [
             [
              0,
              "#0d0887"
             ],
             [
              0.1111111111111111,
              "#46039f"
             ],
             [
              0.2222222222222222,
              "#7201a8"
             ],
             [
              0.3333333333333333,
              "#9c179e"
             ],
             [
              0.4444444444444444,
              "#bd3786"
             ],
             [
              0.5555555555555556,
              "#d8576b"
             ],
             [
              0.6666666666666666,
              "#ed7953"
             ],
             [
              0.7777777777777778,
              "#fb9f3a"
             ],
             [
              0.8888888888888888,
              "#fdca26"
             ],
             [
              1,
              "#f0f921"
             ]
            ],
            "type": "heatmapgl"
           }
          ],
          "histogram": [
           {
            "marker": {
             "pattern": {
              "fillmode": "overlay",
              "size": 10,
              "solidity": 0.2
             }
            },
            "type": "histogram"
           }
          ],
          "histogram2d": [
           {
            "colorbar": {
             "outlinewidth": 0,
             "ticks": ""
            },
            "colorscale": [
             [
              0,
              "#0d0887"
             ],
             [
              0.1111111111111111,
              "#46039f"
             ],
             [
              0.2222222222222222,
              "#7201a8"
             ],
             [
              0.3333333333333333,
              "#9c179e"
             ],
             [
              0.4444444444444444,
              "#bd3786"
             ],
             [
              0.5555555555555556,
              "#d8576b"
             ],
             [
              0.6666666666666666,
              "#ed7953"
             ],
             [
              0.7777777777777778,
              "#fb9f3a"
             ],
             [
              0.8888888888888888,
              "#fdca26"
             ],
             [
              1,
              "#f0f921"
             ]
            ],
            "type": "histogram2d"
           }
          ],
          "histogram2dcontour": [
           {
            "colorbar": {
             "outlinewidth": 0,
             "ticks": ""
            },
            "colorscale": [
             [
              0,
              "#0d0887"
             ],
             [
              0.1111111111111111,
              "#46039f"
             ],
             [
              0.2222222222222222,
              "#7201a8"
             ],
             [
              0.3333333333333333,
              "#9c179e"
             ],
             [
              0.4444444444444444,
              "#bd3786"
             ],
             [
              0.5555555555555556,
              "#d8576b"
             ],
             [
              0.6666666666666666,
              "#ed7953"
             ],
             [
              0.7777777777777778,
              "#fb9f3a"
             ],
             [
              0.8888888888888888,
              "#fdca26"
             ],
             [
              1,
              "#f0f921"
             ]
            ],
            "type": "histogram2dcontour"
           }
          ],
          "mesh3d": [
           {
            "colorbar": {
             "outlinewidth": 0,
             "ticks": ""
            },
            "type": "mesh3d"
           }
          ],
          "parcoords": [
           {
            "line": {
             "colorbar": {
              "outlinewidth": 0,
              "ticks": ""
             }
            },
            "type": "parcoords"
           }
          ],
          "pie": [
           {
            "automargin": true,
            "type": "pie"
           }
          ],
          "scatter": [
           {
            "fillpattern": {
             "fillmode": "overlay",
             "size": 10,
             "solidity": 0.2
            },
            "type": "scatter"
           }
          ],
          "scatter3d": [
           {
            "line": {
             "colorbar": {
              "outlinewidth": 0,
              "ticks": ""
             }
            },
            "marker": {
             "colorbar": {
              "outlinewidth": 0,
              "ticks": ""
             }
            },
            "type": "scatter3d"
           }
          ],
          "scattercarpet": [
           {
            "marker": {
             "colorbar": {
              "outlinewidth": 0,
              "ticks": ""
             }
            },
            "type": "scattercarpet"
           }
          ],
          "scattergeo": [
           {
            "marker": {
             "colorbar": {
              "outlinewidth": 0,
              "ticks": ""
             }
            },
            "type": "scattergeo"
           }
          ],
          "scattergl": [
           {
            "marker": {
             "colorbar": {
              "outlinewidth": 0,
              "ticks": ""
             }
            },
            "type": "scattergl"
           }
          ],
          "scattermapbox": [
           {
            "marker": {
             "colorbar": {
              "outlinewidth": 0,
              "ticks": ""
             }
            },
            "type": "scattermapbox"
           }
          ],
          "scatterpolar": [
           {
            "marker": {
             "colorbar": {
              "outlinewidth": 0,
              "ticks": ""
             }
            },
            "type": "scatterpolar"
           }
          ],
          "scatterpolargl": [
           {
            "marker": {
             "colorbar": {
              "outlinewidth": 0,
              "ticks": ""
             }
            },
            "type": "scatterpolargl"
           }
          ],
          "scatterternary": [
           {
            "marker": {
             "colorbar": {
              "outlinewidth": 0,
              "ticks": ""
             }
            },
            "type": "scatterternary"
           }
          ],
          "surface": [
           {
            "colorbar": {
             "outlinewidth": 0,
             "ticks": ""
            },
            "colorscale": [
             [
              0,
              "#0d0887"
             ],
             [
              0.1111111111111111,
              "#46039f"
             ],
             [
              0.2222222222222222,
              "#7201a8"
             ],
             [
              0.3333333333333333,
              "#9c179e"
             ],
             [
              0.4444444444444444,
              "#bd3786"
             ],
             [
              0.5555555555555556,
              "#d8576b"
             ],
             [
              0.6666666666666666,
              "#ed7953"
             ],
             [
              0.7777777777777778,
              "#fb9f3a"
             ],
             [
              0.8888888888888888,
              "#fdca26"
             ],
             [
              1,
              "#f0f921"
             ]
            ],
            "type": "surface"
           }
          ],
          "table": [
           {
            "cells": {
             "fill": {
              "color": "#EBF0F8"
             },
             "line": {
              "color": "white"
             }
            },
            "header": {
             "fill": {
              "color": "#C8D4E3"
             },
             "line": {
              "color": "white"
             }
            },
            "type": "table"
           }
          ]
         },
         "layout": {
          "annotationdefaults": {
           "arrowcolor": "#2a3f5f",
           "arrowhead": 0,
           "arrowwidth": 1
          },
          "autotypenumbers": "strict",
          "coloraxis": {
           "colorbar": {
            "outlinewidth": 0,
            "ticks": ""
           }
          },
          "colorscale": {
           "diverging": [
            [
             0,
             "#8e0152"
            ],
            [
             0.1,
             "#c51b7d"
            ],
            [
             0.2,
             "#de77ae"
            ],
            [
             0.3,
             "#f1b6da"
            ],
            [
             0.4,
             "#fde0ef"
            ],
            [
             0.5,
             "#f7f7f7"
            ],
            [
             0.6,
             "#e6f5d0"
            ],
            [
             0.7,
             "#b8e186"
            ],
            [
             0.8,
             "#7fbc41"
            ],
            [
             0.9,
             "#4d9221"
            ],
            [
             1,
             "#276419"
            ]
           ],
           "sequential": [
            [
             0,
             "#0d0887"
            ],
            [
             0.1111111111111111,
             "#46039f"
            ],
            [
             0.2222222222222222,
             "#7201a8"
            ],
            [
             0.3333333333333333,
             "#9c179e"
            ],
            [
             0.4444444444444444,
             "#bd3786"
            ],
            [
             0.5555555555555556,
             "#d8576b"
            ],
            [
             0.6666666666666666,
             "#ed7953"
            ],
            [
             0.7777777777777778,
             "#fb9f3a"
            ],
            [
             0.8888888888888888,
             "#fdca26"
            ],
            [
             1,
             "#f0f921"
            ]
           ],
           "sequentialminus": [
            [
             0,
             "#0d0887"
            ],
            [
             0.1111111111111111,
             "#46039f"
            ],
            [
             0.2222222222222222,
             "#7201a8"
            ],
            [
             0.3333333333333333,
             "#9c179e"
            ],
            [
             0.4444444444444444,
             "#bd3786"
            ],
            [
             0.5555555555555556,
             "#d8576b"
            ],
            [
             0.6666666666666666,
             "#ed7953"
            ],
            [
             0.7777777777777778,
             "#fb9f3a"
            ],
            [
             0.8888888888888888,
             "#fdca26"
            ],
            [
             1,
             "#f0f921"
            ]
           ]
          },
          "colorway": [
           "#636efa",
           "#EF553B",
           "#00cc96",
           "#ab63fa",
           "#FFA15A",
           "#19d3f3",
           "#FF6692",
           "#B6E880",
           "#FF97FF",
           "#FECB52"
          ],
          "font": {
           "color": "#2a3f5f"
          },
          "geo": {
           "bgcolor": "white",
           "lakecolor": "white",
           "landcolor": "#E5ECF6",
           "showlakes": true,
           "showland": true,
           "subunitcolor": "white"
          },
          "hoverlabel": {
           "align": "left"
          },
          "hovermode": "closest",
          "mapbox": {
           "style": "light"
          },
          "paper_bgcolor": "white",
          "plot_bgcolor": "#E5ECF6",
          "polar": {
           "angularaxis": {
            "gridcolor": "white",
            "linecolor": "white",
            "ticks": ""
           },
           "bgcolor": "#E5ECF6",
           "radialaxis": {
            "gridcolor": "white",
            "linecolor": "white",
            "ticks": ""
           }
          },
          "scene": {
           "xaxis": {
            "backgroundcolor": "#E5ECF6",
            "gridcolor": "white",
            "gridwidth": 2,
            "linecolor": "white",
            "showbackground": true,
            "ticks": "",
            "zerolinecolor": "white"
           },
           "yaxis": {
            "backgroundcolor": "#E5ECF6",
            "gridcolor": "white",
            "gridwidth": 2,
            "linecolor": "white",
            "showbackground": true,
            "ticks": "",
            "zerolinecolor": "white"
           },
           "zaxis": {
            "backgroundcolor": "#E5ECF6",
            "gridcolor": "white",
            "gridwidth": 2,
            "linecolor": "white",
            "showbackground": true,
            "ticks": "",
            "zerolinecolor": "white"
           }
          },
          "shapedefaults": {
           "line": {
            "color": "#2a3f5f"
           }
          },
          "ternary": {
           "aaxis": {
            "gridcolor": "white",
            "linecolor": "white",
            "ticks": ""
           },
           "baxis": {
            "gridcolor": "white",
            "linecolor": "white",
            "ticks": ""
           },
           "bgcolor": "#E5ECF6",
           "caxis": {
            "gridcolor": "white",
            "linecolor": "white",
            "ticks": ""
           }
          },
          "title": {
           "x": 0.05
          },
          "xaxis": {
           "automargin": true,
           "gridcolor": "white",
           "linecolor": "white",
           "ticks": "",
           "title": {
            "standoff": 15
           },
           "zerolinecolor": "white",
           "zerolinewidth": 2
          },
          "yaxis": {
           "automargin": true,
           "gridcolor": "white",
           "linecolor": "white",
           "ticks": "",
           "title": {
            "standoff": 15
           },
           "zerolinecolor": "white",
           "zerolinewidth": 2
          }
         }
        },
        "xaxis": {
         "anchor": "y",
         "domain": [
          0,
          1
         ],
         "title": {
          "text": "index"
         }
        },
        "yaxis": {
         "anchor": "x",
         "domain": [
          0,
          1
         ],
         "title": {
          "text": "value"
         }
        }
       }
      },
      "text/html": [
       "<div>                            <div id=\"7c65cd32-e9ee-4bd6-a2e7-295b19cf9930\" class=\"plotly-graph-div\" style=\"height:525px; width:100%;\"></div>            <script type=\"text/javascript\">                require([\"plotly\"], function(Plotly) {                    window.PLOTLYENV=window.PLOTLYENV || {};                                    if (document.getElementById(\"7c65cd32-e9ee-4bd6-a2e7-295b19cf9930\")) {                    Plotly.newPlot(                        \"7c65cd32-e9ee-4bd6-a2e7-295b19cf9930\",                        [{\"hovertemplate\":\"variable=TOTEMP<br>index=%{x}<br>value=%{y}<extra></extra>\",\"legendgroup\":\"TOTEMP\",\"line\":{\"color\":\"#636efa\",\"dash\":\"solid\"},\"marker\":{\"symbol\":\"circle\"},\"mode\":\"lines\",\"name\":\"TOTEMP\",\"orientation\":\"v\",\"showlegend\":true,\"x\":[\"1947-12-31T00:00:00\",\"1948-12-31T00:00:00\",\"1949-12-31T00:00:00\",\"1950-12-31T00:00:00\",\"1951-12-31T00:00:00\",\"1952-12-31T00:00:00\",\"1953-12-31T00:00:00\",\"1954-12-31T00:00:00\",\"1955-12-31T00:00:00\",\"1956-12-31T00:00:00\",\"1957-12-31T00:00:00\",\"1958-12-31T00:00:00\",\"1959-12-31T00:00:00\",\"1960-12-31T00:00:00\",\"1961-12-31T00:00:00\",\"1962-12-31T00:00:00\"],\"xaxis\":\"x\",\"y\":[0.8550268600019844,0.8663520006803589,0.8528723901858231,0.8672733200096384,0.896103527944324,0.9020283199387678,0.9211634137007272,0.9037575654491078,0.9357627815339258,0.9618148573372454,0.9662371901177871,0.9427648084364503,0.9731258238720926,0.9860101203384786,0.9827075448965996,1.0],\"yaxis\":\"y\",\"type\":\"scatter\"},{\"hovertemplate\":\"variable=GNPDEFL<br>index=%{x}<br>value=%{y}<extra></extra>\",\"legendgroup\":\"GNPDEFL\",\"line\":{\"color\":\"#EF553B\",\"dash\":\"solid\"},\"marker\":{\"symbol\":\"circle\"},\"mode\":\"lines\",\"name\":\"GNPDEFL\",\"orientation\":\"v\",\"showlegend\":true,\"x\":[\"1947-12-31T00:00:00\",\"1948-12-31T00:00:00\",\"1949-12-31T00:00:00\",\"1950-12-31T00:00:00\",\"1951-12-31T00:00:00\",\"1952-12-31T00:00:00\",\"1953-12-31T00:00:00\",\"1954-12-31T00:00:00\",\"1955-12-31T00:00:00\",\"1956-12-31T00:00:00\",\"1957-12-31T00:00:00\",\"1958-12-31T00:00:00\",\"1959-12-31T00:00:00\",\"1960-12-31T00:00:00\",\"1961-12-31T00:00:00\",\"1962-12-31T00:00:00\"],\"xaxis\":\"x\",\"y\":[0.7100085543199315,0.7570573139435415,0.7544910179640718,0.7656116338751069,0.8229255774165953,0.8391787852865696,0.8468776732249785,0.8554319931565441,0.8656971770744226,0.8947818648417449,0.9272882805816938,0.9478186484174508,0.9632164242942685,0.9769033361847733,0.9897348160821214,1.0],\"yaxis\":\"y\",\"type\":\"scatter\"},{\"hovertemplate\":\"variable=GNP<br>index=%{x}<br>value=%{y}<extra></extra>\",\"legendgroup\":\"GNP\",\"line\":{\"color\":\"#00cc96\",\"dash\":\"solid\"},\"marker\":{\"symbol\":\"circle\"},\"mode\":\"lines\",\"name\":\"GNP\",\"orientation\":\"v\",\"showlegend\":true,\"x\":[\"1947-12-31T00:00:00\",\"1948-12-31T00:00:00\",\"1949-12-31T00:00:00\",\"1950-12-31T00:00:00\",\"1951-12-31T00:00:00\",\"1952-12-31T00:00:00\",\"1953-12-31T00:00:00\",\"1954-12-31T00:00:00\",\"1955-12-31T00:00:00\",\"1956-12-31T00:00:00\",\"1957-12-31T00:00:00\",\"1958-12-31T00:00:00\",\"1959-12-31T00:00:00\",\"1960-12-31T00:00:00\",\"1961-12-31T00:00:00\",\"1962-12-31T00:00:00\"],\"xaxis\":\"x\",\"y\":[0.4222229831283092,0.4675235270159706,0.46505098271021134,0.5128889481594683,0.5928609788536189,0.6253428582756346,0.6584771145480037,0.6543808367003427,0.7162971666660659,0.755423558373311,0.7979343802600136,0.8011367936939308,0.8699030805883646,0.9057603794598608,0.9338233969010298,1.0],\"yaxis\":\"y\",\"type\":\"scatter\"},{\"hovertemplate\":\"variable=UNEMP<br>index=%{x}<br>value=%{y}<extra></extra>\",\"legendgroup\":\"UNEMP\",\"line\":{\"color\":\"#ab63fa\",\"dash\":\"solid\"},\"marker\":{\"symbol\":\"circle\"},\"mode\":\"lines\",\"name\":\"UNEMP\",\"orientation\":\"v\",\"showlegend\":true,\"x\":[\"1947-12-31T00:00:00\",\"1948-12-31T00:00:00\",\"1949-12-31T00:00:00\",\"1950-12-31T00:00:00\",\"1951-12-31T00:00:00\",\"1952-12-31T00:00:00\",\"1953-12-31T00:00:00\",\"1954-12-31T00:00:00\",\"1955-12-31T00:00:00\",\"1956-12-31T00:00:00\",\"1957-12-31T00:00:00\",\"1958-12-31T00:00:00\",\"1959-12-31T00:00:00\",\"1960-12-31T00:00:00\",\"1961-12-31T00:00:00\",\"1962-12-31T00:00:00\"],\"xaxis\":\"x\",\"y\":[0.49022055763628797,0.4837702871410737,0.7661256762380357,0.6972534332084894,0.4367457344985435,0.4019975031210986,0.38909696213067,0.7444860590928006,0.6042446941323346,0.5871826883062838,0.61090303786933,0.9739908447773616,0.7933832709113608,0.8179359134415314,1.0,0.8337494798168955],\"yaxis\":\"y\",\"type\":\"scatter\"},{\"hovertemplate\":\"variable=ARMED<br>index=%{x}<br>value=%{y}<extra></extra>\",\"legendgroup\":\"ARMED\",\"line\":{\"color\":\"#FFA15A\",\"dash\":\"solid\"},\"marker\":{\"symbol\":\"circle\"},\"mode\":\"lines\",\"name\":\"ARMED\",\"orientation\":\"v\",\"showlegend\":true,\"x\":[\"1947-12-31T00:00:00\",\"1948-12-31T00:00:00\",\"1949-12-31T00:00:00\",\"1950-12-31T00:00:00\",\"1951-12-31T00:00:00\",\"1952-12-31T00:00:00\",\"1953-12-31T00:00:00\",\"1954-12-31T00:00:00\",\"1955-12-31T00:00:00\",\"1956-12-31T00:00:00\",\"1957-12-31T00:00:00\",\"1958-12-31T00:00:00\",\"1959-12-31T00:00:00\",\"1960-12-31T00:00:00\",\"1961-12-31T00:00:00\",\"1962-12-31T00:00:00\"],\"xaxis\":\"x\",\"y\":[0.44240400667779634,0.4051196438508626,0.449638286032276,0.4590984974958264,0.8622704507512521,1.0,0.9869226488592098,0.9321090706733445,0.8480801335559266,0.7949360044518642,0.778519755147468,0.7337228714524207,0.7100723427935448,0.6994991652754591,0.7156371730662214,0.7865887590428492],\"yaxis\":\"y\",\"type\":\"scatter\"},{\"hovertemplate\":\"variable=POP<br>index=%{x}<br>value=%{y}<extra></extra>\",\"legendgroup\":\"POP\",\"line\":{\"color\":\"#19d3f3\",\"dash\":\"solid\"},\"marker\":{\"symbol\":\"circle\"},\"mode\":\"lines\",\"name\":\"POP\",\"orientation\":\"v\",\"showlegend\":true,\"x\":[\"1947-12-31T00:00:00\",\"1948-12-31T00:00:00\",\"1949-12-31T00:00:00\",\"1950-12-31T00:00:00\",\"1951-12-31T00:00:00\",\"1952-12-31T00:00:00\",\"1953-12-31T00:00:00\",\"1954-12-31T00:00:00\",\"1955-12-31T00:00:00\",\"1956-12-31T00:00:00\",\"1957-12-31T00:00:00\",\"1958-12-31T00:00:00\",\"1959-12-31T00:00:00\",\"1960-12-31T00:00:00\",\"1961-12-31T00:00:00\",\"1962-12-31T00:00:00\"],\"xaxis\":\"x\",\"y\":[0.82723841298883,0.8351104311928721,0.8438818889768682,0.8527686595275251,0.8615785549004082,0.8707651386443831,0.8847871710703331,0.8934356285698911,0.902422336851654,0.912769735780014,0.9259230786971195,0.9374927929520837,0.9483783181248606,0.9637687287151852,0.9828645228742091,1.0],\"yaxis\":\"y\",\"type\":\"scatter\"}],                        {\"template\":{\"data\":{\"histogram2dcontour\":[{\"type\":\"histogram2dcontour\",\"colorbar\":{\"outlinewidth\":0,\"ticks\":\"\"},\"colorscale\":[[0.0,\"#0d0887\"],[0.1111111111111111,\"#46039f\"],[0.2222222222222222,\"#7201a8\"],[0.3333333333333333,\"#9c179e\"],[0.4444444444444444,\"#bd3786\"],[0.5555555555555556,\"#d8576b\"],[0.6666666666666666,\"#ed7953\"],[0.7777777777777778,\"#fb9f3a\"],[0.8888888888888888,\"#fdca26\"],[1.0,\"#f0f921\"]]}],\"choropleth\":[{\"type\":\"choropleth\",\"colorbar\":{\"outlinewidth\":0,\"ticks\":\"\"}}],\"histogram2d\":[{\"type\":\"histogram2d\",\"colorbar\":{\"outlinewidth\":0,\"ticks\":\"\"},\"colorscale\":[[0.0,\"#0d0887\"],[0.1111111111111111,\"#46039f\"],[0.2222222222222222,\"#7201a8\"],[0.3333333333333333,\"#9c179e\"],[0.4444444444444444,\"#bd3786\"],[0.5555555555555556,\"#d8576b\"],[0.6666666666666666,\"#ed7953\"],[0.7777777777777778,\"#fb9f3a\"],[0.8888888888888888,\"#fdca26\"],[1.0,\"#f0f921\"]]}],\"heatmap\":[{\"type\":\"heatmap\",\"colorbar\":{\"outlinewidth\":0,\"ticks\":\"\"},\"colorscale\":[[0.0,\"#0d0887\"],[0.1111111111111111,\"#46039f\"],[0.2222222222222222,\"#7201a8\"],[0.3333333333333333,\"#9c179e\"],[0.4444444444444444,\"#bd3786\"],[0.5555555555555556,\"#d8576b\"],[0.6666666666666666,\"#ed7953\"],[0.7777777777777778,\"#fb9f3a\"],[0.8888888888888888,\"#fdca26\"],[1.0,\"#f0f921\"]]}],\"heatmapgl\":[{\"type\":\"heatmapgl\",\"colorbar\":{\"outlinewidth\":0,\"ticks\":\"\"},\"colorscale\":[[0.0,\"#0d0887\"],[0.1111111111111111,\"#46039f\"],[0.2222222222222222,\"#7201a8\"],[0.3333333333333333,\"#9c179e\"],[0.4444444444444444,\"#bd3786\"],[0.5555555555555556,\"#d8576b\"],[0.6666666666666666,\"#ed7953\"],[0.7777777777777778,\"#fb9f3a\"],[0.8888888888888888,\"#fdca26\"],[1.0,\"#f0f921\"]]}],\"contourcarpet\":[{\"type\":\"contourcarpet\",\"colorbar\":{\"outlinewidth\":0,\"ticks\":\"\"}}],\"contour\":[{\"type\":\"contour\",\"colorbar\":{\"outlinewidth\":0,\"ticks\":\"\"},\"colorscale\":[[0.0,\"#0d0887\"],[0.1111111111111111,\"#46039f\"],[0.2222222222222222,\"#7201a8\"],[0.3333333333333333,\"#9c179e\"],[0.4444444444444444,\"#bd3786\"],[0.5555555555555556,\"#d8576b\"],[0.6666666666666666,\"#ed7953\"],[0.7777777777777778,\"#fb9f3a\"],[0.8888888888888888,\"#fdca26\"],[1.0,\"#f0f921\"]]}],\"surface\":[{\"type\":\"surface\",\"colorbar\":{\"outlinewidth\":0,\"ticks\":\"\"},\"colorscale\":[[0.0,\"#0d0887\"],[0.1111111111111111,\"#46039f\"],[0.2222222222222222,\"#7201a8\"],[0.3333333333333333,\"#9c179e\"],[0.4444444444444444,\"#bd3786\"],[0.5555555555555556,\"#d8576b\"],[0.6666666666666666,\"#ed7953\"],[0.7777777777777778,\"#fb9f3a\"],[0.8888888888888888,\"#fdca26\"],[1.0,\"#f0f921\"]]}],\"mesh3d\":[{\"type\":\"mesh3d\",\"colorbar\":{\"outlinewidth\":0,\"ticks\":\"\"}}],\"scatter\":[{\"fillpattern\":{\"fillmode\":\"overlay\",\"size\":10,\"solidity\":0.2},\"type\":\"scatter\"}],\"parcoords\":[{\"type\":\"parcoords\",\"line\":{\"colorbar\":{\"outlinewidth\":0,\"ticks\":\"\"}}}],\"scatterpolargl\":[{\"type\":\"scatterpolargl\",\"marker\":{\"colorbar\":{\"outlinewidth\":0,\"ticks\":\"\"}}}],\"bar\":[{\"error_x\":{\"color\":\"#2a3f5f\"},\"error_y\":{\"color\":\"#2a3f5f\"},\"marker\":{\"line\":{\"color\":\"#E5ECF6\",\"width\":0.5},\"pattern\":{\"fillmode\":\"overlay\",\"size\":10,\"solidity\":0.2}},\"type\":\"bar\"}],\"scattergeo\":[{\"type\":\"scattergeo\",\"marker\":{\"colorbar\":{\"outlinewidth\":0,\"ticks\":\"\"}}}],\"scatterpolar\":[{\"type\":\"scatterpolar\",\"marker\":{\"colorbar\":{\"outlinewidth\":0,\"ticks\":\"\"}}}],\"histogram\":[{\"marker\":{\"pattern\":{\"fillmode\":\"overlay\",\"size\":10,\"solidity\":0.2}},\"type\":\"histogram\"}],\"scattergl\":[{\"type\":\"scattergl\",\"marker\":{\"colorbar\":{\"outlinewidth\":0,\"ticks\":\"\"}}}],\"scatter3d\":[{\"type\":\"scatter3d\",\"line\":{\"colorbar\":{\"outlinewidth\":0,\"ticks\":\"\"}},\"marker\":{\"colorbar\":{\"outlinewidth\":0,\"ticks\":\"\"}}}],\"scattermapbox\":[{\"type\":\"scattermapbox\",\"marker\":{\"colorbar\":{\"outlinewidth\":0,\"ticks\":\"\"}}}],\"scatterternary\":[{\"type\":\"scatterternary\",\"marker\":{\"colorbar\":{\"outlinewidth\":0,\"ticks\":\"\"}}}],\"scattercarpet\":[{\"type\":\"scattercarpet\",\"marker\":{\"colorbar\":{\"outlinewidth\":0,\"ticks\":\"\"}}}],\"carpet\":[{\"aaxis\":{\"endlinecolor\":\"#2a3f5f\",\"gridcolor\":\"white\",\"linecolor\":\"white\",\"minorgridcolor\":\"white\",\"startlinecolor\":\"#2a3f5f\"},\"baxis\":{\"endlinecolor\":\"#2a3f5f\",\"gridcolor\":\"white\",\"linecolor\":\"white\",\"minorgridcolor\":\"white\",\"startlinecolor\":\"#2a3f5f\"},\"type\":\"carpet\"}],\"table\":[{\"cells\":{\"fill\":{\"color\":\"#EBF0F8\"},\"line\":{\"color\":\"white\"}},\"header\":{\"fill\":{\"color\":\"#C8D4E3\"},\"line\":{\"color\":\"white\"}},\"type\":\"table\"}],\"barpolar\":[{\"marker\":{\"line\":{\"color\":\"#E5ECF6\",\"width\":0.5},\"pattern\":{\"fillmode\":\"overlay\",\"size\":10,\"solidity\":0.2}},\"type\":\"barpolar\"}],\"pie\":[{\"automargin\":true,\"type\":\"pie\"}]},\"layout\":{\"autotypenumbers\":\"strict\",\"colorway\":[\"#636efa\",\"#EF553B\",\"#00cc96\",\"#ab63fa\",\"#FFA15A\",\"#19d3f3\",\"#FF6692\",\"#B6E880\",\"#FF97FF\",\"#FECB52\"],\"font\":{\"color\":\"#2a3f5f\"},\"hovermode\":\"closest\",\"hoverlabel\":{\"align\":\"left\"},\"paper_bgcolor\":\"white\",\"plot_bgcolor\":\"#E5ECF6\",\"polar\":{\"bgcolor\":\"#E5ECF6\",\"angularaxis\":{\"gridcolor\":\"white\",\"linecolor\":\"white\",\"ticks\":\"\"},\"radialaxis\":{\"gridcolor\":\"white\",\"linecolor\":\"white\",\"ticks\":\"\"}},\"ternary\":{\"bgcolor\":\"#E5ECF6\",\"aaxis\":{\"gridcolor\":\"white\",\"linecolor\":\"white\",\"ticks\":\"\"},\"baxis\":{\"gridcolor\":\"white\",\"linecolor\":\"white\",\"ticks\":\"\"},\"caxis\":{\"gridcolor\":\"white\",\"linecolor\":\"white\",\"ticks\":\"\"}},\"coloraxis\":{\"colorbar\":{\"outlinewidth\":0,\"ticks\":\"\"}},\"colorscale\":{\"sequential\":[[0.0,\"#0d0887\"],[0.1111111111111111,\"#46039f\"],[0.2222222222222222,\"#7201a8\"],[0.3333333333333333,\"#9c179e\"],[0.4444444444444444,\"#bd3786\"],[0.5555555555555556,\"#d8576b\"],[0.6666666666666666,\"#ed7953\"],[0.7777777777777778,\"#fb9f3a\"],[0.8888888888888888,\"#fdca26\"],[1.0,\"#f0f921\"]],\"sequentialminus\":[[0.0,\"#0d0887\"],[0.1111111111111111,\"#46039f\"],[0.2222222222222222,\"#7201a8\"],[0.3333333333333333,\"#9c179e\"],[0.4444444444444444,\"#bd3786\"],[0.5555555555555556,\"#d8576b\"],[0.6666666666666666,\"#ed7953\"],[0.7777777777777778,\"#fb9f3a\"],[0.8888888888888888,\"#fdca26\"],[1.0,\"#f0f921\"]],\"diverging\":[[0,\"#8e0152\"],[0.1,\"#c51b7d\"],[0.2,\"#de77ae\"],[0.3,\"#f1b6da\"],[0.4,\"#fde0ef\"],[0.5,\"#f7f7f7\"],[0.6,\"#e6f5d0\"],[0.7,\"#b8e186\"],[0.8,\"#7fbc41\"],[0.9,\"#4d9221\"],[1,\"#276419\"]]},\"xaxis\":{\"gridcolor\":\"white\",\"linecolor\":\"white\",\"ticks\":\"\",\"title\":{\"standoff\":15},\"zerolinecolor\":\"white\",\"automargin\":true,\"zerolinewidth\":2},\"yaxis\":{\"gridcolor\":\"white\",\"linecolor\":\"white\",\"ticks\":\"\",\"title\":{\"standoff\":15},\"zerolinecolor\":\"white\",\"automargin\":true,\"zerolinewidth\":2},\"scene\":{\"xaxis\":{\"backgroundcolor\":\"#E5ECF6\",\"gridcolor\":\"white\",\"linecolor\":\"white\",\"showbackground\":true,\"ticks\":\"\",\"zerolinecolor\":\"white\",\"gridwidth\":2},\"yaxis\":{\"backgroundcolor\":\"#E5ECF6\",\"gridcolor\":\"white\",\"linecolor\":\"white\",\"showbackground\":true,\"ticks\":\"\",\"zerolinecolor\":\"white\",\"gridwidth\":2},\"zaxis\":{\"backgroundcolor\":\"#E5ECF6\",\"gridcolor\":\"white\",\"linecolor\":\"white\",\"showbackground\":true,\"ticks\":\"\",\"zerolinecolor\":\"white\",\"gridwidth\":2}},\"shapedefaults\":{\"line\":{\"color\":\"#2a3f5f\"}},\"annotationdefaults\":{\"arrowcolor\":\"#2a3f5f\",\"arrowhead\":0,\"arrowwidth\":1},\"geo\":{\"bgcolor\":\"white\",\"landcolor\":\"#E5ECF6\",\"subunitcolor\":\"white\",\"showland\":true,\"showlakes\":true,\"lakecolor\":\"white\"},\"title\":{\"x\":0.05},\"mapbox\":{\"style\":\"light\"}}},\"xaxis\":{\"anchor\":\"y\",\"domain\":[0.0,1.0],\"title\":{\"text\":\"index\"}},\"yaxis\":{\"anchor\":\"x\",\"domain\":[0.0,1.0],\"title\":{\"text\":\"value\"}},\"legend\":{\"title\":{\"text\":\"variable\"},\"tracegroupgap\":0},\"margin\":{\"t\":60}},                        {\"responsive\": true}                    ).then(function(){\n",
       "                            \n",
       "var gd = document.getElementById('7c65cd32-e9ee-4bd6-a2e7-295b19cf9930');\n",
       "var x = new MutationObserver(function (mutations, observer) {{\n",
       "        var display = window.getComputedStyle(gd).display;\n",
       "        if (!display || display === 'none') {{\n",
       "            console.log([gd, 'removed!']);\n",
       "            Plotly.purge(gd);\n",
       "            observer.disconnect();\n",
       "        }}\n",
       "}});\n",
       "\n",
       "// Listen for the removal of the full notebook cells\n",
       "var notebookContainer = gd.closest('#notebook-container');\n",
       "if (notebookContainer) {{\n",
       "    x.observe(notebookContainer, {childList: true});\n",
       "}}\n",
       "\n",
       "// Listen for the clearing of the current output cell\n",
       "var outputEl = gd.closest('.output');\n",
       "if (outputEl) {{\n",
       "    x.observe(outputEl, {childList: true});\n",
       "}}\n",
       "\n",
       "                        })                };                });            </script>        </div>"
      ]
     },
     "metadata": {},
     "output_type": "display_data"
    }
   ],
   "source": [
    "px.line(dfNormalized)"
   ]
  },
  {
   "cell_type": "code",
   "execution_count": null,
   "id": "12895eb8",
   "metadata": {},
   "outputs": [],
   "source": []
  },
  {
   "cell_type": "code",
   "execution_count": null,
   "id": "2e82ead1",
   "metadata": {},
   "outputs": [],
   "source": []
  },
  {
   "cell_type": "code",
   "execution_count": null,
   "id": "e70451e7",
   "metadata": {},
   "outputs": [],
   "source": []
  },
  {
   "cell_type": "code",
   "execution_count": null,
   "id": "ab50044d",
   "metadata": {},
   "outputs": [],
   "source": []
  }
 ],
 "metadata": {
  "kernelspec": {
   "display_name": "Python 3 (ipykernel)",
   "language": "python",
   "name": "python3"
  },
  "language_info": {
   "codemirror_mode": {
    "name": "ipython",
    "version": 3
   },
   "file_extension": ".py",
   "mimetype": "text/x-python",
   "name": "python",
   "nbconvert_exporter": "python",
   "pygments_lexer": "ipython3",
   "version": "3.8.12"
  },
  "toc": {
   "base_numbering": 1,
   "nav_menu": {},
   "number_sections": false,
   "sideBar": true,
   "skip_h1_title": false,
   "title_cell": "Table of Contents",
   "title_sidebar": "Contents",
   "toc_cell": false,
   "toc_position": {},
   "toc_section_display": true,
   "toc_window_display": true
  }
 },
 "nbformat": 4,
 "nbformat_minor": 5
}
