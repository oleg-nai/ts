{
 "cells": [
  {
   "cell_type": "code",
   "execution_count": null,
   "id": "798f2a8e",
   "metadata": {
    "ExecuteTime": {
     "end_time": "2022-06-22T11:48:24.552267Z",
     "start_time": "2022-06-22T11:48:24.537191Z"
    }
   },
   "outputs": [],
   "source": [
    "# !pip install plotly"
   ]
  },
  {
   "cell_type": "code",
   "execution_count": null,
   "id": "6584de44",
   "metadata": {
    "ExecuteTime": {
     "end_time": "2022-06-22T11:48:26.446464Z",
     "start_time": "2022-06-22T11:48:24.554207Z"
    }
   },
   "outputs": [],
   "source": [
    "from tsdata.raw import available_data, load_data\n",
    "\n",
    "import pandas as pd\n",
    "import numpy as np\n",
    "\n",
    "import seaborn as sns\n",
    "import matplotlib.pyplot as plt\n",
    "import plotly.express as px\n",
    "plt.rcParams[\"figure.figsize\"] = (18, 8)\n",
    "\n",
    "import scipy.stats as st\n",
    "from statsmodels.graphics.tsaplots import plot_acf, plot_pacf\n",
    "from statsmodels.distributions.empirical_distribution import ECDF\n",
    "\n",
    "from sklearn.metrics import mean_absolute_error #r2_score, median_absolute_error, \n",
    "\n",
    "import warnings\n",
    "warnings.filterwarnings('ignore')"
   ]
  },
  {
   "cell_type": "code",
   "execution_count": null,
   "id": "d9bc9d44",
   "metadata": {
    "ExecuteTime": {
     "end_time": "2022-06-22T11:48:26.465787Z",
     "start_time": "2022-06-22T11:48:26.447982Z"
    }
   },
   "outputs": [],
   "source": [
    "def plot_decomposition(decomposition):\n",
    "    plt.subplots(3, 1, figsize=(20, 21))\n",
    "\n",
    "    plt.subplot(3, 1, 1)\n",
    "    plt.plot(decomposition.trend, color='navy', markersize=3, label='trend')\n",
    "    plt.legend(loc='upper right')\n",
    "    plt.grid(linestyle=':', color='k')\n",
    "    plt.title(\"Trend\")\n",
    "\n",
    "\n",
    "    plt.subplot(3, 1, 2)\n",
    "    plt.plot(decomposition.seasonal, \n",
    "             '-gd', markersize=3, label='seasonal')\n",
    "    plt.plot([decomposition.seasonal.index[0], decomposition.seasonal.index[-1]], \n",
    "             decomposition.seasonal.mean()*np.array([1, 1]), '--k', \n",
    "             label=f\"mean = {decomposition.seasonal.mean():.3g}\")\n",
    "    plt.legend(loc='upper right')\n",
    "    plt.grid(linestyle=':', color='k')\n",
    "    plt.title(f\"Seasonal : range={(decomposition.seasonal.max() - decomposition.seasonal.min()):.3g}\")\n",
    "\n",
    "\n",
    "    plt.subplot(3, 1, 3)\n",
    "    plt.plot(decomposition.resid, '-o', color='maroon', markersize=3,  label='residuals')\n",
    "    plt.plot([decomposition.resid.index[0], decomposition.resid.index[-1]], \n",
    "             decomposition.resid.mean()*np.array([1, 1]), '--k', \n",
    "             label=f\"mean = {decomposition.resid.mean():.3g}\")\n",
    "    plt.legend(loc='upper right')\n",
    "    plt.grid(linestyle=':', color='k')\n",
    "    plt.title(\"Residuals\")\n",
    "\n",
    "    plt.show()\n",
    "    \n",
    "\n",
    "def correlation_analysis(data, decomposition):\n",
    "    N = len(data)\n",
    "    plot_acf(data, \n",
    "             lags=N-1, \n",
    "             vlines_kwargs={'color' : 'b'},\n",
    "             markerfacecolor='b', markeredgecolor='b', \n",
    "             title='Autocorrelation of target');\n",
    "\n",
    "    trend = decomposition.trend\n",
    "    N = len(trend.dropna())\n",
    "    k = np.arange(0, N)\n",
    "    plot_acf(trend.dropna(), \n",
    "             lags=N-1, \n",
    "             vlines_kwargs={'color' : 'navy'}, \n",
    "             markerfacecolor='navy', markeredgecolor='navy', \n",
    "             title='Autocorrelation of trend');\n",
    "\n",
    "    seasonal = decomposition.seasonal\n",
    "    N = len(seasonal)\n",
    "    plot_acf(seasonal, \n",
    "             lags=N-1, \n",
    "             vlines_kwargs={'color' : 'g'}, \n",
    "             markerfacecolor='g', markeredgecolor='g', \n",
    "             title='Autocorrelation of seasonal');\n",
    "\n",
    "    resid = decomposition.resid\n",
    "    N = len(resid.dropna())\n",
    "    plot_acf(resid.dropna(), \n",
    "             lags=N-1,   \n",
    "             vlines_kwargs={'color' : 'maroon'}, \n",
    "             markerfacecolor='maroon', markeredgecolor='maroon', \n",
    "             title='Autocorrelation of residuals');\n",
    "\n",
    "\n",
    "    plt.show()\n",
    "    \n",
    "    \n",
    "def partial_autocorrelation(data, decomposition, lags=36):\n",
    "    plot_pacf(data, \n",
    "             lags=lags, \n",
    "             vlines_kwargs={'color' : 'b'},\n",
    "             markerfacecolor='b', markeredgecolor='b', \n",
    "             title='Partial autocorrelation of target');\n",
    "\n",
    "    trend = decomposition.trend\n",
    "    plot_pacf(trend.dropna(), \n",
    "             lags=lags, \n",
    "             vlines_kwargs={'color' : 'navy'}, \n",
    "             markerfacecolor='navy', markeredgecolor='navy', \n",
    "             title='Partial autocorrelation of trend');\n",
    "\n",
    "    seasonal = decomposition.seasonal\n",
    "    plot_pacf(seasonal, \n",
    "             lags=lags, \n",
    "             vlines_kwargs={'color' : 'g'}, \n",
    "             markerfacecolor='g', markeredgecolor='g', \n",
    "             title='Partial autocorrelation of seasonal');\n",
    "\n",
    "    resid = decomposition.resid\n",
    "    plot_pacf(resid.dropna(), \n",
    "             lags=lags,   \n",
    "             vlines_kwargs={'color' : 'maroon'}, \n",
    "             markerfacecolor='maroon', markeredgecolor='maroon', \n",
    "             title='Partial autocorrelation of residuals');\n",
    "\n",
    "    plt.show()"
   ]
  },
  {
   "cell_type": "code",
   "execution_count": null,
   "id": "ba2ab794",
   "metadata": {
    "ExecuteTime": {
     "end_time": "2022-06-22T11:48:26.481028Z",
     "start_time": "2022-06-22T11:48:26.468315Z"
    }
   },
   "outputs": [],
   "source": [
    "print(available_data())"
   ]
  },
  {
   "cell_type": "markdown",
   "id": "ec26a313",
   "metadata": {},
   "source": [
    "# Tasks: 1, 2\n",
    "\n",
    "Use the help function to explore what the series gafa_stock, PBS, vic_elec and pelt represent.\n",
    "\n",
    "1. Use autoplot() to plot some of the series in these data sets.\n",
    "2. What is the time interval of each series?"
   ]
  },
  {
   "cell_type": "code",
   "execution_count": null,
   "id": "759d98c9",
   "metadata": {
    "ExecuteTime": {
     "end_time": "2022-06-22T11:48:26.650647Z",
     "start_time": "2022-06-22T11:48:26.482260Z"
    }
   },
   "outputs": [],
   "source": [
    "gafa_stock = load_data('gafa_stock')\n",
    "PBS = load_data('PBS')\n",
    "vic_elec = load_data('vic_elec')\n",
    "pelt = load_data('pelt')"
   ]
  },
  {
   "cell_type": "code",
   "execution_count": null,
   "id": "e6529ca0",
   "metadata": {
    "ExecuteTime": {
     "end_time": "2022-06-22T11:48:26.682682Z",
     "start_time": "2022-06-22T11:48:26.652598Z"
    }
   },
   "outputs": [],
   "source": [
    "gafa_stock.head()"
   ]
  },
  {
   "cell_type": "code",
   "execution_count": null,
   "id": "51c8fdb3",
   "metadata": {
    "ExecuteTime": {
     "end_time": "2022-06-22T11:48:26.697607Z",
     "start_time": "2022-06-22T11:48:26.685594Z"
    }
   },
   "outputs": [],
   "source": [
    "gafa_stock.Symbol.unique()\n",
    "gafa_stock['Symbol'].unique()"
   ]
  },
  {
   "cell_type": "markdown",
   "id": "96f1c5e4",
   "metadata": {},
   "source": [
    "<div style=\"background-color: rgb(175, 219, 245);\">\n",
    "<span style=\"color:blue\">\n",
    "\n",
    "**NOTE:** \n",
    "\n",
    "It is better use `['column_name_string']` to call the column by name \n",
    "    \n",
    "instead of `df.column_name_string` since just imagine, e.g., what if the `column_name = mean`\n",
    "\n",
    "</span>\n",
    "</div>"
   ]
  },
  {
   "cell_type": "code",
   "execution_count": null,
   "id": "13ece367",
   "metadata": {
    "ExecuteTime": {
     "end_time": "2022-06-22T11:48:26.728597Z",
     "start_time": "2022-06-22T11:48:26.715532Z"
    }
   },
   "outputs": [],
   "source": [
    "gafa_stock.Date = pd.to_datetime(gafa_stock.Date)"
   ]
  },
  {
   "cell_type": "code",
   "execution_count": null,
   "id": "ab408d26",
   "metadata": {
    "ExecuteTime": {
     "end_time": "2022-06-22T11:48:27.491820Z",
     "start_time": "2022-06-22T11:48:26.731536Z"
    },
    "scrolled": false
   },
   "outputs": [],
   "source": [
    "# g = sns.lineplot(data=gafa_stock, x='Date', y='Close', hue='Symbol')\n",
    "\n",
    "company_names = gafa_stock.Symbol.unique()\n",
    "n_companies = len(company_names) \n",
    "colors = ['red', 'navy', 'blue', 'green']\n",
    "\n",
    "for color, company_name in zip(colors, company_names):\n",
    "    plt.figure(figsize=(20, 5))\n",
    "    x = gafa_stock[gafa_stock.Symbol == company_name]['Date']\n",
    "    y = gafa_stock[gafa_stock.Symbol == company_name]['Close']\n",
    "    plt.plot(x, y, '-d', color=color, markersize=1)\n",
    "    plt.legend(['Close price',], loc='upper right')\n",
    "    plt.grid(linestyle=':', color='k')\n",
    "    plt.title(f'{company_name}: Close prices for stocks')\n",
    "\n",
    "# What is the time interval of each series?\n",
    "# day interval without weekends"
   ]
  },
  {
   "cell_type": "markdown",
   "id": "2beaf351",
   "metadata": {},
   "source": [
    "<div style=\"background-color: rgb(255, 255, 224);\">\n",
    "<span style=\"color: rgb(186, 22, 12)\">\n",
    "\n",
    "**ALERT:** \n",
    "\n",
    "And what information can we extract from these plots?\n",
    "    \n",
    "General remark - there is a lack of conclusions, ideas, hypotheses...\n",
    "    \n",
    "**I suspect** these data for non-equidistance\n",
    "\n",
    "</span>\n",
    "</div>"
   ]
  },
  {
   "cell_type": "markdown",
   "id": "2abd2cee",
   "metadata": {},
   "source": [
    "\n",
    "<div style=\"background-color: rgb(255, 255, 224);\">\n",
    "<span style=\"color: rgb(186, 22, 12)\">\n",
    "\n",
    "**ALERT:** \n",
    "\n",
    "Are you sure that your data are equidistant, i.e., you have not missing months?\n",
    "\n",
    "</span>\n",
    "</div>"
   ]
  },
  {
   "cell_type": "code",
   "execution_count": null,
   "id": "c34e3b13",
   "metadata": {
    "ExecuteTime": {
     "end_time": "2022-06-22T11:48:27.507496Z",
     "start_time": "2022-06-22T11:48:27.493814Z"
    }
   },
   "outputs": [],
   "source": [
    "PBS.head()"
   ]
  },
  {
   "cell_type": "code",
   "execution_count": null,
   "id": "86ed0359",
   "metadata": {
    "ExecuteTime": {
     "end_time": "2022-06-22T11:48:27.554390Z",
     "start_time": "2022-06-22T11:48:27.508462Z"
    }
   },
   "outputs": [],
   "source": [
    "PBS[(PBS.Concession == 'Concessional') & (PBS.Type == 'Co-payments') & (PBS.ATC1 == 'A') & (PBS.ATC2_desc == 'STOMATOLOGICAL PREPARATIONS')]"
   ]
  },
  {
   "cell_type": "markdown",
   "id": "2515bfd7",
   "metadata": {},
   "source": [
    "<div style=\"background-color: rgb(175, 219, 245);\">\n",
    "<span style=\"color:blue\">\n",
    "\n",
    "**NOTE:** \n",
    "\n",
    "It will be better to create new table dropping all columns that now have a single value.\n",
    "\n",
    "</span>.\n",
    "</div>"
   ]
  },
  {
   "cell_type": "code",
   "execution_count": null,
   "id": "9374f0cc",
   "metadata": {
    "ExecuteTime": {
     "end_time": "2022-06-22T11:48:28.332444Z",
     "start_time": "2022-06-22T11:48:27.556386Z"
    }
   },
   "outputs": [],
   "source": [
    "fig = px.line(PBS[(PBS.Concession == 'Concessional') & (PBS.Type == 'Co-payments') & \n",
    "                  (PBS.ATC1 == 'A') & (PBS.ATC2_desc == 'STOMATOLOGICAL PREPARATIONS')], \n",
    "              x='Month', y='Cost', title='Cost of STOMATOLOGICAL PREPARATIONS', markers=True)\n",
    "fig.show()\n",
    "\n",
    "# monthly interval"
   ]
  },
  {
   "cell_type": "markdown",
   "id": "c663a78a",
   "metadata": {},
   "source": [
    "## `vic_elec`"
   ]
  },
  {
   "cell_type": "code",
   "execution_count": null,
   "id": "cf11f701",
   "metadata": {
    "ExecuteTime": {
     "end_time": "2022-06-22T12:11:54.366487Z",
     "start_time": "2022-06-22T12:11:54.337773Z"
    }
   },
   "outputs": [],
   "source": [
    "vic_elec"
   ]
  },
  {
   "cell_type": "code",
   "execution_count": null,
   "id": "8c53f020",
   "metadata": {
    "ExecuteTime": {
     "end_time": "2022-06-22T12:12:06.261736Z",
     "start_time": "2022-06-22T12:12:06.225568Z"
    }
   },
   "outputs": [],
   "source": [
    "vic_elec.info()"
   ]
  },
  {
   "cell_type": "markdown",
   "id": "85ec9a15",
   "metadata": {},
   "source": [
    "<div style=\"background-color: rgb(255, 218, 233);\">\n",
    "<span style=\"color: rgb(206, 32, 41)\">\n",
    "\n",
    "**ERROR:** \n",
    "\n",
    "Everywhere the classical EDA is missed.\n",
    "    \n",
    "Are your timemarks monotonic? Are they equidistant?\n",
    "\n",
    "</span>\n",
    "</div>"
   ]
  },
  {
   "cell_type": "code",
   "execution_count": null,
   "id": "a2430eb9",
   "metadata": {
    "ExecuteTime": {
     "end_time": "2022-06-22T11:48:29.233367Z",
     "start_time": "2022-06-22T11:48:28.333442Z"
    },
    "scrolled": false
   },
   "outputs": [],
   "source": [
    "plt.figure(figsize=(20, 5))\n",
    "plt.plot(vic_elec['Demand'], color='navy')\n",
    "plt.title('Demand of the whole time range')\n",
    "plt.grid(linestyle=':', color='k')\n",
    "plt.show()\n",
    "\n",
    "plt.figure(figsize=(20, 5))\n",
    "plt.plot(vic_elec.loc['2014-01-01':, 'Demand'], color='navy')\n",
    "plt.title('Demand of last 2014 year')\n",
    "plt.grid(linestyle=':', color='k')\n",
    "plt.show()\n",
    "\n",
    "plt.figure(figsize=(20, 5))\n",
    "plt.plot(vic_elec.loc['2014-12-01':, 'Demand'], '-o', color='navy')\n",
    "plt.title('Demand of last month')\n",
    "plt.grid(linestyle=':', color='k')\n",
    "plt.show()\n",
    "\n",
    "plt.figure(figsize=(20, 5));\n",
    "plt.plot(vic_elec.loc['2014-12-25':, 'Demand'], '-o', color='navy')\n",
    "plt.title('Demand of last week')\n",
    "plt.grid(linestyle=':', color='k')\n",
    "plt.show()"
   ]
  },
  {
   "cell_type": "markdown",
   "id": "8a6ed2e1",
   "metadata": {},
   "source": [
    "<div style=\"background-color: rgb(255, 218, 233);\">\n",
    "<span style=\"color: rgb(206, 32, 41)\">\n",
    "\n",
    "**ERROR:** \n",
    "\n",
    "That is not neither \"last month\" nor \"last week\"\n",
    "\n",
    "</span>\n",
    "</div>"
   ]
  },
  {
   "cell_type": "code",
   "execution_count": null,
   "id": "b57193fa",
   "metadata": {
    "ExecuteTime": {
     "end_time": "2022-06-22T11:48:29.248644Z",
     "start_time": "2022-06-22T11:48:29.234283Z"
    },
    "scrolled": true
   },
   "outputs": [],
   "source": [
    "pelt.head()"
   ]
  },
  {
   "cell_type": "code",
   "execution_count": null,
   "id": "df43d27c",
   "metadata": {
    "ExecuteTime": {
     "end_time": "2022-06-22T11:48:29.311424Z",
     "start_time": "2022-06-22T11:48:29.249641Z"
    }
   },
   "outputs": [],
   "source": [
    "fig = px.line(pelt, x='Year', y=['Hare', 'Lynx'], title='Hare and Lynx changes', markers=True)\n",
    "fig.show()\n",
    "\n",
    "# year interval"
   ]
  },
  {
   "cell_type": "markdown",
   "id": "10e82747",
   "metadata": {},
   "source": [
    "# Task: 3 \n",
    "\n",
    "Download the file tute1.csv from the book website, open it in Excel (or some other spreadsheet application), and review its contents. You should find four columns of information. Columns B through D each contain a quarterly series, labelled Sales, AdBudget and GDP. Sales contains the quarterly sales for a small company over the period 1981-2005. AdBudget is the advertising budget and GDP is the gross domestic product. All series have been adjusted for inflation.\n",
    "\n"
   ]
  },
  {
   "cell_type": "code",
   "execution_count": null,
   "id": "470eee22",
   "metadata": {
    "ExecuteTime": {
     "end_time": "2022-06-22T11:48:29.342450Z",
     "start_time": "2022-06-22T11:48:29.313418Z"
    }
   },
   "outputs": [],
   "source": [
    "tute = pd.read_csv('data/tute1.csv')\n",
    "tute.head()"
   ]
  },
  {
   "cell_type": "code",
   "execution_count": null,
   "id": "aaad4e07",
   "metadata": {
    "ExecuteTime": {
     "end_time": "2022-06-22T11:48:29.357380Z",
     "start_time": "2022-06-22T11:48:29.343416Z"
    }
   },
   "outputs": [],
   "source": [
    "tute.isna().sum(axis=0)"
   ]
  },
  {
   "cell_type": "markdown",
   "id": "7fe8f041",
   "metadata": {},
   "source": [
    "<div style=\"background-color: rgb(144, 238, 144);\">\n",
    "<span style=\"color: rgb(0, 128, 0);\">\n",
    "\n",
    "**THUMP UP:** \n",
    "\n",
    "At least missig values have been checked :)\n",
    "    \n",
    "</span>\n",
    "</div>"
   ]
  },
  {
   "cell_type": "code",
   "execution_count": null,
   "id": "8e1c8a9b",
   "metadata": {
    "ExecuteTime": {
     "end_time": "2022-06-22T11:48:29.434781Z",
     "start_time": "2022-06-22T11:48:29.358398Z"
    }
   },
   "outputs": [],
   "source": [
    "fig = px.line(tute, x=\"Quarter\", y=['Sales','AdBudget', 'GDP'], title='Sales, AdBudget, GDP changes')\n",
    "fig.show()"
   ]
  },
  {
   "cell_type": "markdown",
   "id": "f5a22514",
   "metadata": {},
   "source": [
    "<div style=\"background-color: rgb(175, 219, 245);\">\n",
    "<span style=\"color:blue\">\n",
    "\n",
    "**NOTE:** \n",
    "\n",
    "What if you plot normalized/scaled values?\n",
    "\n",
    "</span>\n",
    "</div>"
   ]
  },
  {
   "cell_type": "markdown",
   "id": "3b44d8aa",
   "metadata": {},
   "source": [
    "# Task: 5\n",
    "\n",
    "Download tourism.xlsx from the book website and read it into R using readxl::read_excel().\n",
    "\n",
    "1. Create a tsibble which is identical to the tourism tsibble from the tsibble package.\n",
    "2. Find what combination of Region and Purpose had the maximum number of overnight trips on average.\n",
    "3. Create a new tsibble which combines the Purposes and Regions, and just has total trips by State."
   ]
  },
  {
   "cell_type": "code",
   "execution_count": null,
   "id": "229a9184",
   "metadata": {
    "ExecuteTime": {
     "end_time": "2022-06-22T11:48:29.481467Z",
     "start_time": "2022-06-22T11:48:29.436290Z"
    }
   },
   "outputs": [],
   "source": [
    "tourism = pd.read_csv('data/tourism.csv')"
   ]
  },
  {
   "cell_type": "code",
   "execution_count": null,
   "id": "0dec8a39",
   "metadata": {
    "ExecuteTime": {
     "end_time": "2022-06-22T11:48:29.496552Z",
     "start_time": "2022-06-22T11:48:29.482379Z"
    }
   },
   "outputs": [],
   "source": [
    "tourism"
   ]
  },
  {
   "cell_type": "code",
   "execution_count": null,
   "id": "f2e11875",
   "metadata": {
    "ExecuteTime": {
     "end_time": "2022-06-22T11:48:29.512415Z",
     "start_time": "2022-06-22T11:48:29.497549Z"
    }
   },
   "outputs": [],
   "source": [
    "tourism_grouped = tourism.groupby(['Region', 'Purpose']).sum('Trips').reset_index().sort_values('Trips',ascending=False)"
   ]
  },
  {
   "cell_type": "code",
   "execution_count": null,
   "id": "03acff56",
   "metadata": {
    "ExecuteTime": {
     "end_time": "2022-06-22T11:48:29.527890Z",
     "start_time": "2022-06-22T11:48:29.514678Z"
    }
   },
   "outputs": [],
   "source": [
    "tourism_grouped.head()\n",
    "# Sydney; Visiting"
   ]
  },
  {
   "cell_type": "code",
   "execution_count": null,
   "id": "1678d08c",
   "metadata": {
    "ExecuteTime": {
     "end_time": "2022-06-22T11:48:29.543591Z",
     "start_time": "2022-06-22T11:48:29.528888Z"
    }
   },
   "outputs": [],
   "source": [
    "tourism_grouped_by_state = tourism.groupby(['State']).sum('Trips').reset_index().sort_values('Trips',ascending=False)\n",
    "tourism_grouped_by_state"
   ]
  },
  {
   "cell_type": "markdown",
   "id": "95506524",
   "metadata": {},
   "source": [
    "# Task 6\n",
    "\n",
    "Create time plots of the following four time series: Bricks from aus_production, Lynx from pelt, Close from gafa_stock, Demand from vic_elec.\n",
    "\n",
    "1. Use ? (or help()) to find out about the data in each series.\n",
    "2. For the last plot, modify the axis labels and title."
   ]
  },
  {
   "cell_type": "code",
   "execution_count": null,
   "id": "fb5a09e4",
   "metadata": {
    "ExecuteTime": {
     "end_time": "2022-06-22T11:48:29.559089Z",
     "start_time": "2022-06-22T11:48:29.544552Z"
    }
   },
   "outputs": [],
   "source": [
    "aus_production = load_data('aus_production')\n",
    "\n",
    "# for vic_elec, gafa_stock, pelt check TASK:1, 2"
   ]
  },
  {
   "cell_type": "code",
   "execution_count": null,
   "id": "3e40f7a2",
   "metadata": {
    "ExecuteTime": {
     "end_time": "2022-06-22T11:48:29.606501Z",
     "start_time": "2022-06-22T11:48:29.560020Z"
    }
   },
   "outputs": [],
   "source": [
    "px.line(aus_production, x='Quarter', y='Bricks', title='Quarter bricks production', markers=True)"
   ]
  },
  {
   "cell_type": "markdown",
   "id": "e435b482",
   "metadata": {},
   "source": [
    "# Task: 7\n",
    "\n",
    "The aus_arrivals data set comprises quarterly international arrivals to Australia from Japan, New Zealand, UK and the US.\n",
    "\n",
    "1. Use autoplot(), gg_season() and gg_subseries() to compare the differences between the arrivals from these four countries.\n",
    "2. Can you identify any unusual observations?"
   ]
  },
  {
   "cell_type": "code",
   "execution_count": null,
   "id": "2b126228",
   "metadata": {
    "ExecuteTime": {
     "end_time": "2022-06-22T11:48:29.622521Z",
     "start_time": "2022-06-22T11:48:29.607498Z"
    }
   },
   "outputs": [],
   "source": [
    "aus_arrivals = load_data('aus_arrivals')"
   ]
  },
  {
   "cell_type": "code",
   "execution_count": null,
   "id": "b3540447",
   "metadata": {
    "ExecuteTime": {
     "end_time": "2022-06-22T11:48:29.637461Z",
     "start_time": "2022-06-22T11:48:29.627957Z"
    }
   },
   "outputs": [],
   "source": [
    "aus_arrivals.head()"
   ]
  },
  {
   "cell_type": "code",
   "execution_count": null,
   "id": "13d63a26",
   "metadata": {
    "ExecuteTime": {
     "end_time": "2022-06-22T11:48:29.731441Z",
     "start_time": "2022-06-22T11:48:29.638456Z"
    }
   },
   "outputs": [],
   "source": [
    "px.line(aus_arrivals, x='Quarter', y='Arrivals', color='Origin', markers=True, title='Number of arrivals to different countries')\n",
    "\n",
    "# Can you identify any unusual observations?\n",
    "# I dont see any real outliers in these plots (may be in Japan and NZ there are 2 points with peaks) "
   ]
  },
  {
   "cell_type": "markdown",
   "id": "7bc2baf2",
   "metadata": {},
   "source": [
    "# Taks: 8 \n",
    "\n",
    "Monthly Australian retail data is provided in aus_retail. Select one of the time series as follows (but choose your own seed value\n",
    "\n",
    "1. Can you spot any seasonality, cyclicity and trend? What do you learn about the series?\n",
    "\n"
   ]
  },
  {
   "cell_type": "code",
   "execution_count": null,
   "id": "81ce2de7",
   "metadata": {
    "ExecuteTime": {
     "end_time": "2022-06-22T11:48:29.762294Z",
     "start_time": "2022-06-22T11:48:29.735430Z"
    }
   },
   "outputs": [],
   "source": [
    "from statsmodels.tsa.seasonal import seasonal_decompose"
   ]
  },
  {
   "cell_type": "code",
   "execution_count": null,
   "id": "b660ca2e",
   "metadata": {
    "ExecuteTime": {
     "end_time": "2022-06-22T11:48:29.840418Z",
     "start_time": "2022-06-22T11:48:29.764274Z"
    }
   },
   "outputs": [],
   "source": [
    "aus_retail = load_data('aus_retail')"
   ]
  },
  {
   "cell_type": "code",
   "execution_count": null,
   "id": "f2697f55",
   "metadata": {
    "ExecuteTime": {
     "end_time": "2022-06-22T11:48:29.871335Z",
     "start_time": "2022-06-22T11:48:29.842413Z"
    }
   },
   "outputs": [],
   "source": [
    "aus_retail"
   ]
  },
  {
   "cell_type": "code",
   "execution_count": null,
   "id": "ce24680a",
   "metadata": {
    "ExecuteTime": {
     "end_time": "2022-06-22T11:48:29.886333Z",
     "start_time": "2022-06-22T11:48:29.872332Z"
    }
   },
   "outputs": [],
   "source": [
    "df = aus_retail[aus_retail['Series ID'] == 'A3349849A']\n",
    "# select one series"
   ]
  },
  {
   "cell_type": "code",
   "execution_count": null,
   "id": "ec61d29f",
   "metadata": {
    "ExecuteTime": {
     "end_time": "2022-06-22T11:48:29.963413Z",
     "start_time": "2022-06-22T11:48:29.888328Z"
    }
   },
   "outputs": [],
   "source": [
    "px.line(df, x='Month', y='Turnover', markers=False, title='Turnover for A3349849A client')"
   ]
  },
  {
   "cell_type": "code",
   "execution_count": null,
   "id": "37adc29e",
   "metadata": {
    "ExecuteTime": {
     "end_time": "2022-06-22T11:48:29.993351Z",
     "start_time": "2022-06-22T11:48:29.965408Z"
    }
   },
   "outputs": [],
   "source": [
    "df.set_index('Month', inplace=True)\n",
    "df.index = pd.to_datetime(df.index, format='%Y %b')\n",
    "df\n",
    "# df = df['Turnover']"
   ]
  },
  {
   "cell_type": "code",
   "execution_count": null,
   "id": "09d318e2",
   "metadata": {
    "ExecuteTime": {
     "end_time": "2022-06-22T11:48:30.009408Z",
     "start_time": "2022-06-22T11:48:29.994350Z"
    }
   },
   "outputs": [],
   "source": [
    "decomposition = seasonal_decompose(df['Turnover'], model='additive', period=12)"
   ]
  },
  {
   "cell_type": "code",
   "execution_count": null,
   "id": "5fe84ec5",
   "metadata": {
    "ExecuteTime": {
     "end_time": "2022-06-22T11:48:30.724190Z",
     "start_time": "2022-06-22T11:48:30.011303Z"
    }
   },
   "outputs": [],
   "source": [
    "plot_decomposition(decomposition)"
   ]
  },
  {
   "cell_type": "code",
   "execution_count": null,
   "id": "f88cb1e6",
   "metadata": {
    "ExecuteTime": {
     "end_time": "2022-06-22T11:48:30.739536Z",
     "start_time": "2022-06-22T11:48:30.726553Z"
    }
   },
   "outputs": [],
   "source": [
    "# Decomposition detect only trend and seasonal components, so if we have cyclicity component, \n",
    "# it will be seen in trend and residual plots"
   ]
  },
  {
   "cell_type": "markdown",
   "id": "5331be9d",
   "metadata": {},
   "source": [
    "# Task 9\n",
    "\n",
    "Use the following graphics functions: **autoplot(), gg_season(), gg_subseries(), gg_lag(), ACF()** and explore features from the following time series: \n",
    "1. “Total Private” Employed from us_employment,\n",
    "2. Bricks from aus_production\n",
    "3. Hare from pelt\n",
    "4. “H02” Cost from PBS, and us_gasoline.\n",
    "\n",
    "Questions are:\n",
    "1. Can you spot any seasonality, cyclicity and trend?\n",
    "2. What do you learn about the series?\n",
    "3. What can you say about the seasonal patterns?\n",
    "4. Can you identify any unusual years?"
   ]
  },
  {
   "cell_type": "code",
   "execution_count": null,
   "id": "df9c6fdc",
   "metadata": {
    "ExecuteTime": {
     "end_time": "2022-06-22T11:48:31.002694Z",
     "start_time": "2022-06-22T11:48:30.741531Z"
    }
   },
   "outputs": [],
   "source": [
    "us_employment = load_data('us_employment')\n",
    "aus_production = load_data('aus_production')\n",
    "pelt = load_data('pelt')\n",
    "PBS = load_data('PBS') "
   ]
  },
  {
   "cell_type": "markdown",
   "id": "d4eabb5b",
   "metadata": {},
   "source": [
    "## us_employment"
   ]
  },
  {
   "cell_type": "code",
   "execution_count": null,
   "id": "386a28c0",
   "metadata": {
    "ExecuteTime": {
     "end_time": "2022-06-22T11:48:31.796939Z",
     "start_time": "2022-06-22T11:48:31.003691Z"
    }
   },
   "outputs": [],
   "source": [
    "us_employment_observed = us_employment[us_employment.Title == 'Total Private']\n",
    "us_employment_observed.Month = pd.to_datetime(us_employment_observed.Month)\n",
    "us_employment_observed.set_index('Month', inplace=True)\n",
    "us_employment_observed = us_employment_observed.Employed"
   ]
  },
  {
   "cell_type": "code",
   "execution_count": null,
   "id": "1cfd9bf4",
   "metadata": {
    "ExecuteTime": {
     "end_time": "2022-06-22T11:48:31.889164Z",
     "start_time": "2022-06-22T11:48:31.798934Z"
    }
   },
   "outputs": [],
   "source": [
    "px.line(us_employment_observed)"
   ]
  },
  {
   "cell_type": "code",
   "execution_count": null,
   "id": "f2d0523e",
   "metadata": {
    "ExecuteTime": {
     "end_time": "2022-06-22T11:48:31.904721Z",
     "start_time": "2022-06-22T11:48:31.891060Z"
    }
   },
   "outputs": [],
   "source": [
    "decomposition = seasonal_decompose(us_employment_observed, period=12, model='additive')"
   ]
  },
  {
   "cell_type": "code",
   "execution_count": null,
   "id": "cae858bb",
   "metadata": {
    "ExecuteTime": {
     "end_time": "2022-06-22T11:48:32.635626Z",
     "start_time": "2022-06-22T11:48:31.906580Z"
    },
    "scrolled": false
   },
   "outputs": [],
   "source": [
    "plot_decomposition(decomposition)"
   ]
  },
  {
   "cell_type": "code",
   "execution_count": null,
   "id": "a4c03000",
   "metadata": {
    "ExecuteTime": {
     "end_time": "2022-06-22T11:48:33.247342Z",
     "start_time": "2022-06-22T11:48:32.636627Z"
    },
    "scrolled": false
   },
   "outputs": [],
   "source": [
    "correlation_analysis(us_employment_observed, decomposition)"
   ]
  },
  {
   "cell_type": "code",
   "execution_count": null,
   "id": "cc418b7b",
   "metadata": {
    "ExecuteTime": {
     "end_time": "2022-06-22T11:48:33.713669Z",
     "start_time": "2022-06-22T11:48:33.249313Z"
    },
    "scrolled": false
   },
   "outputs": [],
   "source": [
    "partial_autocorrelation(us_employment_observed, decomposition, 36)"
   ]
  },
  {
   "cell_type": "markdown",
   "id": "f80dc07d",
   "metadata": {},
   "source": [
    "1. we decompose series with trend, seasonal and residuals components. \n",
    "    * seasonal component looks strange, but i think it\n",
    "    * residuals look very bad, not stationary series (without mean=0 and std=constant)\n",
    "2. What do you learn about the series\n",
    "    * many questions arrised while odserving this series. We should create better decomposition and detect cyclical component (for now i dont know how to do it :) )\n",
    "3. What can you say about the seasonal patterns?\n",
    "    * it is clear that from january to december we can catch uptrend but it feels down from december to january\n",
    "4. Can you identify any unusual years?\n",
    "    * I don't thing that there are any unysual years but there are cyclical component that we dont catch"
   ]
  },
  {
   "cell_type": "markdown",
   "id": "c981c1ed",
   "metadata": {},
   "source": [
    "<div style=\"background-color: rgb(250, 230, 250);\">\n",
    "<span style=\"color: rgb(204, 51, 204)\">.\n",
    "\n",
    "**DISCUSS:** \n",
    "\n",
    "</span>.\n",
    "</div>"
   ]
  },
  {
   "cell_type": "markdown",
   "id": "26159a50",
   "metadata": {},
   "source": [
    "## aus_production"
   ]
  },
  {
   "cell_type": "code",
   "execution_count": null,
   "id": "18b8e1d9",
   "metadata": {
    "ExecuteTime": {
     "end_time": "2022-06-22T11:48:33.728799Z",
     "start_time": "2022-06-22T11:48:33.716735Z"
    }
   },
   "outputs": [],
   "source": [
    "aus_production.head()\n",
    "# Bricks from aus_production"
   ]
  },
  {
   "cell_type": "code",
   "execution_count": null,
   "id": "dba3d299",
   "metadata": {
    "ExecuteTime": {
     "end_time": "2022-06-22T11:48:33.759663Z",
     "start_time": "2022-06-22T11:48:33.730793Z"
    }
   },
   "outputs": [],
   "source": [
    "qs = aus_production['Quarter'].str.replace(r'(\\d+) (Q\\d)', r'\\1-\\2')\n",
    "qs"
   ]
  },
  {
   "cell_type": "code",
   "execution_count": null,
   "id": "f272706e",
   "metadata": {
    "ExecuteTime": {
     "end_time": "2022-06-22T11:48:33.790082Z",
     "start_time": "2022-06-22T11:48:33.761551Z"
    }
   },
   "outputs": [],
   "source": [
    "index = pd.PeriodIndex(qs, freq='Q').to_timestamp()\n",
    "index"
   ]
  },
  {
   "cell_type": "markdown",
   "id": "28a815de",
   "metadata": {},
   "source": [
    "<div style=\"background-color: rgb(144, 238, 144);\">\n",
    "<span style=\"color: rgb(0, 128, 0);\">\n",
    "\n",
    "**THUMP UP:** \n",
    "\n",
    "Yahoo! At least here we see how to convert `str` type of timemarks in something more appropriate! :)\n",
    "    \n",
    "</span>\n",
    "</div>"
   ]
  },
  {
   "cell_type": "code",
   "execution_count": null,
   "id": "8050d050",
   "metadata": {
    "ExecuteTime": {
     "end_time": "2022-06-22T11:48:33.806038Z",
     "start_time": "2022-06-22T11:48:33.791036Z"
    }
   },
   "outputs": [],
   "source": [
    "aus_production_observed = aus_production.copy()\n",
    "aus_production_observed.set_index('Quarter', inplace=True)\n",
    "aus_production_observed = aus_production_observed.Bricks\n",
    "aus_production_observed.index = index"
   ]
  },
  {
   "cell_type": "code",
   "execution_count": null,
   "id": "27a67404",
   "metadata": {
    "ExecuteTime": {
     "end_time": "2022-06-22T11:48:33.821065Z",
     "start_time": "2022-06-22T11:48:33.807039Z"
    }
   },
   "outputs": [],
   "source": [
    "aus_production_observed"
   ]
  },
  {
   "cell_type": "code",
   "execution_count": null,
   "id": "91382db2",
   "metadata": {
    "ExecuteTime": {
     "end_time": "2022-06-22T11:48:33.836951Z",
     "start_time": "2022-06-22T11:48:33.822000Z"
    }
   },
   "outputs": [],
   "source": [
    "aus_production_observed.isna().sum() / aus_production_observed.count() * 100"
   ]
  },
  {
   "cell_type": "code",
   "execution_count": null,
   "id": "2a8f90e3",
   "metadata": {
    "ExecuteTime": {
     "end_time": "2022-06-22T11:48:33.852107Z",
     "start_time": "2022-06-22T11:48:33.837948Z"
    }
   },
   "outputs": [],
   "source": [
    "aus_production_observed[aus_production_observed.isna() == True]"
   ]
  },
  {
   "cell_type": "code",
   "execution_count": null,
   "id": "d37d6764",
   "metadata": {
    "ExecuteTime": {
     "end_time": "2022-06-22T11:48:33.976018Z",
     "start_time": "2022-06-22T11:48:33.853471Z"
    }
   },
   "outputs": [],
   "source": [
    "aus_production_observed.dropna(inplace=True)"
   ]
  },
  {
   "cell_type": "markdown",
   "id": "b9d78191",
   "metadata": {},
   "source": [
    "<div style=\"background-color: rgb(255, 218, 233);\">\n",
    "<span style=\"color: rgb(206, 32, 41)\">\n",
    "\n",
    "**ERROR:** \n",
    "\n",
    "Why?! Why do you drop these rows?\n",
    "\n",
    "</span>\n",
    "</div>"
   ]
  },
  {
   "cell_type": "code",
   "execution_count": null,
   "id": "64cb1819",
   "metadata": {
    "ExecuteTime": {
     "end_time": "2022-06-22T11:48:34.052586Z",
     "start_time": "2022-06-22T11:48:33.977951Z"
    }
   },
   "outputs": [],
   "source": [
    "px.line(aus_production_observed)"
   ]
  },
  {
   "cell_type": "code",
   "execution_count": null,
   "id": "3dac9911",
   "metadata": {
    "ExecuteTime": {
     "end_time": "2022-06-22T11:48:34.067575Z",
     "start_time": "2022-06-22T11:48:34.054606Z"
    }
   },
   "outputs": [],
   "source": [
    "decomposition = seasonal_decompose(aus_production_observed, period=4, model='additive')"
   ]
  },
  {
   "cell_type": "code",
   "execution_count": null,
   "id": "4b0f6c7a",
   "metadata": {
    "ExecuteTime": {
     "end_time": "2022-06-22T11:48:34.610643Z",
     "start_time": "2022-06-22T11:48:34.069540Z"
    }
   },
   "outputs": [],
   "source": [
    "plot_decomposition(decomposition)"
   ]
  },
  {
   "cell_type": "code",
   "execution_count": null,
   "id": "c647dd8d",
   "metadata": {
    "ExecuteTime": {
     "end_time": "2022-06-22T11:48:35.093445Z",
     "start_time": "2022-06-22T11:48:34.612486Z"
    },
    "scrolled": false
   },
   "outputs": [],
   "source": [
    "correlation_analysis(aus_production_observed, decomposition)"
   ]
  },
  {
   "cell_type": "code",
   "execution_count": null,
   "id": "fc13c570",
   "metadata": {
    "ExecuteTime": {
     "end_time": "2022-06-22T11:48:35.559514Z",
     "start_time": "2022-06-22T11:48:35.094324Z"
    },
    "scrolled": false
   },
   "outputs": [],
   "source": [
    "partial_autocorrelation(aus_production_observed, decomposition)"
   ]
  },
  {
   "cell_type": "markdown",
   "id": "bc30df92",
   "metadata": {},
   "source": [
    "<div style=\"background-color: rgb(175, 219, 245);\">\n",
    "<span style=\"color:blue\">\n",
    "\n",
    "**NOTE:** \n",
    "\n",
    "To finalize the analysis of these data I recommend to analyze the distribution of residuals.`\n",
    "\n",
    "</span>\n",
    "</div>"
   ]
  },
  {
   "cell_type": "markdown",
   "id": "ef5989de",
   "metadata": {},
   "source": [
    "<div style=\"background-color: rgb(250, 230, 250);\">\n",
    "<span style=\"color: rgb(204, 51, 204)\">\n",
    "\n",
    "**DISCUSS:** \n",
    "    \n",
    "And to make it analysis not only \"painting\" I recommend you to train in the Art of Conclusions and Ideas.\n",
    "\n",
    "</span>\n",
    "</div>"
   ]
  },
  {
   "attachments": {
    "image.png": {
     "image/png": "[encoded data removed]"
    }
   },
   "cell_type": "markdown",
   "id": "06e99bf7",
   "metadata": {},
   "source": [
    "# Task 10\n",
    "\n",
    "The following time plots and ACF plots correspond to four different time series. Your task is to match each time plot in the first row with one of the ACF plots in the second row.\n",
    "\n",
    "![image.png](attachment:image.png)\n",
    "\n",
    "Answer: \n",
    "* 1 - b \n",
    "* 2 - a\n",
    "* 3 - d\n",
    "* 4 - c"
   ]
  },
  {
   "cell_type": "markdown",
   "id": "7cc3e666",
   "metadata": {},
   "source": [
    "# Task 11\n",
    "\n",
    "The aus_livestock data contains the monthly total number of pigs slaughtered in Victoria, Australia, from Jul 1972 to Dec 2018. Use filter() to extract pig slaughters in Victoria between 1990 and 1995. Use autoplot() and ACF() for this data. How do they differ from white noise? If a longer period of data is used, what difference does it make to the ACF?\n",
    "\n"
   ]
  },
  {
   "cell_type": "code",
   "execution_count": null,
   "id": "940fad73",
   "metadata": {
    "ExecuteTime": {
     "end_time": "2022-06-22T11:48:35.590566Z",
     "start_time": "2022-06-22T11:48:35.561155Z"
    }
   },
   "outputs": [],
   "source": [
    "aus_livestock = load_data('aus_livestock')"
   ]
  },
  {
   "cell_type": "code",
   "execution_count": null,
   "id": "9d834c94",
   "metadata": {
    "ExecuteTime": {
     "end_time": "2022-06-22T11:48:35.606525Z",
     "start_time": "2022-06-22T11:48:35.591565Z"
    }
   },
   "outputs": [],
   "source": [
    "aus_livestock.head()"
   ]
  },
  {
   "cell_type": "code",
   "execution_count": null,
   "id": "08a6d8e7",
   "metadata": {
    "ExecuteTime": {
     "end_time": "2022-06-22T11:48:35.622482Z",
     "start_time": "2022-06-22T11:48:35.607524Z"
    }
   },
   "outputs": [],
   "source": [
    "aus_livestock.Animal.unique()"
   ]
  },
  {
   "cell_type": "code",
   "execution_count": null,
   "id": "6ce38cee",
   "metadata": {
    "ExecuteTime": {
     "end_time": "2022-06-22T11:48:35.638439Z",
     "start_time": "2022-06-22T11:48:35.624476Z"
    }
   },
   "outputs": [],
   "source": [
    "aus_livestock.State.unique()"
   ]
  },
  {
   "cell_type": "code",
   "execution_count": null,
   "id": "a207aba8",
   "metadata": {
    "ExecuteTime": {
     "end_time": "2022-06-22T11:48:35.653943Z",
     "start_time": "2022-06-22T11:48:35.639436Z"
    }
   },
   "outputs": [],
   "source": [
    "aus_livestock[(aus_livestock['Animal'] == 'Pigs')]"
   ]
  },
  {
   "cell_type": "code",
   "execution_count": null,
   "id": "a0ed198d",
   "metadata": {
    "ExecuteTime": {
     "end_time": "2022-06-22T11:48:35.669595Z",
     "start_time": "2022-06-22T11:48:35.655395Z"
    }
   },
   "outputs": [],
   "source": [
    "aus_livestock_observed = aus_livestock[(aus_livestock['Animal'] == 'Pigs') & (aus_livestock.State == 'Victoria')]\n",
    "aus_livestock_observed.index = pd.to_datetime(aus_livestock_observed.Month, format='%Y %b')\n",
    "aus_livestock_observed = aus_livestock_observed[(aus_livestock_observed.index < '1995-01-01') & (aus_livestock_observed.index >'1990-01-01')]\n",
    "aus_livestock_observed = aus_livestock_observed.Count"
   ]
  },
  {
   "cell_type": "code",
   "execution_count": null,
   "id": "c3480a8a",
   "metadata": {
    "ExecuteTime": {
     "end_time": "2022-06-22T11:48:35.684463Z",
     "start_time": "2022-06-22T11:48:35.671590Z"
    }
   },
   "outputs": [],
   "source": [
    "aus_livestock_observed.head(3), aus_livestock_observed.tail(3)"
   ]
  },
  {
   "cell_type": "markdown",
   "id": "9198c488",
   "metadata": {},
   "source": [
    "<div style=\"background-color: rgb(144, 238, 144);\">\n",
    "<span style=\"color: rgb(0, 128, 0);\">\n",
    "\n",
    "**THUMP UP:** \n",
    "\n",
    "Transformation of date-time data is excellent!\n",
    "    \n",
    "</span>\n",
    "</div>"
   ]
  },
  {
   "cell_type": "markdown",
   "id": "b3b9b66e",
   "metadata": {},
   "source": [
    "<div style=\"background-color: rgb(255, 255, 224);\">\n",
    "<span style=\"color: rgb(186, 22, 12)\">\n",
    "\n",
    "**ALERT:** \n",
    "\n",
    "But once again - are you sure that they are monotonic and equidistant?\n",
    "\n",
    "</span>\n",
    "</div>"
   ]
  },
  {
   "cell_type": "code",
   "execution_count": null,
   "id": "90dbc3f8",
   "metadata": {
    "ExecuteTime": {
     "end_time": "2022-06-22T11:48:35.746474Z",
     "start_time": "2022-06-22T11:48:35.686519Z"
    }
   },
   "outputs": [],
   "source": [
    "px.line(aus_livestock_observed)"
   ]
  },
  {
   "cell_type": "code",
   "execution_count": null,
   "id": "c96b708b",
   "metadata": {
    "ExecuteTime": {
     "end_time": "2022-06-22T11:48:35.776609Z",
     "start_time": "2022-06-22T11:48:35.751438Z"
    }
   },
   "outputs": [],
   "source": [
    "decomposition = seasonal_decompose(aus_livestock_observed, period=12)"
   ]
  },
  {
   "cell_type": "code",
   "execution_count": null,
   "id": "42b45a82",
   "metadata": {
    "ExecuteTime": {
     "end_time": "2022-06-22T11:48:36.228876Z",
     "start_time": "2022-06-22T11:48:35.777377Z"
    }
   },
   "outputs": [],
   "source": [
    "plot_decomposition(decomposition)"
   ]
  },
  {
   "cell_type": "code",
   "execution_count": null,
   "id": "b15eea99",
   "metadata": {
    "ExecuteTime": {
     "end_time": "2022-06-22T11:48:36.757662Z",
     "start_time": "2022-06-22T11:48:36.229874Z"
    }
   },
   "outputs": [],
   "source": [
    "correlation_analysis(aus_livestock_observed, decomposition)"
   ]
  },
  {
   "cell_type": "code",
   "execution_count": null,
   "id": "372b9483",
   "metadata": {
    "ExecuteTime": {
     "end_time": "2022-06-22T11:48:37.164305Z",
     "start_time": "2022-06-22T11:48:36.759547Z"
    }
   },
   "outputs": [],
   "source": [
    "partial_autocorrelation(aus_livestock_observed, decomposition, lags=20)"
   ]
  },
  {
   "cell_type": "markdown",
   "id": "32632572",
   "metadata": {},
   "source": [
    "All residuals lay under the confidence interval, it is good, but lest observe more detailed this part "
   ]
  },
  {
   "cell_type": "markdown",
   "id": "bfd9d0b4",
   "metadata": {},
   "source": [
    "<div style=\"background-color: rgb(255, 255, 224);\">\n",
    "<span style=\"color: rgb(186, 22, 12)\">\n",
    "\n",
    "**ALERT:** \n",
    "\n",
    "The QUESTION: How should we study correlation characteristic of non-stationary processes?\n",
    "\n",
    "</span>\n",
    "</div>"
   ]
  },
  {
   "cell_type": "code",
   "execution_count": null,
   "id": "4ab0d0cb",
   "metadata": {
    "ExecuteTime": {
     "end_time": "2022-06-22T11:48:37.491469Z",
     "start_time": "2022-06-22T11:48:37.165619Z"
    }
   },
   "outputs": [],
   "source": [
    "resid = decomposition.resid\n",
    "color = 'maroon'\n",
    "\n",
    "plt.subplots(1, 2, figsize=(24, 8))\n",
    "\n",
    "plt.subplot(1, 2, 1)\n",
    "plt.plot(resid, '-', color=color)\n",
    "plt.grid(linestyle=':', color='k')\n",
    "plt.title(\"Residuals\")\n",
    "\n",
    "\n",
    "\n",
    "x_fit = np.linspace(resid.min(), resid.max(), 201)\n",
    "loc_laplace, scale_laplace = st.laplace.fit(resid.dropna())\n",
    "loc_norm, scale_norm = st.norm.fit(resid.dropna())\n",
    "# print(f\"Fitting of residuals by Laplace distribution: fitted mean = {loc:.3f}, fitted std = {scale:.3f}\")\n",
    "y_fit_laplace = st.laplace.pdf(x_fit, loc_laplace, scale_laplace)\n",
    "y_fit_norm = st.norm.pdf(x_fit, loc_norm, scale_norm)\n",
    "\n",
    "plt.subplot(1, 2, 2)\n",
    "sns.distplot(resid, color=color, bins=20, vertical=True, label=\"distribution of residuals\")\n",
    "plt.plot(y_fit_laplace, x_fit, '-b', \n",
    "         label=f\"approximation by Laplace distribution:\\n  fitted mean = {loc_laplace:.4g}, fitted std = {scale_laplace:.4g}\")\n",
    "plt.plot(y_fit_norm, x_fit, '-g', \n",
    "         label=f\"approximation by normal distribution:\\n  fitted mean = {loc_norm:.4g}, fitted std = {scale_norm:.4g}\")\n",
    "plt.legend()\n",
    "# plt.ylim(resid-0.02*y_range, y_max+0.02*y_range)\n",
    "plt.title(\"Distribution of residuals\")\n",
    "plt.grid(linestyle=':', color='k')\n",
    "\n",
    "plt.show()"
   ]
  },
  {
   "cell_type": "code",
   "execution_count": null,
   "id": "95dbd630",
   "metadata": {
    "ExecuteTime": {
     "end_time": "2022-06-22T11:48:37.677506Z",
     "start_time": "2022-06-22T11:48:37.502567Z"
    }
   },
   "outputs": [],
   "source": [
    "ecdf_resid_instance = ECDF(resid.dropna())\n",
    "resid_arr = resid.dropna().sort_values().values\n",
    "ecdf_resid = ecdf_resid_instance(resid_arr)\n",
    "\n",
    "\n",
    "cdf_norm = st.norm.cdf(resid_arr, loc=loc_norm, scale=scale_norm)\n",
    "cdf_laplace = st.laplace.cdf(resid_arr, loc=loc_laplace, scale=scale_laplace)\n",
    "\n",
    "\n",
    "mae_norm = mean_absolute_error(ecdf_resid, cdf_norm)\n",
    "mae_laplace = mean_absolute_error(ecdf_resid, cdf_laplace)\n",
    "\n",
    "\n",
    "plt.subplots(1, 1, figsize=(20, 8))\n",
    "plt.plot(resid_arr, ecdf_resid, '-', color='maroon')\n",
    "plt.plot(resid_arr, cdf_norm, '-g', \n",
    "         label=f\"Normal approx : MAE = {mae_norm:.3g}\")\n",
    "plt.plot(resid_arr, cdf_laplace, '-b', \n",
    "         label=f\"Laplace approx: MAE = {mae_laplace:.3g}\")\n",
    "plt.legend()\n",
    "plt.title(\"CDF of decomposition residuals\")\n",
    "plt.show()\n",
    "\n",
    "print(mae_norm/mae_laplace)"
   ]
  },
  {
   "cell_type": "markdown",
   "id": "32c1d189",
   "metadata": {},
   "source": [
    "<div style=\"background-color: rgb(144, 238, 144);\">\n",
    "<span style=\"color: rgb(0, 128, 0);\">\n",
    "\n",
    "**THUMP UP:** \n",
    "\n",
    "Thanks for analysis of residuals!\n",
    "    \n",
    "</span>\n",
    "</div>"
   ]
  },
  {
   "cell_type": "markdown",
   "id": "2e01a67f",
   "metadata": {},
   "source": [
    "<div style=\"background-color: rgb(175, 219, 245);\">\n",
    "<span style=\"color:blue\">\n",
    "\n",
    "**NOTE:** \n",
    "\n",
    "Conclusions are expected...\n",
    "\n",
    "</span>\n",
    "</div>"
   ]
  },
  {
   "cell_type": "markdown",
   "id": "7cea528a",
   "metadata": {},
   "source": [
    "<div style=\"background-color: rgb(250, 230, 250);\">\n",
    "<span style=\"color: rgb(204, 51, 204)\">.\n",
    "\n",
    "**DISCUSS:** All below...\n",
    "\n",
    "</span>.\n",
    "</div>"
   ]
  },
  {
   "cell_type": "code",
   "execution_count": null,
   "id": "73e25a7f",
   "metadata": {
    "ExecuteTime": {
     "end_time": "2022-06-22T11:48:37.833321Z",
     "start_time": "2022-06-22T11:48:37.679501Z"
    }
   },
   "outputs": [],
   "source": [
    "sns.distplot(resid, bins=20)"
   ]
  },
  {
   "cell_type": "code",
   "execution_count": null,
   "id": "70d381f1",
   "metadata": {
    "ExecuteTime": {
     "end_time": "2022-06-22T11:48:38.191859Z",
     "start_time": "2022-06-22T11:48:37.835314Z"
    }
   },
   "outputs": [],
   "source": [
    "sns.distplot(resid, bins=200)"
   ]
  },
  {
   "cell_type": "markdown",
   "id": "5fa68432",
   "metadata": {},
   "source": [
    "So, i think residuals looks like a normal dist, but we should mention that there is a really big std"
   ]
  },
  {
   "cell_type": "code",
   "execution_count": null,
   "id": "fdc36f6a",
   "metadata": {},
   "outputs": [],
   "source": []
  }
 ],
 "metadata": {
  "kernelspec": {
   "display_name": "Python 3 (ipykernel)",
   "language": "python",
   "name": "python3"
  },
  "language_info": {
   "codemirror_mode": {
    "name": "ipython",
    "version": 3
   },
   "file_extension": ".py",
   "mimetype": "text/x-python",
   "name": "python",
   "nbconvert_exporter": "python",
   "pygments_lexer": "ipython3",
   "version": "3.9.7"
  },
  "notify_time": "5",
  "toc": {
   "base_numbering": 1,
   "nav_menu": {},
   "number_sections": false,
   "sideBar": true,
   "skip_h1_title": false,
   "title_cell": "Table of Contents",
   "title_sidebar": "Contents",
   "toc_cell": false,
   "toc_position": {},
   "toc_section_display": true,
   "toc_window_display": false
  },
  "varInspector": {
   "cols": {
    "lenName": 16,
    "lenType": 16,
    "lenVar": 40
   },
   "kernels_config": {
    "python": {
     "delete_cmd_postfix": "",
     "delete_cmd_prefix": "del ",
     "library": "var_list.py",
     "varRefreshCmd": "print(var_dic_list())"
    },
    "r": {
     "delete_cmd_postfix": ") ",
     "delete_cmd_prefix": "rm(",
     "library": "var_list.r",
     "varRefreshCmd": "cat(var_dic_list()) "
    }
   },
   "types_to_exclude": [
    "module",
    "function",
    "builtin_function_or_method",
    "instance",
    "_Feature"
   ],
   "window_display": false
  }
 },
 "nbformat": 4,
 "nbformat_minor": 5
}
